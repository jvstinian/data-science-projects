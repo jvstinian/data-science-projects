{
 "cells": [
  {
   "cell_type": "code",
   "execution_count": 2,
   "id": "b88a79c5-c32e-4f0f-82b6-8ea9851f1dea",
   "metadata": {},
   "outputs": [],
   "source": [
    "x = 5"
   ]
  },
  {
   "cell_type": "code",
   "execution_count": 3,
   "id": "141e126b-e8b3-4d19-b491-a65756276d9c",
   "metadata": {},
   "outputs": [
    {
     "data": {
      "text/plain": [
       "8"
      ]
     },
     "metadata": {},
     "output_type": "display_data"
    }
   ],
   "source": [
    "x + 3"
   ]
  },
  {
   "cell_type": "code",
   "execution_count": 4,
   "id": "c5e25a5d-34ee-4399-8d8a-83fa61eeed5d",
   "metadata": {},
   "outputs": [
    {
     "data": {
      "text/plain": [
       "Hello!"
      ]
     },
     "metadata": {},
     "output_type": "display_data"
    }
   ],
   "source": [
    "putStrLn \"Hello!\""
   ]
  },
  {
   "cell_type": "code",
   "execution_count": 4,
   "id": "2e66b983-9a39-4174-8142-1f6050df5a31",
   "metadata": {},
   "outputs": [],
   "source": [
    "fib :: [Integer]\n",
    "fib = fibhelper 0 1 \n",
    "  where fibhelper a b = a:fibhelper b (a+b)"
   ]
  },
  {
   "cell_type": "code",
   "execution_count": 5,
   "id": "7fd20358-5486-4baf-9368-6f1ea828aaaa",
   "metadata": {},
   "outputs": [
    {
     "data": {
      "text/plain": [
       "[0]"
      ]
     },
     "metadata": {},
     "output_type": "display_data"
    }
   ],
   "source": [
    "take 1 fib"
   ]
  },
  {
   "cell_type": "code",
   "execution_count": 6,
   "id": "d350c06d-8a65-482e-9178-9a6d556c5aae",
   "metadata": {},
   "outputs": [
    {
     "data": {
      "text/plain": [
       "[0,1,1,2,3,5,8,13,21,34]"
      ]
     },
     "metadata": {},
     "output_type": "display_data"
    }
   ],
   "source": [
    "take 10 fib"
   ]
  },
  {
   "cell_type": "code",
   "execution_count": 7,
   "id": "29755b64-79fa-4e01-861b-40a4ba0e770d",
   "metadata": {},
   "outputs": [
    {
     "data": {
      "text/plain": [
       "[0,1,1,2,3,5,8,13,21,34,55,89,144,233,377,610,987,1597,2584,4181,6765,10946,17711,28657,46368,75025,121393,196418,317811,514229,832040,1346269,2178309,3524578,5702887,9227465,14930352,24157817,39088169,63245986,102334155,165580141,267914296,433494437,701408733,1134903170,1836311903,2971215073,4807526976,7778742049,12586269025,20365011074,32951280099,53316291173,86267571272,139583862445,225851433717,365435296162,591286729879,956722026041,1548008755920,2504730781961,4052739537881,6557470319842,10610209857723,17167680177565,27777890035288,44945570212853,72723460248141,117669030460994,190392490709135,308061521170129,498454011879264,806515533049393,1304969544928657,2111485077978050,3416454622906707,5527939700884757,8944394323791464,14472334024676221,23416728348467685,37889062373143906,61305790721611591,99194853094755497,160500643816367088,259695496911122585,420196140727489673,679891637638612258,1100087778366101931,1779979416004714189,2880067194370816120,4660046610375530309,7540113804746346429,12200160415121876738,19740274219868223167,31940434634990099905,51680708854858323072,83621143489848422977,135301852344706746049,218922995834555169026]"
      ]
     },
     "metadata": {},
     "output_type": "display_data"
    }
   ],
   "source": [
    "take 100 fib"
   ]
  },
  {
   "cell_type": "code",
   "execution_count": 8,
   "id": "5751d6de-e37e-4989-8086-8d9c0af1378d",
   "metadata": {},
   "outputs": [
    {
     "data": {
      "text/plain": [
       "43466557686937456435688527675040625802564660517371780402481729089536555417949051890403879840079255169295922593080322634775209689623239873322471161642996440906533187938298969649928516003704476137795166849228875"
      ]
     },
     "metadata": {},
     "output_type": "display_data"
    }
   ],
   "source": [
    "fib !! 1000"
   ]
  },
  {
   "cell_type": "code",
   "execution_count": null,
   "id": "e899843d-14f6-47a0-92d8-cb19efb101c0",
   "metadata": {},
   "outputs": [],
   "source": []
  },
  {
   "cell_type": "code",
   "execution_count": 14,
   "id": "2a619282-fce4-4f93-bd60-00112adaecdd",
   "metadata": {},
   "outputs": [],
   "source": [
    "import Statistics.Regression.Logistic (regress, Model(..))"
   ]
  },
  {
   "cell_type": "code",
   "execution_count": 15,
   "id": "5437b683-c4a0-4abc-a422-dd5242f00089",
   "metadata": {},
   "outputs": [
    {
     "data": {
      "text/html": [
       "<style>/* Styles used for the Hoogle display in the pager */\n",
       ".hoogle-doc {\n",
       "display: block;\n",
       "padding-bottom: 1.3em;\n",
       "padding-left: 0.4em;\n",
       "}\n",
       ".hoogle-code {\n",
       "display: block;\n",
       "font-family: monospace;\n",
       "white-space: pre;\n",
       "}\n",
       ".hoogle-text {\n",
       "display: block;\n",
       "}\n",
       ".hoogle-name {\n",
       "color: green;\n",
       "font-weight: bold;\n",
       "}\n",
       ".hoogle-head {\n",
       "font-weight: bold;\n",
       "}\n",
       ".hoogle-sub {\n",
       "display: block;\n",
       "margin-left: 0.4em;\n",
       "}\n",
       ".hoogle-package {\n",
       "font-weight: bold;\n",
       "font-style: italic;\n",
       "}\n",
       ".hoogle-module {\n",
       "font-weight: bold;\n",
       "}\n",
       ".hoogle-class {\n",
       "font-weight: bold;\n",
       "}\n",
       "\n",
       ".get-type {\n",
       "color: green;\n",
       "font-weight: bold;\n",
       "font-family: monospace;\n",
       "display: block;\n",
       "white-space: pre-wrap;\n",
       "}\n",
       ".show-type {\n",
       "color: green;\n",
       "font-weight: bold;\n",
       "font-family: monospace;\n",
       "margin-left: 1em;\n",
       "}\n",
       ".mono {\n",
       "font-family: monospace;\n",
       "display: block;\n",
       "}\n",
       ".err-msg {\n",
       "color: red;\n",
       "font-style: italic;\n",
       "font-family: monospace;\n",
       "white-space: pre;\n",
       "display: block;\n",
       "}\n",
       "#unshowable {\n",
       "color: red;\n",
       "font-weight: bold;\n",
       "}\n",
       ".err-msg.in.collapse {\n",
       "padding-top: 0.7em;\n",
       "}\n",
       "\n",
       ".highlight-code {\n",
       "white-space: pre;\n",
       "font-family: monospace;\n",
       "}\n",
       "\n",
       ".suggestion-warning { \n",
       "font-weight: bold;\n",
       "color: rgb(200, 130, 0);\n",
       "}\n",
       ".suggestion-error { \n",
       "font-weight: bold;\n",
       "color: red;\n",
       "}\n",
       ".suggestion-name {\n",
       "font-weight: bold;\n",
       "}\n",
       "\n",
       "</style><div class=\"suggestion-name\" style=\"clear:both;\">Use camelCase</div><div class=\"suggestion-row\" style=\"float: left;\"><div class=\"suggestion-warning\">Found:</div><div class=\"highlight-code\" id=\"haskell\">ys_ex :: [Double]</div></div><div class=\"suggestion-row\" style=\"float: left;\"><div class=\"suggestion-warning\">Why Not:</div><div class=\"highlight-code\" id=\"haskell\">ysEx :: [Double]</div></div><div class=\"suggestion-name\" style=\"clear:both;\">Use camelCase</div><div class=\"suggestion-row\" style=\"float: left;\"><div class=\"suggestion-warning\">Found:</div><div class=\"highlight-code\" id=\"haskell\">xs_ex :: [[Double]]</div></div><div class=\"suggestion-row\" style=\"float: left;\"><div class=\"suggestion-warning\">Why Not:</div><div class=\"highlight-code\" id=\"haskell\">xsEx :: [[Double]]</div></div><div class=\"suggestion-name\" style=\"clear:both;\">Redundant $</div><div class=\"suggestion-row\" style=\"float: left;\"><div class=\"suggestion-warning\">Found:</div><div class=\"highlight-code\" id=\"haskell\">unzip\n",
       "  $ [(1, [1, 1]), (0, [- 1, - 2]), (1, [2, 5]), (0, [- 1, 1]),\n",
       "     (1, [2, - 1]), (1, [1, - 10]), (0, [- 0.1, 30])]</div></div><div class=\"suggestion-row\" style=\"float: left;\"><div class=\"suggestion-warning\">Why Not:</div><div class=\"highlight-code\" id=\"haskell\">unzip\n",
       "  [(1, [1, 1]), (0, [- 1, - 2]), (1, [2, 5]), (0, [- 1, 1]),\n",
       "   (1, [2, - 1]), (1, [1, - 10]), (0, [- 0.1, 30])]</div></div>"
      ],
      "text/plain": [
       "Line 1: Use camelCase\n",
       "Found:\n",
       "ys_ex :: [Double]\n",
       "Why not:\n",
       "ysEx :: [Double]Line 2: Use camelCase\n",
       "Found:\n",
       "xs_ex :: [[Double]]\n",
       "Why not:\n",
       "xsEx :: [[Double]]Line 3: Redundant $\n",
       "Found:\n",
       "unzip\n",
       "  $ [(1, [1, 1]), (0, [- 1, - 2]), (1, [2, 5]), (0, [- 1, 1]),\n",
       "     (1, [2, - 1]), (1, [1, - 10]), (0, [- 0.1, 30])]\n",
       "Why not:\n",
       "unzip\n",
       "  [(1, [1, 1]), (0, [- 1, - 2]), (1, [2, 5]), (0, [- 1, 1]),\n",
       "   (1, [2, - 1]), (1, [1, - 10]), (0, [- 0.1, 30])]"
      ]
     },
     "metadata": {},
     "output_type": "display_data"
    }
   ],
   "source": [
    "ys_ex :: [Double]\n",
    "xs_ex :: [[Double]]\n",
    "(ys_ex, xs_ex) = unzip $\n",
    "  [ (1, [1, 1])\n",
    "  , (0, [-1, -2])\n",
    "  , (1, [2, 5])\n",
    "  , (0, [-1, 1])\n",
    "  , (1, [2, -1])\n",
    "  , (1, [1, -10])\n",
    "  , (0, [-0.1, 30])\n",
    "  ]"
   ]
  },
  {
   "cell_type": "code",
   "execution_count": 16,
   "id": "53d54faa-6178-4f70-8ec4-19cb8cc34b9a",
   "metadata": {},
   "outputs": [],
   "source": [
    "lr = 0.1 :: Double\n",
    "\n",
    "coef0 :: [Double]\n",
    "coef0 = [1, 0.1]"
   ]
  },
  {
   "cell_type": "code",
   "execution_count": 17,
   "id": "9b39c28b-3d71-4b8b-8070-7c4380090892",
   "metadata": {},
   "outputs": [],
   "source": [
    "res :: [Model [] Double]\n",
    "res = regress lr ys_ex xs_ex coef0"
   ]
  },
  {
   "cell_type": "code",
   "execution_count": 19,
   "id": "f87a6672-ec22-45bc-aa06-fce74098251a",
   "metadata": {},
   "outputs": [
    {
     "data": {
      "text/plain": [
       "[[0.6621903328906451,-0.2376259936399672],[0.3510174653856471,-0.548615225159959],[0.5140826519194026,-0.38545823937206614],[0.4547607470023779,-0.44473424934565764],[0.4526224749389225,-0.4468266288072586]]"
      ]
     },
     "metadata": {},
     "output_type": "display_data"
    }
   ],
   "source": [
    "take 5 res"
   ]
  },
  {
   "cell_type": "code",
   "execution_count": 20,
   "id": "cd2d7c0c-1281-40b1-b51e-15e325b420a1",
   "metadata": {},
   "outputs": [
    {
     "data": {
      "text/plain": [
       "[0.4531229644786555,-0.44605083282286245]"
      ]
     },
     "metadata": {},
     "output_type": "display_data"
    }
   ],
   "source": [
    "res !! 10"
   ]
  },
  {
   "cell_type": "code",
   "execution_count": 21,
   "id": "7f9215ca-a1bc-440d-a773-e1a9b2398825",
   "metadata": {},
   "outputs": [
    {
     "data": {
      "text/plain": [
       "[0.45115087413886656,-0.4434468452567808]"
      ]
     },
     "metadata": {},
     "output_type": "display_data"
    }
   ],
   "source": [
    "res !! 100"
   ]
  },
  {
   "cell_type": "code",
   "execution_count": 22,
   "id": "4f98d094-4c57-464f-b28b-394b4e9ae703",
   "metadata": {},
   "outputs": [
    {
     "data": {
      "text/plain": [
       "[0.4279910410646619,-0.4202875851390346]"
      ]
     },
     "metadata": {},
     "output_type": "display_data"
    }
   ],
   "source": [
    "res !! 1000"
   ]
  },
  {
   "cell_type": "code",
   "execution_count": 23,
   "id": "b15bc123-ba3f-4b6d-970e-3ccebfd64049",
   "metadata": {},
   "outputs": [
    {
     "data": {
      "text/plain": [
       "[0.2530851350828416,-0.24539275629727425]"
      ]
     },
     "metadata": {},
     "output_type": "display_data"
    }
   ],
   "source": [
    "res !! 10000"
   ]
  },
  {
   "cell_type": "code",
   "execution_count": 29,
   "id": "aad076e1-566e-4f52-a7ec-d25b98c7ea9a",
   "metadata": {},
   "outputs": [
    {
     "data": {
      "text/plain": [
       "[5.079014367614155e-3,2.629782492165723e-3]"
      ]
     },
     "metadata": {},
     "output_type": "display_data"
    }
   ],
   "source": [
    "res !! 100000"
   ]
  },
  {
   "cell_type": "code",
   "execution_count": 30,
   "id": "ace370b7-04eb-4887-b25f-0a7a790cf774",
   "metadata": {},
   "outputs": [
    {
     "data": {
      "text/plain": [
       "[3.918333654161619e-3,3.790552171899677e-3]"
      ]
     },
     "metadata": {},
     "output_type": "display_data"
    }
   ],
   "source": [
    "res !! 150000"
   ]
  },
  {
   "cell_type": "code",
   "execution_count": 28,
   "id": "e2ca465b-9ef6-47e2-8fab-923b2de1eb56",
   "metadata": {},
   "outputs": [
    {
     "data": {
      "text/plain": [
       "[3.904465554552823e-3,3.8044256855893567e-3]"
      ]
     },
     "metadata": {},
     "output_type": "display_data"
    }
   ],
   "source": [
    "res !! 200000"
   ]
  },
  {
   "cell_type": "code",
   "execution_count": 27,
   "id": "744024ca-63b4-4349-a67c-403763391821",
   "metadata": {},
   "outputs": [
    {
     "data": {
      "text/plain": [
       "[3.904465554552823e-3,3.8044256855893567e-3]"
      ]
     },
     "metadata": {},
     "output_type": "display_data"
    }
   ],
   "source": [
    "res !! 500000"
   ]
  },
  {
   "cell_type": "code",
   "execution_count": 25,
   "id": "6a0e8e09-77e3-43e8-a32a-773bfa8ede30",
   "metadata": {},
   "outputs": [
    {
     "data": {
      "text/plain": [
       "[3.904465554552823e-3,3.8044256855893567e-3]"
      ]
     },
     "metadata": {},
     "output_type": "display_data"
    }
   ],
   "source": [
    "res !! 1000000"
   ]
  },
  {
   "cell_type": "code",
   "execution_count": 36,
   "id": "9125f7e2-2ad1-4c6a-959b-523e03b37640",
   "metadata": {},
   "outputs": [],
   "source": [
    "coefs = res !! 1000000"
   ]
  },
  {
   "cell_type": "code",
   "execution_count": 43,
   "id": "59c7255b-f211-4ffb-9b0e-4d91c8c3d91c",
   "metadata": {},
   "outputs": [],
   "source": [
    "logisticFunction :: Double -> Double\n",
    "logisticFunction x = exp x / (1 + exp x)"
   ]
  },
  {
   "cell_type": "code",
   "execution_count": 44,
   "id": "addcabba-63c4-46d8-9b65-d99ea5c47b05",
   "metadata": {},
   "outputs": [
    {
     "data": {
      "text/plain": [
       "[0.5019272132660024,0.49712170256324173,0.5067073625000186,0.49997499003277995,0.5010011250180373,0.49146588105289474,0.5284049639373122]"
      ]
     },
     "metadata": {},
     "output_type": "display_data"
    }
   ],
   "source": [
    "rawPredictions = map (logisticFunction . sum . zipWith (*) coefs) xs_ex\n",
    "rawPredictions"
   ]
  },
  {
   "cell_type": "code",
   "execution_count": null,
   "id": "353bfa06-e2c7-4d09-bbfa-917baf4f7fa1",
   "metadata": {},
   "outputs": [
    {
     "data": {
      "text/plain": [
       "[(1.0,True),(0.0,False),(1.0,True),(0.0,False),(1.0,True),(1.0,False),(0.0,True)]"
      ]
     },
     "metadata": {},
     "output_type": "display_data"
    }
   ],
   "source": [
    "catPredictions = map (>= 0.5) rawPredictions\n",
    "zip ys_ex catPredictions"
   ]
  },
  {
   "cell_type": "code",
   "execution_count": null,
   "id": "db627e9a-00c5-40b8-b8af-5eafe4c990e1",
   "metadata": {},
   "outputs": [],
   "source": []
  },
  {
   "cell_type": "code",
   "execution_count": 1,
   "id": "9b5aa85f-0cd6-491d-9829-0291fdfb9738",
   "metadata": {},
   "outputs": [
    {
     "data": {
      "text/html": [
       "<style>/* Styles used for the Hoogle display in the pager */\n",
       ".hoogle-doc {\n",
       "display: block;\n",
       "padding-bottom: 1.3em;\n",
       "padding-left: 0.4em;\n",
       "}\n",
       ".hoogle-code {\n",
       "display: block;\n",
       "font-family: monospace;\n",
       "white-space: pre;\n",
       "}\n",
       ".hoogle-text {\n",
       "display: block;\n",
       "}\n",
       ".hoogle-name {\n",
       "color: green;\n",
       "font-weight: bold;\n",
       "}\n",
       ".hoogle-head {\n",
       "font-weight: bold;\n",
       "}\n",
       ".hoogle-sub {\n",
       "display: block;\n",
       "margin-left: 0.4em;\n",
       "}\n",
       ".hoogle-package {\n",
       "font-weight: bold;\n",
       "font-style: italic;\n",
       "}\n",
       ".hoogle-module {\n",
       "font-weight: bold;\n",
       "}\n",
       ".hoogle-class {\n",
       "font-weight: bold;\n",
       "}\n",
       "\n",
       ".get-type {\n",
       "color: green;\n",
       "font-weight: bold;\n",
       "font-family: monospace;\n",
       "display: block;\n",
       "white-space: pre-wrap;\n",
       "}\n",
       ".show-type {\n",
       "color: green;\n",
       "font-weight: bold;\n",
       "font-family: monospace;\n",
       "margin-left: 1em;\n",
       "}\n",
       ".mono {\n",
       "font-family: monospace;\n",
       "display: block;\n",
       "}\n",
       ".err-msg {\n",
       "color: red;\n",
       "font-style: italic;\n",
       "font-family: monospace;\n",
       "white-space: pre;\n",
       "display: block;\n",
       "}\n",
       "#unshowable {\n",
       "color: red;\n",
       "font-weight: bold;\n",
       "}\n",
       ".err-msg.in.collapse {\n",
       "padding-top: 0.7em;\n",
       "}\n",
       "\n",
       ".highlight-code {\n",
       "white-space: pre;\n",
       "font-family: monospace;\n",
       "}\n",
       "\n",
       ".suggestion-warning { \n",
       "font-weight: bold;\n",
       "color: rgb(200, 130, 0);\n",
       "}\n",
       ".suggestion-error { \n",
       "font-weight: bold;\n",
       "color: red;\n",
       "}\n",
       ".suggestion-name {\n",
       "font-weight: bold;\n",
       "}\n",
       "\n",
       "</style><div class=\"suggestion-name\" style=\"clear:both;\">Redundant bracket</div><div class=\"suggestion-row\" style=\"float: left;\"><div class=\"suggestion-warning\">Found:</div><div class=\"highlight-code\" id=\"haskell\">(sin (x * 3.14159 / 45) + 1) / 2 * (sin (x * 3.14159 / 5))</div></div><div class=\"suggestion-row\" style=\"float: left;\"><div class=\"suggestion-warning\">Why Not:</div><div class=\"highlight-code\" id=\"haskell\">(sin (x * 3.14159 / 45) + 1) / 2 * sin (x * 3.14159 / 5)</div></div>"
      ],
      "text/plain": [
       "Line 6: Redundant bracket\n",
       "Found:\n",
       "(sin (x * 3.14159 / 45) + 1) / 2 * (sin (x * 3.14159 / 5))\n",
       "Why not:\n",
       "(sin (x * 3.14159 / 45) + 1) / 2 * sin (x * 3.14159 / 5)"
      ]
     },
     "metadata": {},
     "output_type": "display_data"
    }
   ],
   "source": [
    "import Graphics.Rendering.Chart.Easy\n",
    "-- import Graphics.Rendering.Chart.Backend.Cairo\n",
    "import Graphics.Rendering.Chart.Backend.Diagrams(toFile)\n",
    "\n",
    "signal :: [Double] -> [(Double,Double)]\n",
    "signal xs = [ (x,(sin (x*3.14159/45) + 1) / 2 * (sin (x*3.14159/5))) | x <- xs ]"
   ]
  },
  {
   "cell_type": "code",
   "execution_count": 6,
   "id": "b26bd6b8-f6b1-427e-9006-96233d3883db",
   "metadata": {},
   "outputs": [
    {
     "data": {
      "text/html": [
       "<style>/* Styles used for the Hoogle display in the pager */\n",
       ".hoogle-doc {\n",
       "display: block;\n",
       "padding-bottom: 1.3em;\n",
       "padding-left: 0.4em;\n",
       "}\n",
       ".hoogle-code {\n",
       "display: block;\n",
       "font-family: monospace;\n",
       "white-space: pre;\n",
       "}\n",
       ".hoogle-text {\n",
       "display: block;\n",
       "}\n",
       ".hoogle-name {\n",
       "color: green;\n",
       "font-weight: bold;\n",
       "}\n",
       ".hoogle-head {\n",
       "font-weight: bold;\n",
       "}\n",
       ".hoogle-sub {\n",
       "display: block;\n",
       "margin-left: 0.4em;\n",
       "}\n",
       ".hoogle-package {\n",
       "font-weight: bold;\n",
       "font-style: italic;\n",
       "}\n",
       ".hoogle-module {\n",
       "font-weight: bold;\n",
       "}\n",
       ".hoogle-class {\n",
       "font-weight: bold;\n",
       "}\n",
       "\n",
       ".get-type {\n",
       "color: green;\n",
       "font-weight: bold;\n",
       "font-family: monospace;\n",
       "display: block;\n",
       "white-space: pre-wrap;\n",
       "}\n",
       ".show-type {\n",
       "color: green;\n",
       "font-weight: bold;\n",
       "font-family: monospace;\n",
       "margin-left: 1em;\n",
       "}\n",
       ".mono {\n",
       "font-family: monospace;\n",
       "display: block;\n",
       "}\n",
       ".err-msg {\n",
       "color: red;\n",
       "font-style: italic;\n",
       "font-family: monospace;\n",
       "white-space: pre;\n",
       "display: block;\n",
       "}\n",
       "#unshowable {\n",
       "color: red;\n",
       "font-weight: bold;\n",
       "}\n",
       ".err-msg.in.collapse {\n",
       "padding-top: 0.7em;\n",
       "}\n",
       "\n",
       ".highlight-code {\n",
       "white-space: pre;\n",
       "font-family: monospace;\n",
       "}\n",
       "\n",
       ".suggestion-warning { \n",
       "font-weight: bold;\n",
       "color: rgb(200, 130, 0);\n",
       "}\n",
       ".suggestion-error { \n",
       "font-weight: bold;\n",
       "color: red;\n",
       "}\n",
       ".suggestion-name {\n",
       "font-weight: bold;\n",
       "}\n",
       "\n",
       "</style><div class=\"suggestion-name\" style=\"clear:both;\">Redundant bracket</div><div class=\"suggestion-row\" style=\"float: left;\"><div class=\"suggestion-warning\">Found:</div><div class=\"highlight-code\" id=\"haskell\">(0.5)</div></div><div class=\"suggestion-row\" style=\"float: left;\"><div class=\"suggestion-warning\">Why Not:</div><div class=\"highlight-code\" id=\"haskell\">0.5</div></div>"
      ],
      "text/plain": [
       "Line 4: Redundant bracket\n",
       "Found:\n",
       "(0.5)\n",
       "Why not:\n",
       "0.5"
      ]
     },
     "metadata": {},
     "output_type": "display_data"
    },
    {
     "data": {
      "text/plain": []
     },
     "metadata": {},
     "output_type": "display_data"
    }
   ],
   "source": [
    "toFile def \"example1_big.png\" $ do\n",
    "    layout_title .= \"Amplitude Modulation\"\n",
    "    setColors [opaque blue, opaque red]\n",
    "    plot (line \"am\" [signal [0,(0.5)..400]])\n",
    "    plot (points \"am points\" (signal [0,7..400]))"
   ]
  },
  {
   "cell_type": "markdown",
   "id": "d3182fe6-f478-43a6-bfc2-279a9a66a9ca",
   "metadata": {},
   "source": [
    "The following example was taken from \n",
    "[nbviewer iHaskell notebook](https://nbviewer.org/github/gibiansky/IHaskell/blob/master/notebooks/IHaskell.ipynb)"
   ]
  },
  {
   "cell_type": "code",
   "execution_count": 1,
   "id": "9d3020ab-a29c-4bf7-9c36-59b9d66d71a4",
   "metadata": {},
   "outputs": [],
   "source": [
    "-- I don't think this is needed for the pie chart\n",
    "import IHaskell.Display"
   ]
  },
  {
   "cell_type": "code",
   "execution_count": 1,
   "id": "7b6ea35e-4142-4c5b-ad94-87d19998ca74",
   "metadata": {},
   "outputs": [],
   "source": [
    "import Graphics.Rendering.Chart \n",
    "import Data.Default.Class\n",
    "import Control.Lens\n"
   ]
  },
  {
   "cell_type": "code",
   "execution_count": 2,
   "id": "2964b920-cab6-4e71-b245-bd0a05c880b3",
   "metadata": {},
   "outputs": [],
   "source": [
    "let values = [\n",
    "     (\"Mexico City\"  , 19.2, 0),\n",
    "     (\"Mumbai\"       , 12.9, 10), \n",
    "     (\"Sydney\"       , 4.3,  0),\n",
    "     (\"London\"       , 8.3,  0), \n",
    "     (\"New York\"     , 8.2,  25)]\n",
    "     \n",
    "pitem (s, v, o) = pitem_value .~ v\n",
    "                $ pitem_label .~ s\n",
    "                $ pitem_offset .~ o\n",
    "                $ def  \n"
   ]
  },
  {
   "cell_type": "code",
   "execution_count": 3,
   "id": "0235d0ce-852e-4cc9-969d-a4a8ee8cf3a0",
   "metadata": {},
   "outputs": [
    {
     "data": {
      "image/png": "[encoded data removed]",
      "image/svg+xml": [
       "<?xml version=\"1.0\" encoding=\"UTF-8\"?>\n",
       "<svg xmlns=\"http://www.w3.org/2000/svg\" xmlns:xlink=\"http://www.w3.org/1999/xlink\" width=\"450\" height=\"300\" viewBox=\"0 0 450 300\">\n",
       "<defs>\n",
       "<g>\n",
       "<g id=\"glyph-2024-07-0457018.411355576s-0-0\">\n",
       "<path d=\"M 5.390625 -6.09375 C 5.972656 -6.09375 6.390625 -6.203125 6.640625 -6.421875 C 6.898438 -6.640625 7.03125 -7 7.03125 -7.5 C 7.03125 -8 6.898438 -8.351562 6.640625 -8.5625 C 6.390625 -8.78125 5.972656 -8.890625 5.390625 -8.890625 L 4.203125 -8.890625 L 4.203125 -6.09375 Z M 4.203125 -4.140625 L 4.203125 0 L 1.375 0 L 1.375 -10.9375 L 5.6875 -10.9375 C 7.125 -10.9375 8.175781 -10.691406 8.84375 -10.203125 C 9.519531 -9.722656 9.859375 -8.960938 9.859375 -7.921875 C 9.859375 -7.191406 9.679688 -6.59375 9.328125 -6.125 C 8.984375 -5.664062 8.457031 -5.328125 7.75 -5.109375 C 8.132812 -5.023438 8.476562 -4.828125 8.78125 -4.515625 C 9.09375 -4.203125 9.40625 -3.734375 9.71875 -3.109375 L 11.25 0 L 8.25 0 L 6.921875 -2.71875 C 6.648438 -3.257812 6.375 -3.628906 6.09375 -3.828125 C 5.820312 -4.035156 5.457031 -4.140625 5 -4.140625 Z M 4.203125 -4.140625 \"/>\n",
       "</g>\n",
       "<g id=\"glyph-2024-07-0457018.411355576s-0-1\">\n",
       "<path d=\"M 9.453125 -4.125 L 9.453125 -3.375 L 3.3125 -3.375 C 3.375 -2.757812 3.597656 -2.296875 3.984375 -1.984375 C 4.367188 -1.679688 4.898438 -1.53125 5.578125 -1.53125 C 6.128906 -1.53125 6.691406 -1.609375 7.265625 -1.765625 C 7.847656 -1.929688 8.445312 -2.179688 9.0625 -2.515625 L 9.0625 -0.5 C 8.4375 -0.257812 7.8125 -0.0820312 7.1875 0.03125 C 6.570312 0.15625 5.957031 0.21875 5.34375 0.21875 C 3.851562 0.21875 2.695312 -0.15625 1.875 -0.90625 C 1.050781 -1.664062 0.640625 -2.726562 0.640625 -4.09375 C 0.640625 -5.425781 1.039062 -6.476562 1.84375 -7.25 C 2.65625 -8.019531 3.769531 -8.40625 5.1875 -8.40625 C 6.476562 -8.40625 7.507812 -8.015625 8.28125 -7.234375 C 9.0625 -6.460938 9.453125 -5.425781 9.453125 -4.125 Z M 6.75 -5 C 6.75 -5.5 6.601562 -5.898438 6.3125 -6.203125 C 6.019531 -6.503906 5.640625 -6.65625 5.171875 -6.65625 C 4.671875 -6.65625 4.257812 -6.507812 3.9375 -6.21875 C 3.625 -5.9375 3.425781 -5.53125 3.34375 -5 Z M 6.75 -5 \"/>\n",
       "</g>\n",
       "<g id=\"glyph-2024-07-0457018.411355576s-0-2\">\n",
       "<path d=\"M 1.265625 -11.390625 L 3.875 -11.390625 L 3.875 0 L 1.265625 0 Z M 1.265625 -11.390625 \"/>\n",
       "</g>\n",
       "<g id=\"glyph-2024-07-0457018.411355576s-0-3\">\n",
       "<path d=\"M 4.9375 -3.6875 C 4.382812 -3.6875 3.96875 -3.59375 3.6875 -3.40625 C 3.414062 -3.226562 3.28125 -2.957031 3.28125 -2.59375 C 3.28125 -2.257812 3.390625 -2 3.609375 -1.8125 C 3.835938 -1.625 4.148438 -1.53125 4.546875 -1.53125 C 5.035156 -1.53125 5.445312 -1.707031 5.78125 -2.0625 C 6.125 -2.414062 6.296875 -2.859375 6.296875 -3.390625 L 6.296875 -3.6875 Z M 8.9375 -4.6875 L 8.9375 0 L 6.296875 0 L 6.296875 -1.21875 C 5.941406 -0.71875 5.546875 -0.351562 5.109375 -0.125 C 4.671875 0.101562 4.140625 0.21875 3.515625 0.21875 C 2.660156 0.21875 1.96875 -0.03125 1.4375 -0.53125 C 0.90625 -1.03125 0.640625 -1.675781 0.640625 -2.46875 C 0.640625 -3.425781 0.96875 -4.128906 1.625 -4.578125 C 2.289062 -5.023438 3.332031 -5.25 4.75 -5.25 L 6.296875 -5.25 L 6.296875 -5.453125 C 6.296875 -5.867188 6.128906 -6.171875 5.796875 -6.359375 C 5.472656 -6.554688 4.96875 -6.65625 4.28125 -6.65625 C 3.71875 -6.65625 3.191406 -6.597656 2.703125 -6.484375 C 2.222656 -6.378906 1.773438 -6.210938 1.359375 -5.984375 L 1.359375 -7.984375 C 1.921875 -8.117188 2.484375 -8.222656 3.046875 -8.296875 C 3.617188 -8.367188 4.1875 -8.40625 4.75 -8.40625 C 6.226562 -8.40625 7.296875 -8.113281 7.953125 -7.53125 C 8.609375 -6.945312 8.9375 -6 8.9375 -4.6875 Z M 8.9375 -4.6875 \"/>\n",
       "</g>\n",
       "<g id=\"glyph-2024-07-0457018.411355576s-0-4\">\n",
       "<path d=\"M 4.125 -10.53125 L 4.125 -8.203125 L 6.828125 -8.203125 L 6.828125 -6.328125 L 4.125 -6.328125 L 4.125 -2.84375 C 4.125 -2.46875 4.195312 -2.210938 4.34375 -2.078125 C 4.5 -1.941406 4.800781 -1.875 5.25 -1.875 L 6.59375 -1.875 L 6.59375 0 L 4.34375 0 C 3.3125 0 2.578125 -0.210938 2.140625 -0.640625 C 1.710938 -1.078125 1.5 -1.8125 1.5 -2.84375 L 1.5 -6.328125 L 0.203125 -6.328125 L 0.203125 -8.203125 L 1.5 -8.203125 L 1.5 -10.53125 Z M 4.125 -10.53125 \"/>\n",
       "</g>\n",
       "<g id=\"glyph-2024-07-0457018.411355576s-0-5\">\n",
       "<path d=\"M 1.265625 -8.203125 L 3.875 -8.203125 L 3.875 0 L 1.265625 0 Z M 1.265625 -11.390625 L 3.875 -11.390625 L 3.875 -9.265625 L 1.265625 -9.265625 Z M 1.265625 -11.390625 \"/>\n",
       "</g>\n",
       "<g id=\"glyph-2024-07-0457018.411355576s-0-6\">\n",
       "<path d=\"M 0.234375 -8.203125 L 2.84375 -8.203125 L 4.890625 -2.53125 L 6.921875 -8.203125 L 9.5625 -8.203125 L 6.328125 0 L 3.453125 0 Z M 0.234375 -8.203125 \"/>\n",
       "</g>\n",
       "<g id=\"glyph-2024-07-0457018.411355576s-0-7\">\n",
       "</g>\n",
       "<g id=\"glyph-2024-07-0457018.411355576s-0-8\">\n",
       "<path d=\"M 1.375 -10.9375 L 6.0625 -10.9375 C 7.445312 -10.9375 8.507812 -10.625 9.25 -10 C 10 -9.382812 10.375 -8.507812 10.375 -7.375 C 10.375 -6.21875 10 -5.332031 9.25 -4.71875 C 8.507812 -4.101562 7.445312 -3.796875 6.0625 -3.796875 L 4.203125 -3.796875 L 4.203125 0 L 1.375 0 Z M 4.203125 -8.890625 L 4.203125 -5.84375 L 5.75 -5.84375 C 6.300781 -5.84375 6.722656 -5.972656 7.015625 -6.234375 C 7.316406 -6.503906 7.46875 -6.882812 7.46875 -7.375 C 7.46875 -7.851562 7.316406 -8.222656 7.015625 -8.484375 C 6.722656 -8.753906 6.300781 -8.890625 5.75 -8.890625 Z M 4.203125 -8.890625 \"/>\n",
       "</g>\n",
       "<g id=\"glyph-2024-07-0457018.411355576s-0-9\">\n",
       "<path d=\"M 5.15625 -6.53125 C 4.582031 -6.53125 4.140625 -6.320312 3.828125 -5.90625 C 3.523438 -5.488281 3.375 -4.882812 3.375 -4.09375 C 3.375 -3.3125 3.523438 -2.707031 3.828125 -2.28125 C 4.140625 -1.863281 4.582031 -1.65625 5.15625 -1.65625 C 5.726562 -1.65625 6.164062 -1.863281 6.46875 -2.28125 C 6.769531 -2.707031 6.921875 -3.3125 6.921875 -4.09375 C 6.921875 -4.882812 6.769531 -5.488281 6.46875 -5.90625 C 6.164062 -6.320312 5.726562 -6.53125 5.15625 -6.53125 Z M 5.15625 -8.40625 C 6.570312 -8.40625 7.675781 -8.019531 8.46875 -7.25 C 9.257812 -6.488281 9.65625 -5.4375 9.65625 -4.09375 C 9.65625 -2.75 9.257812 -1.691406 8.46875 -0.921875 C 7.675781 -0.160156 6.570312 0.21875 5.15625 0.21875 C 3.75 0.21875 2.644531 -0.160156 1.84375 -0.921875 C 1.039062 -1.691406 0.640625 -2.75 0.640625 -4.09375 C 0.640625 -5.4375 1.039062 -6.488281 1.84375 -7.25 C 2.644531 -8.019531 3.75 -8.40625 5.15625 -8.40625 Z M 5.15625 -8.40625 \"/>\n",
       "</g>\n",
       "<g id=\"glyph-2024-07-0457018.411355576s-0-10\">\n",
       "<path d=\"M 3.875 -1.1875 L 3.875 3.125 L 1.265625 3.125 L 1.265625 -8.203125 L 3.875 -8.203125 L 3.875 -7 C 4.238281 -7.476562 4.640625 -7.832031 5.078125 -8.0625 C 5.523438 -8.289062 6.03125 -8.40625 6.59375 -8.40625 C 7.601562 -8.40625 8.429688 -8 9.078125 -7.1875 C 9.734375 -6.382812 10.0625 -5.351562 10.0625 -4.09375 C 10.0625 -2.832031 9.734375 -1.796875 9.078125 -0.984375 C 8.429688 -0.179688 7.601562 0.21875 6.59375 0.21875 C 6.03125 0.21875 5.523438 0.101562 5.078125 -0.125 C 4.640625 -0.351562 4.238281 -0.707031 3.875 -1.1875 Z M 5.625 -6.5 C 5.0625 -6.5 4.628906 -6.289062 4.328125 -5.875 C 4.023438 -5.46875 3.875 -4.875 3.875 -4.09375 C 3.875 -3.320312 4.023438 -2.726562 4.328125 -2.3125 C 4.628906 -1.894531 5.0625 -1.6875 5.625 -1.6875 C 6.1875 -1.6875 6.613281 -1.890625 6.90625 -2.296875 C 7.207031 -2.710938 7.359375 -3.3125 7.359375 -4.09375 C 7.359375 -4.875 7.207031 -5.46875 6.90625 -5.875 C 6.613281 -6.289062 6.1875 -6.5 5.625 -6.5 Z M 5.625 -6.5 \"/>\n",
       "</g>\n",
       "<g id=\"glyph-2024-07-0457018.411355576s-0-11\">\n",
       "<path d=\"M 1.171875 -3.1875 L 1.171875 -8.203125 L 3.8125 -8.203125 L 3.8125 -7.390625 C 3.8125 -6.941406 3.804688 -6.378906 3.796875 -5.703125 C 3.796875 -5.035156 3.796875 -4.585938 3.796875 -4.359375 C 3.796875 -3.703125 3.8125 -3.226562 3.84375 -2.9375 C 3.875 -2.644531 3.929688 -2.4375 4.015625 -2.3125 C 4.128906 -2.132812 4.269531 -2 4.4375 -1.90625 C 4.613281 -1.8125 4.816406 -1.765625 5.046875 -1.765625 C 5.585938 -1.765625 6.015625 -1.972656 6.328125 -2.390625 C 6.640625 -2.816406 6.796875 -3.40625 6.796875 -4.15625 L 6.796875 -8.203125 L 9.421875 -8.203125 L 9.421875 0 L 6.796875 0 L 6.796875 -1.1875 C 6.398438 -0.707031 5.976562 -0.351562 5.53125 -0.125 C 5.09375 0.101562 4.609375 0.21875 4.078125 0.21875 C 3.128906 0.21875 2.40625 -0.0703125 1.90625 -0.65625 C 1.414062 -1.238281 1.171875 -2.082031 1.171875 -3.1875 Z M 1.171875 -3.1875 \"/>\n",
       "</g>\n",
       "<g id=\"glyph-2024-07-0457018.411355576s-0-12\">\n",
       "<path d=\"M 9.5 -5 L 9.5 0 L 6.875 0 L 6.875 -3.828125 C 6.875 -4.535156 6.859375 -5.019531 6.828125 -5.28125 C 6.796875 -5.550781 6.738281 -5.75 6.65625 -5.875 C 6.550781 -6.050781 6.410156 -6.1875 6.234375 -6.28125 C 6.066406 -6.375 5.867188 -6.421875 5.640625 -6.421875 C 5.085938 -6.421875 4.65625 -6.207031 4.34375 -5.78125 C 4.03125 -5.363281 3.875 -4.78125 3.875 -4.03125 L 3.875 0 L 1.265625 0 L 1.265625 -8.203125 L 3.875 -8.203125 L 3.875 -7 C 4.269531 -7.476562 4.691406 -7.832031 5.140625 -8.0625 C 5.585938 -8.289062 6.078125 -8.40625 6.609375 -8.40625 C 7.554688 -8.40625 8.273438 -8.113281 8.765625 -7.53125 C 9.253906 -6.945312 9.5 -6.101562 9.5 -5 Z M 9.5 -5 \"/>\n",
       "</g>\n",
       "<g id=\"glyph-2024-07-0457018.411355576s-1-0\">\n",
       "<path d=\"M 0.984375 -7.296875 L 2.453125 -7.296875 L 4.3125 -2.328125 L 6.1875 -7.296875 L 7.65625 -7.296875 L 7.65625 0 L 6.6875 0 L 6.6875 -6.40625 L 4.8125 -1.40625 L 3.8125 -1.40625 L 1.9375 -6.40625 L 1.9375 0 L 0.984375 0 Z M 0.984375 -7.296875 \"/>\n",
       "</g>\n",
       "<g id=\"glyph-2024-07-0457018.411355576s-1-1\">\n",
       "<path d=\"M 5.625 -2.953125 L 5.625 -2.515625 L 1.484375 -2.515625 C 1.523438 -1.898438 1.710938 -1.429688 2.046875 -1.109375 C 2.378906 -0.785156 2.84375 -0.625 3.4375 -0.625 C 3.78125 -0.625 4.113281 -0.664062 4.4375 -0.75 C 4.769531 -0.832031 5.09375 -0.957031 5.40625 -1.125 L 5.40625 -0.28125 C 5.082031 -0.144531 4.75 -0.0390625 4.40625 0.03125 C 4.070312 0.101562 3.734375 0.140625 3.390625 0.140625 C 2.515625 0.140625 1.820312 -0.109375 1.3125 -0.609375 C 0.800781 -1.117188 0.546875 -1.8125 0.546875 -2.6875 C 0.546875 -3.582031 0.785156 -4.289062 1.265625 -4.8125 C 1.753906 -5.332031 2.410156 -5.59375 3.234375 -5.59375 C 3.972656 -5.59375 4.554688 -5.359375 4.984375 -4.890625 C 5.410156 -4.421875 5.625 -3.773438 5.625 -2.953125 Z M 4.71875 -3.21875 C 4.71875 -3.707031 4.582031 -4.097656 4.3125 -4.390625 C 4.039062 -4.691406 3.6875 -4.84375 3.25 -4.84375 C 2.738281 -4.84375 2.332031 -4.695312 2.03125 -4.40625 C 1.738281 -4.125 1.566406 -3.726562 1.515625 -3.21875 Z M 4.71875 -3.21875 \"/>\n",
       "</g>\n",
       "<g id=\"glyph-2024-07-0457018.411355576s-1-2\">\n",
       "<path d=\"M 5.484375 -5.46875 L 3.515625 -2.8125 L 5.59375 0 L 4.53125 0 L 2.9375 -2.15625 L 1.34375 0 L 0.28125 0 L 2.40625 -2.859375 L 0.46875 -5.46875 L 1.53125 -5.46875 L 2.984375 -3.515625 L 4.421875 -5.46875 Z M 5.484375 -5.46875 \"/>\n",
       "</g>\n",
       "<g id=\"glyph-2024-07-0457018.411355576s-1-3\">\n",
       "<path d=\"M 0.9375 -5.46875 L 1.84375 -5.46875 L 1.84375 0 L 0.9375 0 Z M 0.9375 -7.59375 L 1.84375 -7.59375 L 1.84375 -6.453125 L 0.9375 -6.453125 Z M 0.9375 -7.59375 \"/>\n",
       "</g>\n",
       "<g id=\"glyph-2024-07-0457018.411355576s-1-4\">\n",
       "<path d=\"M 4.875 -5.265625 L 4.875 -4.421875 C 4.625 -4.554688 4.367188 -4.660156 4.109375 -4.734375 C 3.859375 -4.804688 3.601562 -4.84375 3.34375 -4.84375 C 2.757812 -4.84375 2.304688 -4.65625 1.984375 -4.28125 C 1.660156 -3.914062 1.5 -3.398438 1.5 -2.734375 C 1.5 -2.066406 1.660156 -1.546875 1.984375 -1.171875 C 2.304688 -0.804688 2.757812 -0.625 3.34375 -0.625 C 3.601562 -0.625 3.859375 -0.65625 4.109375 -0.71875 C 4.367188 -0.789062 4.625 -0.898438 4.875 -1.046875 L 4.875 -0.203125 C 4.625 -0.0859375 4.363281 -0.00390625 4.09375 0.046875 C 3.832031 0.109375 3.550781 0.140625 3.25 0.140625 C 2.414062 0.140625 1.753906 -0.113281 1.265625 -0.625 C 0.785156 -1.144531 0.546875 -1.847656 0.546875 -2.734375 C 0.546875 -3.617188 0.789062 -4.316406 1.28125 -4.828125 C 1.769531 -5.335938 2.441406 -5.59375 3.296875 -5.59375 C 3.578125 -5.59375 3.847656 -5.566406 4.109375 -5.515625 C 4.367188 -5.460938 4.625 -5.378906 4.875 -5.265625 Z M 4.875 -5.265625 \"/>\n",
       "</g>\n",
       "<g id=\"glyph-2024-07-0457018.411355576s-1-5\">\n",
       "<path d=\"M 3.0625 -4.84375 C 2.582031 -4.84375 2.203125 -4.65625 1.921875 -4.28125 C 1.640625 -3.90625 1.5 -3.390625 1.5 -2.734375 C 1.5 -2.078125 1.632812 -1.5625 1.90625 -1.1875 C 2.1875 -0.8125 2.570312 -0.625 3.0625 -0.625 C 3.539062 -0.625 3.921875 -0.8125 4.203125 -1.1875 C 4.484375 -1.5625 4.625 -2.078125 4.625 -2.734375 C 4.625 -3.378906 4.484375 -3.890625 4.203125 -4.265625 C 3.921875 -4.648438 3.539062 -4.84375 3.0625 -4.84375 Z M 3.0625 -5.59375 C 3.84375 -5.59375 4.457031 -5.335938 4.90625 -4.828125 C 5.351562 -4.328125 5.578125 -3.628906 5.578125 -2.734375 C 5.578125 -1.835938 5.351562 -1.132812 4.90625 -0.625 C 4.457031 -0.113281 3.84375 0.140625 3.0625 0.140625 C 2.28125 0.140625 1.664062 -0.113281 1.21875 -0.625 C 0.769531 -1.132812 0.546875 -1.835938 0.546875 -2.734375 C 0.546875 -3.628906 0.769531 -4.328125 1.21875 -4.828125 C 1.664062 -5.335938 2.28125 -5.59375 3.0625 -5.59375 Z M 3.0625 -5.59375 \"/>\n",
       "</g>\n",
       "<g id=\"glyph-2024-07-0457018.411355576s-1-6\">\n",
       "</g>\n",
       "<g id=\"glyph-2024-07-0457018.411355576s-1-7\">\n",
       "<path d=\"M 6.4375 -6.734375 L 6.4375 -5.6875 C 6.101562 -6 5.75 -6.226562 5.375 -6.375 C 5 -6.53125 4.601562 -6.609375 4.1875 -6.609375 C 3.351562 -6.609375 2.710938 -6.351562 2.265625 -5.84375 C 1.828125 -5.332031 1.609375 -4.597656 1.609375 -3.640625 C 1.609375 -2.679688 1.828125 -1.945312 2.265625 -1.4375 C 2.710938 -0.925781 3.351562 -0.671875 4.1875 -0.671875 C 4.601562 -0.671875 5 -0.742188 5.375 -0.890625 C 5.75 -1.046875 6.101562 -1.28125 6.4375 -1.59375 L 6.4375 -0.5625 C 6.09375 -0.320312 5.726562 -0.144531 5.34375 -0.03125 C 4.957031 0.0820312 4.550781 0.140625 4.125 0.140625 C 3.019531 0.140625 2.148438 -0.195312 1.515625 -0.875 C 0.878906 -1.550781 0.5625 -2.472656 0.5625 -3.640625 C 0.5625 -4.804688 0.878906 -5.726562 1.515625 -6.40625 C 2.148438 -7.082031 3.019531 -7.421875 4.125 -7.421875 C 4.5625 -7.421875 4.972656 -7.363281 5.359375 -7.25 C 5.742188 -7.132812 6.101562 -6.960938 6.4375 -6.734375 Z M 6.4375 -6.734375 \"/>\n",
       "</g>\n",
       "<g id=\"glyph-2024-07-0457018.411355576s-1-8\">\n",
       "<path d=\"M 1.828125 -7.015625 L 1.828125 -5.46875 L 3.6875 -5.46875 L 3.6875 -4.765625 L 1.828125 -4.765625 L 1.828125 -1.796875 C 1.828125 -1.359375 1.890625 -1.070312 2.015625 -0.9375 C 2.140625 -0.8125 2.390625 -0.75 2.765625 -0.75 L 3.6875 -0.75 L 3.6875 0 L 2.765625 0 C 2.066406 0 1.582031 -0.128906 1.3125 -0.390625 C 1.050781 -0.648438 0.921875 -1.117188 0.921875 -1.796875 L 0.921875 -4.765625 L 0.265625 -4.765625 L 0.265625 -5.46875 L 0.921875 -5.46875 L 0.921875 -7.015625 Z M 1.828125 -7.015625 \"/>\n",
       "</g>\n",
       "<g id=\"glyph-2024-07-0457018.411355576s-1-9\">\n",
       "<path d=\"M 3.21875 0.515625 C 2.96875 1.160156 2.71875 1.582031 2.46875 1.78125 C 2.226562 1.976562 1.910156 2.078125 1.515625 2.078125 L 0.796875 2.078125 L 0.796875 1.328125 L 1.3125 1.328125 C 1.5625 1.328125 1.753906 1.269531 1.890625 1.15625 C 2.023438 1.039062 2.175781 0.765625 2.34375 0.328125 L 2.515625 -0.09375 L 0.296875 -5.46875 L 1.25 -5.46875 L 2.953125 -1.1875 L 4.671875 -5.46875 L 5.625 -5.46875 Z M 3.21875 0.515625 \"/>\n",
       "</g>\n",
       "<g id=\"glyph-2024-07-0457018.411355576s-1-10\">\n",
       "<path d=\"M 0.84375 -2.15625 L 0.84375 -5.46875 L 1.75 -5.46875 L 1.75 -2.1875 C 1.75 -1.675781 1.847656 -1.289062 2.046875 -1.03125 C 2.253906 -0.769531 2.554688 -0.640625 2.953125 -0.640625 C 3.441406 -0.640625 3.828125 -0.789062 4.109375 -1.09375 C 4.390625 -1.40625 4.53125 -1.832031 4.53125 -2.375 L 4.53125 -5.46875 L 5.4375 -5.46875 L 5.4375 0 L 4.53125 0 L 4.53125 -0.84375 C 4.3125 -0.507812 4.054688 -0.257812 3.765625 -0.09375 C 3.484375 0.0625 3.148438 0.140625 2.765625 0.140625 C 2.140625 0.140625 1.660156 -0.0507812 1.328125 -0.4375 C 1.003906 -0.832031 0.84375 -1.40625 0.84375 -2.15625 Z M 3.109375 -5.59375 Z M 3.109375 -5.59375 \"/>\n",
       "</g>\n",
       "<g id=\"glyph-2024-07-0457018.411355576s-1-11\">\n",
       "<path d=\"M 5.203125 -4.421875 C 5.421875 -4.828125 5.6875 -5.125 6 -5.3125 C 6.3125 -5.5 6.679688 -5.59375 7.109375 -5.59375 C 7.679688 -5.59375 8.117188 -5.394531 8.421875 -5 C 8.734375 -4.601562 8.890625 -4.035156 8.890625 -3.296875 L 8.890625 0 L 7.984375 0 L 7.984375 -3.265625 C 7.984375 -3.796875 7.890625 -4.1875 7.703125 -4.4375 C 7.523438 -4.6875 7.242188 -4.8125 6.859375 -4.8125 C 6.390625 -4.8125 6.019531 -4.65625 5.75 -4.34375 C 5.488281 -4.039062 5.359375 -3.625 5.359375 -3.09375 L 5.359375 0 L 4.453125 0 L 4.453125 -3.265625 C 4.453125 -3.796875 4.359375 -4.1875 4.171875 -4.4375 C 3.984375 -4.6875 3.695312 -4.8125 3.3125 -4.8125 C 2.851562 -4.8125 2.488281 -4.65625 2.21875 -4.34375 C 1.945312 -4.039062 1.8125 -3.625 1.8125 -3.09375 L 1.8125 0 L 0.90625 0 L 0.90625 -5.46875 L 1.8125 -5.46875 L 1.8125 -4.625 C 2.019531 -4.957031 2.265625 -5.203125 2.546875 -5.359375 C 2.835938 -5.515625 3.175781 -5.59375 3.5625 -5.59375 C 3.96875 -5.59375 4.304688 -5.492188 4.578125 -5.296875 C 4.859375 -5.097656 5.066406 -4.804688 5.203125 -4.421875 Z M 5.203125 -4.421875 \"/>\n",
       "</g>\n",
       "<g id=\"glyph-2024-07-0457018.411355576s-1-12\">\n",
       "<path d=\"M 4.875 -2.734375 C 4.875 -3.390625 4.734375 -3.90625 4.453125 -4.28125 C 4.179688 -4.65625 3.8125 -4.84375 3.34375 -4.84375 C 2.863281 -4.84375 2.488281 -4.65625 2.21875 -4.28125 C 1.945312 -3.90625 1.8125 -3.390625 1.8125 -2.734375 C 1.8125 -2.066406 1.945312 -1.546875 2.21875 -1.171875 C 2.488281 -0.796875 2.863281 -0.609375 3.34375 -0.609375 C 3.8125 -0.609375 4.179688 -0.796875 4.453125 -1.171875 C 4.734375 -1.546875 4.875 -2.066406 4.875 -2.734375 Z M 1.8125 -4.640625 C 2 -4.960938 2.234375 -5.203125 2.515625 -5.359375 C 2.804688 -5.515625 3.15625 -5.59375 3.5625 -5.59375 C 4.226562 -5.59375 4.765625 -5.328125 5.171875 -4.796875 C 5.585938 -4.273438 5.796875 -3.585938 5.796875 -2.734375 C 5.796875 -1.867188 5.585938 -1.171875 5.171875 -0.640625 C 4.765625 -0.117188 4.226562 0.140625 3.5625 0.140625 C 3.15625 0.140625 2.804688 0.0625 2.515625 -0.09375 C 2.234375 -0.25 2 -0.492188 1.8125 -0.828125 L 1.8125 0 L 0.90625 0 L 0.90625 -7.59375 L 1.8125 -7.59375 Z M 1.8125 -4.640625 \"/>\n",
       "</g>\n",
       "<g id=\"glyph-2024-07-0457018.411355576s-1-13\">\n",
       "<path d=\"M 3.421875 -2.75 C 2.703125 -2.75 2.203125 -2.664062 1.921875 -2.5 C 1.640625 -2.332031 1.5 -2.050781 1.5 -1.65625 C 1.5 -1.332031 1.601562 -1.078125 1.8125 -0.890625 C 2.019531 -0.703125 2.304688 -0.609375 2.671875 -0.609375 C 3.171875 -0.609375 3.570312 -0.785156 3.875 -1.140625 C 4.175781 -1.492188 4.328125 -1.960938 4.328125 -2.546875 L 4.328125 -2.75 Z M 5.21875 -3.125 L 5.21875 0 L 4.328125 0 L 4.328125 -0.828125 C 4.117188 -0.492188 3.859375 -0.25 3.546875 -0.09375 C 3.242188 0.0625 2.875 0.140625 2.4375 0.140625 C 1.875 0.140625 1.425781 -0.015625 1.09375 -0.328125 C 0.757812 -0.640625 0.59375 -1.0625 0.59375 -1.59375 C 0.59375 -2.207031 0.800781 -2.671875 1.21875 -2.984375 C 1.632812 -3.296875 2.25 -3.453125 3.0625 -3.453125 L 4.328125 -3.453125 L 4.328125 -3.546875 C 4.328125 -3.953125 4.1875 -4.269531 3.90625 -4.5 C 3.632812 -4.726562 3.253906 -4.84375 2.765625 -4.84375 C 2.453125 -4.84375 2.144531 -4.800781 1.84375 -4.71875 C 1.550781 -4.644531 1.269531 -4.535156 1 -4.390625 L 1 -5.21875 C 1.332031 -5.34375 1.648438 -5.4375 1.953125 -5.5 C 2.265625 -5.5625 2.566406 -5.59375 2.859375 -5.59375 C 3.648438 -5.59375 4.238281 -5.390625 4.625 -4.984375 C 5.019531 -4.578125 5.21875 -3.957031 5.21875 -3.125 Z M 5.21875 -3.125 \"/>\n",
       "</g>\n",
       "<g id=\"glyph-2024-07-0457018.411355576s-1-14\">\n",
       "<path d=\"M 5.359375 -7.046875 L 5.359375 -6.09375 C 4.984375 -6.269531 4.628906 -6.398438 4.296875 -6.484375 C 3.960938 -6.578125 3.640625 -6.625 3.328125 -6.625 C 2.796875 -6.625 2.382812 -6.519531 2.09375 -6.3125 C 1.800781 -6.101562 1.65625 -5.804688 1.65625 -5.421875 C 1.65625 -5.097656 1.75 -4.851562 1.9375 -4.6875 C 2.132812 -4.519531 2.503906 -4.390625 3.046875 -4.296875 L 3.640625 -4.171875 C 4.367188 -4.023438 4.910156 -3.773438 5.265625 -3.421875 C 5.617188 -3.078125 5.796875 -2.609375 5.796875 -2.015625 C 5.796875 -1.304688 5.554688 -0.769531 5.078125 -0.40625 C 4.609375 -0.0390625 3.914062 0.140625 3 0.140625 C 2.65625 0.140625 2.285156 0.0976562 1.890625 0.015625 C 1.503906 -0.0546875 1.101562 -0.171875 0.6875 -0.328125 L 0.6875 -1.34375 C 1.09375 -1.113281 1.484375 -0.941406 1.859375 -0.828125 C 2.242188 -0.710938 2.625 -0.65625 3 -0.65625 C 3.5625 -0.65625 3.992188 -0.765625 4.296875 -0.984375 C 4.609375 -1.210938 4.765625 -1.53125 4.765625 -1.9375 C 4.765625 -2.289062 4.65625 -2.566406 4.4375 -2.765625 C 4.21875 -2.972656 3.851562 -3.128906 3.34375 -3.234375 L 2.75 -3.34375 C 2.007812 -3.488281 1.472656 -3.71875 1.140625 -4.03125 C 0.816406 -4.34375 0.65625 -4.78125 0.65625 -5.34375 C 0.65625 -5.988281 0.878906 -6.492188 1.328125 -6.859375 C 1.785156 -7.234375 2.414062 -7.421875 3.21875 -7.421875 C 3.5625 -7.421875 3.910156 -7.390625 4.265625 -7.328125 C 4.617188 -7.265625 4.984375 -7.171875 5.359375 -7.046875 Z M 5.359375 -7.046875 \"/>\n",
       "</g>\n",
       "<g id=\"glyph-2024-07-0457018.411355576s-1-15\">\n",
       "<path d=\"M 4.546875 -4.640625 L 4.546875 -7.59375 L 5.4375 -7.59375 L 5.4375 0 L 4.546875 0 L 4.546875 -0.828125 C 4.359375 -0.492188 4.117188 -0.25 3.828125 -0.09375 C 3.535156 0.0625 3.1875 0.140625 2.78125 0.140625 C 2.125 0.140625 1.585938 -0.117188 1.171875 -0.640625 C 0.753906 -1.171875 0.546875 -1.867188 0.546875 -2.734375 C 0.546875 -3.585938 0.753906 -4.273438 1.171875 -4.796875 C 1.585938 -5.328125 2.125 -5.59375 2.78125 -5.59375 C 3.1875 -5.59375 3.535156 -5.515625 3.828125 -5.359375 C 4.117188 -5.203125 4.359375 -4.960938 4.546875 -4.640625 Z M 1.484375 -2.734375 C 1.484375 -2.066406 1.617188 -1.546875 1.890625 -1.171875 C 2.160156 -0.796875 2.535156 -0.609375 3.015625 -0.609375 C 3.484375 -0.609375 3.851562 -0.796875 4.125 -1.171875 C 4.40625 -1.546875 4.546875 -2.066406 4.546875 -2.734375 C 4.546875 -3.390625 4.40625 -3.90625 4.125 -4.28125 C 3.851562 -4.65625 3.484375 -4.84375 3.015625 -4.84375 C 2.535156 -4.84375 2.160156 -4.65625 1.890625 -4.28125 C 1.617188 -3.90625 1.484375 -3.390625 1.484375 -2.734375 Z M 1.484375 -2.734375 \"/>\n",
       "</g>\n",
       "<g id=\"glyph-2024-07-0457018.411355576s-1-16\">\n",
       "<path d=\"M 5.484375 -3.296875 L 5.484375 0 L 4.59375 0 L 4.59375 -3.265625 C 4.59375 -3.785156 4.488281 -4.171875 4.28125 -4.421875 C 4.082031 -4.679688 3.78125 -4.8125 3.375 -4.8125 C 2.894531 -4.8125 2.515625 -4.65625 2.234375 -4.34375 C 1.953125 -4.039062 1.8125 -3.625 1.8125 -3.09375 L 1.8125 0 L 0.90625 0 L 0.90625 -5.46875 L 1.8125 -5.46875 L 1.8125 -4.625 C 2.03125 -4.945312 2.285156 -5.1875 2.578125 -5.34375 C 2.867188 -5.507812 3.203125 -5.59375 3.578125 -5.59375 C 4.203125 -5.59375 4.675781 -5.398438 5 -5.015625 C 5.320312 -4.628906 5.484375 -4.054688 5.484375 -3.296875 Z M 5.484375 -3.296875 \"/>\n",
       "</g>\n",
       "<g id=\"glyph-2024-07-0457018.411355576s-1-17\">\n",
       "<path d=\"M 0.984375 -7.296875 L 1.96875 -7.296875 L 1.96875 -0.828125 L 5.515625 -0.828125 L 5.515625 0 L 0.984375 0 Z M 0.984375 -7.296875 \"/>\n",
       "</g>\n",
       "<g id=\"glyph-2024-07-0457018.411355576s-1-18\">\n",
       "<path d=\"M 0.984375 -7.296875 L 2.3125 -7.296875 L 5.546875 -1.1875 L 5.546875 -7.296875 L 6.5 -7.296875 L 6.5 0 L 5.171875 0 L 1.9375 -6.09375 L 1.9375 0 L 0.984375 0 Z M 0.984375 -7.296875 \"/>\n",
       "</g>\n",
       "<g id=\"glyph-2024-07-0457018.411355576s-1-19\">\n",
       "<path d=\"M 0.421875 -5.46875 L 1.3125 -5.46875 L 2.4375 -1.203125 L 3.5625 -5.46875 L 4.625 -5.46875 L 5.75 -1.203125 L 6.859375 -5.46875 L 7.765625 -5.46875 L 6.328125 0 L 5.265625 0 L 4.09375 -4.484375 L 2.90625 0 L 1.84375 0 Z M 0.421875 -5.46875 \"/>\n",
       "</g>\n",
       "<g id=\"glyph-2024-07-0457018.411355576s-1-20\">\n",
       "<path d=\"M -0.015625 -7.296875 L 1.046875 -7.296875 L 3.0625 -4.296875 L 5.0625 -7.296875 L 6.125 -7.296875 L 3.546875 -3.46875 L 3.546875 0 L 2.5625 0 L 2.5625 -3.46875 Z M -0.015625 -7.296875 \"/>\n",
       "</g>\n",
       "<g id=\"glyph-2024-07-0457018.411355576s-1-21\">\n",
       "<path d=\"M 4.109375 -4.625 C 4.003906 -4.6875 3.894531 -4.726562 3.78125 -4.75 C 3.664062 -4.78125 3.535156 -4.796875 3.390625 -4.796875 C 2.878906 -4.796875 2.488281 -4.628906 2.21875 -4.296875 C 1.945312 -3.972656 1.8125 -3.5 1.8125 -2.875 L 1.8125 0 L 0.90625 0 L 0.90625 -5.46875 L 1.8125 -5.46875 L 1.8125 -4.625 C 2 -4.957031 2.242188 -5.203125 2.546875 -5.359375 C 2.847656 -5.515625 3.21875 -5.59375 3.65625 -5.59375 C 3.71875 -5.59375 3.785156 -5.585938 3.859375 -5.578125 C 3.929688 -5.578125 4.015625 -5.566406 4.109375 -5.546875 Z M 4.109375 -4.625 \"/>\n",
       "</g>\n",
       "<g id=\"glyph-2024-07-0457018.411355576s-1-22\">\n",
       "<path d=\"M 0.90625 -7.59375 L 1.8125 -7.59375 L 1.8125 -3.109375 L 4.5 -5.46875 L 5.640625 -5.46875 L 2.734375 -2.90625 L 5.765625 0 L 4.59375 0 L 1.8125 -2.671875 L 1.8125 0 L 0.90625 0 Z M 0.90625 -7.59375 \"/>\n",
       "</g>\n",
       "</g>\n",
       "</defs>\n",
       "<rect x=\"-45\" y=\"-30\" width=\"540\" height=\"360\" fill=\"rgb(100%, 100%, 100%)\" fill-opacity=\"1\"/>\n",
       "<g fill=\"rgb(0%, 0%, 0%)\" fill-opacity=\"1\">\n",
       "<use xlink:href=\"#glyph-2024-07-0457018.411355576s-0-0\" x=\"143.402344\" y=\"18.921875\"/>\n",
       "<use xlink:href=\"#glyph-2024-07-0457018.411355576s-0-1\" x=\"154.952637\" y=\"18.921875\"/>\n",
       "<use xlink:href=\"#glyph-2024-07-0457018.411355576s-0-2\" x=\"165.125977\" y=\"18.921875\"/>\n",
       "<use xlink:href=\"#glyph-2024-07-0457018.411355576s-0-3\" x=\"170.267578\" y=\"18.921875\"/>\n",
       "<use xlink:href=\"#glyph-2024-07-0457018.411355576s-0-4\" x=\"180.389648\" y=\"18.921875\"/>\n",
       "<use xlink:href=\"#glyph-2024-07-0457018.411355576s-0-5\" x=\"187.560059\" y=\"18.921875\"/>\n",
       "<use xlink:href=\"#glyph-2024-07-0457018.411355576s-0-6\" x=\"192.70166\" y=\"18.921875\"/>\n",
       "<use xlink:href=\"#glyph-2024-07-0457018.411355576s-0-1\" x=\"202.479492\" y=\"18.921875\"/>\n",
       "<use xlink:href=\"#glyph-2024-07-0457018.411355576s-0-7\" x=\"212.652832\" y=\"18.921875\"/>\n",
       "<use xlink:href=\"#glyph-2024-07-0457018.411355576s-0-8\" x=\"217.875\" y=\"18.921875\"/>\n",
       "<use xlink:href=\"#glyph-2024-07-0457018.411355576s-0-9\" x=\"228.868652\" y=\"18.921875\"/>\n",
       "<use xlink:href=\"#glyph-2024-07-0457018.411355576s-0-10\" x=\"239.173828\" y=\"18.921875\"/>\n",
       "<use xlink:href=\"#glyph-2024-07-0457018.411355576s-0-11\" x=\"249.911133\" y=\"18.921875\"/>\n",
       "<use xlink:href=\"#glyph-2024-07-0457018.411355576s-0-2\" x=\"260.589844\" y=\"18.921875\"/>\n",
       "<use xlink:href=\"#glyph-2024-07-0457018.411355576s-0-3\" x=\"265.731445\" y=\"18.921875\"/>\n",
       "<use xlink:href=\"#glyph-2024-07-0457018.411355576s-0-4\" x=\"275.853516\" y=\"18.921875\"/>\n",
       "<use xlink:href=\"#glyph-2024-07-0457018.411355576s-0-5\" x=\"283.023926\" y=\"18.921875\"/>\n",
       "<use xlink:href=\"#glyph-2024-07-0457018.411355576s-0-9\" x=\"288.165527\" y=\"18.921875\"/>\n",
       "<use xlink:href=\"#glyph-2024-07-0457018.411355576s-0-12\" x=\"298.470703\" y=\"18.921875\"/>\n",
       "</g>\n",
       "<path fill-rule=\"nonzero\" fill=\"rgb(0%, 0%, 100%)\" fill-opacity=\"1\" stroke-width=\"1\" stroke-linecap=\"butt\" stroke-linejoin=\"bevel\" stroke=\"rgb(100%, 100%, 100%)\" stroke-opacity=\"0.1\" stroke-miterlimit=\"10\" d=\"M 287.128906 128.769531 C 287.128906 156.953125 270.714844 182.554688 245.105469 194.316406 C 219.496094 206.078125 189.378906 201.847656 168 183.484375 L 215 128.769531 Z M 287.128906 128.769531 \" transform=\"matrix(1, 0, 0, 1, 10, 32.460938)\"/>\n",
       "<path fill=\"none\" stroke-width=\"1\" stroke-linecap=\"butt\" stroke-linejoin=\"miter\" stroke=\"rgb(0%, 0%, 0%)\" stroke-opacity=\"1\" stroke-miterlimit=\"10\" d=\"M 247.191406 198.859375 L 253.453125 212.488281 L 315.042969 212.488281 \" transform=\"matrix(1, 0, 0, 1, 10, 32.460938)\"/>\n",
       "<g fill=\"rgb(0%, 0%, 0%)\" fill-opacity=\"1\">\n",
       "<use xlink:href=\"#glyph-2024-07-0457018.411355576s-1-0\" x=\"268.453125\" y=\"242.59375\"/>\n",
       "<use xlink:href=\"#glyph-2024-07-0457018.411355576s-1-1\" x=\"277.081055\" y=\"242.59375\"/>\n",
       "<use xlink:href=\"#glyph-2024-07-0457018.411355576s-1-2\" x=\"283.233398\" y=\"242.59375\"/>\n",
       "<use xlink:href=\"#glyph-2024-07-0457018.411355576s-1-3\" x=\"289.151367\" y=\"242.59375\"/>\n",
       "<use xlink:href=\"#glyph-2024-07-0457018.411355576s-1-4\" x=\"291.929688\" y=\"242.59375\"/>\n",
       "<use xlink:href=\"#glyph-2024-07-0457018.411355576s-1-5\" x=\"297.427734\" y=\"242.59375\"/>\n",
       "<use xlink:href=\"#glyph-2024-07-0457018.411355576s-1-6\" x=\"303.545898\" y=\"242.59375\"/>\n",
       "<use xlink:href=\"#glyph-2024-07-0457018.411355576s-1-7\" x=\"306.724609\" y=\"242.59375\"/>\n",
       "<use xlink:href=\"#glyph-2024-07-0457018.411355576s-1-3\" x=\"313.707031\" y=\"242.59375\"/>\n",
       "<use xlink:href=\"#glyph-2024-07-0457018.411355576s-1-8\" x=\"316.485352\" y=\"242.59375\"/>\n",
       "<use xlink:href=\"#glyph-2024-07-0457018.411355576s-1-9\" x=\"320.40625\" y=\"242.59375\"/>\n",
       "</g>\n",
       "<path fill-rule=\"nonzero\" fill=\"rgb(100%, 0%, 0%)\" fill-opacity=\"1\" stroke-width=\"1\" stroke-linecap=\"butt\" stroke-linejoin=\"bevel\" stroke=\"rgb(100%, 100%, 100%)\" stroke-opacity=\"0.1\" stroke-miterlimit=\"10\" d=\"M 158.046875 184.433594 C 128.648438 159.183594 124.460938 115.214844 148.558594 84.867188 L 205.046875 129.71875 Z M 158.046875 184.433594 \" transform=\"matrix(1, 0, 0, 1, 10, 32.460938)\"/>\n",
       "<path fill=\"none\" stroke-width=\"1\" stroke-linecap=\"butt\" stroke-linejoin=\"miter\" stroke=\"rgb(0%, 0%, 0%)\" stroke-opacity=\"1\" stroke-miterlimit=\"10\" d=\"M 128.265625 137.035156 L 113.332031 138.460938 L 70.289062 138.460938 \" transform=\"matrix(1, 0, 0, 1, 10, 32.460938)\"/>\n",
       "<g fill=\"rgb(0%, 0%, 0%)\" fill-opacity=\"1\">\n",
       "<use xlink:href=\"#glyph-2024-07-0457018.411355576s-1-0\" x=\"80.289062\" y=\"168.5625\"/>\n",
       "<use xlink:href=\"#glyph-2024-07-0457018.411355576s-1-10\" x=\"88.916992\" y=\"168.5625\"/>\n",
       "<use xlink:href=\"#glyph-2024-07-0457018.411355576s-1-11\" x=\"95.254883\" y=\"168.5625\"/>\n",
       "<use xlink:href=\"#glyph-2024-07-0457018.411355576s-1-12\" x=\"104.996094\" y=\"168.5625\"/>\n",
       "<use xlink:href=\"#glyph-2024-07-0457018.411355576s-1-13\" x=\"111.34375\" y=\"168.5625\"/>\n",
       "<use xlink:href=\"#glyph-2024-07-0457018.411355576s-1-3\" x=\"117.47168\" y=\"168.5625\"/>\n",
       "</g>\n",
       "<path fill-rule=\"nonzero\" fill=\"rgb(0%, 50.196078%, 0%)\" fill-opacity=\"1\" stroke-width=\"1\" stroke-linecap=\"butt\" stroke-linejoin=\"bevel\" stroke=\"rgb(100%, 100%, 100%)\" stroke-opacity=\"0.1\" stroke-miterlimit=\"10\" d=\"M 158.511719 83.917969 C 166.191406 74.25 176.21875 66.710938 187.644531 62.027344 L 215 128.769531 Z M 158.511719 83.917969 \" transform=\"matrix(1, 0, 0, 1, 10, 32.460938)\"/>\n",
       "<path fill=\"none\" stroke-width=\"1\" stroke-linecap=\"butt\" stroke-linejoin=\"miter\" stroke=\"rgb(0%, 0%, 0%)\" stroke-opacity=\"1\" stroke-miterlimit=\"10\" d=\"M 168.671875 67.105469 L 159.660156 55.113281 L 118.59375 55.113281 \" transform=\"matrix(1, 0, 0, 1, 10, 32.460938)\"/>\n",
       "<g fill=\"rgb(0%, 0%, 0%)\" fill-opacity=\"1\">\n",
       "<use xlink:href=\"#glyph-2024-07-0457018.411355576s-1-14\" x=\"128.59375\" y=\"85.214844\"/>\n",
       "<use xlink:href=\"#glyph-2024-07-0457018.411355576s-1-9\" x=\"134.941406\" y=\"85.214844\"/>\n",
       "<use xlink:href=\"#glyph-2024-07-0457018.411355576s-1-15\" x=\"140.859375\" y=\"85.214844\"/>\n",
       "<use xlink:href=\"#glyph-2024-07-0457018.411355576s-1-16\" x=\"147.207031\" y=\"85.214844\"/>\n",
       "<use xlink:href=\"#glyph-2024-07-0457018.411355576s-1-1\" x=\"153.544922\" y=\"85.214844\"/>\n",
       "<use xlink:href=\"#glyph-2024-07-0457018.411355576s-1-9\" x=\"159.697266\" y=\"85.214844\"/>\n",
       "</g>\n",
       "<path fill-rule=\"nonzero\" fill=\"rgb(100%, 100%, 0%)\" fill-opacity=\"1\" stroke-width=\"1\" stroke-linecap=\"butt\" stroke-linejoin=\"bevel\" stroke=\"rgb(100%, 100%, 100%)\" stroke-opacity=\"0.1\" stroke-miterlimit=\"10\" d=\"M 187.644531 62.027344 C 210.03125 52.851562 235.527344 55.511719 255.539062 69.109375 L 215 128.769531 Z M 187.644531 62.027344 \" transform=\"matrix(1, 0, 0, 1, 10, 32.460938)\"/>\n",
       "<path fill=\"none\" stroke-width=\"1\" stroke-linecap=\"butt\" stroke-linejoin=\"miter\" stroke=\"rgb(0%, 0%, 0%)\" stroke-opacity=\"1\" stroke-miterlimit=\"10\" d=\"M 223 52.058594 L 224.558594 37.136719 L 264.558594 37.136719 \" transform=\"matrix(1, 0, 0, 1, 10, 32.460938)\"/>\n",
       "<g fill=\"rgb(0%, 0%, 0%)\" fill-opacity=\"1\">\n",
       "<use xlink:href=\"#glyph-2024-07-0457018.411355576s-1-17\" x=\"239.558594\" y=\"67.242188\"/>\n",
       "<use xlink:href=\"#glyph-2024-07-0457018.411355576s-1-5\" x=\"245.129883\" y=\"67.242188\"/>\n",
       "<use xlink:href=\"#glyph-2024-07-0457018.411355576s-1-16\" x=\"251.248047\" y=\"67.242188\"/>\n",
       "<use xlink:href=\"#glyph-2024-07-0457018.411355576s-1-15\" x=\"257.585938\" y=\"67.242188\"/>\n",
       "<use xlink:href=\"#glyph-2024-07-0457018.411355576s-1-5\" x=\"263.933594\" y=\"67.242188\"/>\n",
       "<use xlink:href=\"#glyph-2024-07-0457018.411355576s-1-16\" x=\"270.051758\" y=\"67.242188\"/>\n",
       "</g>\n",
       "<path fill-rule=\"nonzero\" fill=\"rgb(0%, 100%, 100%)\" fill-opacity=\"1\" stroke-width=\"1\" stroke-linecap=\"butt\" stroke-linejoin=\"bevel\" stroke=\"rgb(100%, 100%, 100%)\" stroke-opacity=\"0.1\" stroke-miterlimit=\"10\" d=\"M 277.632812 57.410156 C 297.394531 70.839844 309.222656 93.179688 309.222656 117.070312 L 237.09375 117.070312 Z M 277.632812 57.410156 \" transform=\"matrix(1, 0, 0, 1, 10, 32.460938)\"/>\n",
       "<path fill=\"none\" stroke-width=\"1\" stroke-linecap=\"butt\" stroke-linejoin=\"miter\" stroke=\"rgb(0%, 0%, 0%)\" stroke-opacity=\"1\" stroke-miterlimit=\"10\" d=\"M 305.257812 80.976562 L 318.511719 73.957031 L 369.621094 73.957031 \" transform=\"matrix(1, 0, 0, 1, 10, 32.460938)\"/>\n",
       "<g fill=\"rgb(0%, 0%, 0%)\" fill-opacity=\"1\">\n",
       "<use xlink:href=\"#glyph-2024-07-0457018.411355576s-1-18\" x=\"333.511719\" y=\"104.0625\"/>\n",
       "<use xlink:href=\"#glyph-2024-07-0457018.411355576s-1-1\" x=\"340.992188\" y=\"104.0625\"/>\n",
       "<use xlink:href=\"#glyph-2024-07-0457018.411355576s-1-19\" x=\"347.144531\" y=\"104.0625\"/>\n",
       "<use xlink:href=\"#glyph-2024-07-0457018.411355576s-1-6\" x=\"355.323242\" y=\"104.0625\"/>\n",
       "<use xlink:href=\"#glyph-2024-07-0457018.411355576s-1-20\" x=\"358.501953\" y=\"104.0625\"/>\n",
       "<use xlink:href=\"#glyph-2024-07-0457018.411355576s-1-5\" x=\"364.610352\" y=\"104.0625\"/>\n",
       "<use xlink:href=\"#glyph-2024-07-0457018.411355576s-1-21\" x=\"370.728516\" y=\"104.0625\"/>\n",
       "<use xlink:href=\"#glyph-2024-07-0457018.411355576s-1-22\" x=\"374.839844\" y=\"104.0625\"/>\n",
       "</g>\n",
       "</svg>\n"
      ]
     },
     "metadata": {},
     "output_type": "display_data"
    }
   ],
   "source": [
    "-- Convert to a renderable in order to display it.\n",
    "toRenderable \n",
    "  $ pie_title .~ \"Relative Population\"\n",
    "  $ pie_plot . pie_data .~ map pitem values\n",
    "  $ def"
   ]
  },
  {
   "cell_type": "code",
   "execution_count": 2,
   "id": "334fd140-d1c1-45ef-9a52-7281c107af30",
   "metadata": {
    "editable": true,
    "slideshow": {
     "slide_type": ""
    },
    "tags": []
   },
   "outputs": [
    {
     "ename": "",
     "evalue": "",
     "output_type": "error",
     "traceback": [
      "<interactive>:1:1: error: Variable not in scope: diagram :: QDiagram b0 V2 n0 m0 -> b"
     ]
    }
   ],
   "source": [
    "-- We can draw diagrams, right in the notebook.\n",
    ":extension NoMonomorphismRestriction FlexibleContexts TypeFamilies\n",
    "import Diagrams.Prelude\n",
    "\n",
    "-- By Brent Yorgey\n",
    "-- Draw a Sierpinski triangle!\n",
    "sierpinski 1 = eqTriangle 1\n",
    "sierpinski n =     s\n",
    "                  ===\n",
    "               (s ||| s) Diagrams.Prelude.# centerX\n",
    "  where s = sierpinski (n-1)\n",
    "\n",
    "-- The `diagram` function is used to display them in the notebook.\n",
    "diagram $ sierpinski 4\n",
    "            # centerXY\n",
    "            # fc black\n",
    "          `atop` square 10\n",
    "                   Diagrams.Prelude.# fc white\n"
   ]
  },
  {
   "cell_type": "markdown",
   "id": "81265210-1eea-4412-823b-d29123cd8f36",
   "metadata": {},
   "source": [
    "See also https://github.com/timbod7/haskell-chart/wiki"
   ]
  },
  {
   "cell_type": "code",
   "execution_count": null,
   "id": "c83cd056-0446-44a4-b3f0-97ca0c768b18",
   "metadata": {},
   "outputs": [],
   "source": []
  }
 ],
 "metadata": {
  "kernelspec": {
   "display_name": "Haskell",
   "language": "haskell",
   "name": "haskell"
  },
  "language_info": {
   "codemirror_mode": "ihaskell",
   "file_extension": ".hs",
   "mimetype": "text/x-haskell",
   "name": "haskell",
   "pygments_lexer": "Haskell",
   "version": "9.4.8"
  }
 },
 "nbformat": 4,
 "nbformat_minor": 5
}
