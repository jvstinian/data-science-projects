{
 "cells": [
  {
   "cell_type": "markdown",
   "id": "baf06c1e-02d2-461e-a024-bfdd18276caa",
   "metadata": {},
   "source": [
    "# Simple Fibonacci Sequence Example"
   ]
  },
  {
   "cell_type": "code",
   "execution_count": null,
   "id": "2e66b983-9a39-4174-8142-1f6050df5a31",
   "metadata": {},
   "outputs": [],
   "source": [
    "fib :: [Integer]\n",
    "fib = fibhelper 0 1 \n",
    "  where fibhelper a b = a:fibhelper b (a+b)"
   ]
  },
  {
   "cell_type": "code",
   "execution_count": null,
   "id": "7fd20358-5486-4baf-9368-6f1ea828aaaa",
   "metadata": {},
   "outputs": [],
   "source": [
    "take 1 fib"
   ]
  },
  {
   "cell_type": "code",
   "execution_count": null,
   "id": "d350c06d-8a65-482e-9178-9a6d556c5aae",
   "metadata": {},
   "outputs": [],
   "source": [
    "take 10 fib"
   ]
  },
  {
   "cell_type": "code",
   "execution_count": null,
   "id": "29755b64-79fa-4e01-861b-40a4ba0e770d",
   "metadata": {},
   "outputs": [],
   "source": [
    "take 100 fib"
   ]
  },
  {
   "cell_type": "code",
   "execution_count": null,
   "id": "5751d6de-e37e-4989-8086-8d9c0af1378d",
   "metadata": {},
   "outputs": [],
   "source": [
    "fib !! 1000"
   ]
  },
  {
   "cell_type": "markdown",
   "id": "76684ec7-446e-430a-b885-1188896f1078",
   "metadata": {},
   "source": [
    "# Regression Examples"
   ]
  },
  {
   "cell_type": "code",
   "execution_count": null,
   "id": "2a619282-fce4-4f93-bd60-00112adaecdd",
   "metadata": {},
   "outputs": [],
   "source": [
    "import Statistics.Regression.Logistic (regress, Model(..))"
   ]
  },
  {
   "cell_type": "code",
   "execution_count": null,
   "id": "5437b683-c4a0-4abc-a422-dd5242f00089",
   "metadata": {},
   "outputs": [],
   "source": [
    "ys_ex :: [Double]\n",
    "xs_ex :: [[Double]]\n",
    "(ys_ex, xs_ex) = unzip $\n",
    "  [ (1, [1, 1])\n",
    "  , (0, [-1, -2])\n",
    "  , (1, [2, 5])\n",
    "  , (0, [-1, 1])\n",
    "  , (1, [2, -1])\n",
    "  , (1, [1, -10])\n",
    "  , (0, [-0.1, 30])\n",
    "  ]"
   ]
  },
  {
   "cell_type": "code",
   "execution_count": null,
   "id": "53d54faa-6178-4f70-8ec4-19cb8cc34b9a",
   "metadata": {},
   "outputs": [],
   "source": [
    "lr = 0.1 :: Double\n",
    "\n",
    "coef0 :: [Double]\n",
    "coef0 = [1, 0.1]"
   ]
  },
  {
   "cell_type": "code",
   "execution_count": null,
   "id": "9b39c28b-3d71-4b8b-8070-7c4380090892",
   "metadata": {},
   "outputs": [],
   "source": [
    "res :: [Model [] Double]\n",
    "res = regress lr ys_ex xs_ex coef0"
   ]
  },
  {
   "cell_type": "code",
   "execution_count": null,
   "id": "f87a6672-ec22-45bc-aa06-fce74098251a",
   "metadata": {},
   "outputs": [],
   "source": [
    "take 5 res"
   ]
  },
  {
   "cell_type": "code",
   "execution_count": null,
   "id": "cd2d7c0c-1281-40b1-b51e-15e325b420a1",
   "metadata": {},
   "outputs": [],
   "source": [
    "res !! 10"
   ]
  },
  {
   "cell_type": "code",
   "execution_count": null,
   "id": "7f9215ca-a1bc-440d-a773-e1a9b2398825",
   "metadata": {},
   "outputs": [],
   "source": [
    "res !! 100"
   ]
  },
  {
   "cell_type": "code",
   "execution_count": null,
   "id": "4f98d094-4c57-464f-b28b-394b4e9ae703",
   "metadata": {},
   "outputs": [],
   "source": [
    "res !! 1000"
   ]
  },
  {
   "cell_type": "code",
   "execution_count": null,
   "id": "b15bc123-ba3f-4b6d-970e-3ccebfd64049",
   "metadata": {},
   "outputs": [],
   "source": [
    "res !! 10000"
   ]
  },
  {
   "cell_type": "code",
   "execution_count": null,
   "id": "aad076e1-566e-4f52-a7ec-d25b98c7ea9a",
   "metadata": {},
   "outputs": [],
   "source": [
    "res !! 100000"
   ]
  },
  {
   "cell_type": "code",
   "execution_count": null,
   "id": "ace370b7-04eb-4887-b25f-0a7a790cf774",
   "metadata": {},
   "outputs": [],
   "source": [
    "res !! 150000"
   ]
  },
  {
   "cell_type": "code",
   "execution_count": null,
   "id": "e2ca465b-9ef6-47e2-8fab-923b2de1eb56",
   "metadata": {},
   "outputs": [],
   "source": [
    "res !! 200000"
   ]
  },
  {
   "cell_type": "code",
   "execution_count": null,
   "id": "744024ca-63b4-4349-a67c-403763391821",
   "metadata": {},
   "outputs": [],
   "source": [
    "res !! 500000"
   ]
  },
  {
   "cell_type": "code",
   "execution_count": null,
   "id": "6a0e8e09-77e3-43e8-a32a-773bfa8ede30",
   "metadata": {},
   "outputs": [],
   "source": [
    "res !! 1000000"
   ]
  },
  {
   "cell_type": "code",
   "execution_count": null,
   "id": "9125f7e2-2ad1-4c6a-959b-523e03b37640",
   "metadata": {},
   "outputs": [],
   "source": [
    "coefs = res !! 1000000"
   ]
  },
  {
   "cell_type": "code",
   "execution_count": null,
   "id": "59c7255b-f211-4ffb-9b0e-4d91c8c3d91c",
   "metadata": {},
   "outputs": [],
   "source": [
    "logisticFunction :: Double -> Double\n",
    "logisticFunction x = exp x / (1 + exp x)"
   ]
  },
  {
   "cell_type": "code",
   "execution_count": null,
   "id": "addcabba-63c4-46d8-9b65-d99ea5c47b05",
   "metadata": {},
   "outputs": [],
   "source": [
    "rawPredictions = map (logisticFunction . sum . zipWith (*) coefs) xs_ex\n",
    "rawPredictions"
   ]
  },
  {
   "cell_type": "code",
   "execution_count": null,
   "id": "353bfa06-e2c7-4d09-bbfa-917baf4f7fa1",
   "metadata": {},
   "outputs": [],
   "source": [
    "catPredictions = map (>= 0.5) rawPredictions\n",
    "zip ys_ex catPredictions"
   ]
  },
  {
   "cell_type": "markdown",
   "id": "4075afdf-33bb-475c-b256-be00655ba3b1",
   "metadata": {},
   "source": [
    "# Plot Examples"
   ]
  },
  {
   "cell_type": "code",
   "execution_count": null,
   "id": "9b5aa85f-0cd6-491d-9829-0291fdfb9738",
   "metadata": {},
   "outputs": [],
   "source": [
    "import Graphics.Rendering.Chart.Easy\n",
    "-- import Graphics.Rendering.Chart.Backend.Cairo\n",
    "import Graphics.Rendering.Chart.Backend.Diagrams(toFile)\n",
    "\n",
    "signal :: [Double] -> [(Double,Double)]\n",
    "signal xs = [ (x,(sin (x*3.14159/45) + 1) / 2 * (sin (x*3.14159/5))) | x <- xs ]"
   ]
  },
  {
   "cell_type": "code",
   "execution_count": null,
   "id": "b26bd6b8-f6b1-427e-9006-96233d3883db",
   "metadata": {},
   "outputs": [],
   "source": [
    "toFile def \"example1_big.png\" $ do\n",
    "    layout_title .= \"Amplitude Modulation\"\n",
    "    setColors [opaque blue, opaque red]\n",
    "    plot (line \"am\" [signal [0,(0.5)..400]])\n",
    "    plot (points \"am points\" (signal [0,7..400]))"
   ]
  },
  {
   "cell_type": "markdown",
   "id": "d3182fe6-f478-43a6-bfc2-279a9a66a9ca",
   "metadata": {},
   "source": [
    "The following example was taken from \n",
    "[nbviewer iHaskell notebook](https://nbviewer.org/github/gibiansky/IHaskell/blob/master/notebooks/IHaskell.ipynb)"
   ]
  },
  {
   "cell_type": "code",
   "execution_count": null,
   "id": "9d3020ab-a29c-4bf7-9c36-59b9d66d71a4",
   "metadata": {},
   "outputs": [],
   "source": [
    "-- I don't think this is needed for the pie chart\n",
    "import IHaskell.Display"
   ]
  },
  {
   "cell_type": "code",
   "execution_count": null,
   "id": "7b6ea35e-4142-4c5b-ad94-87d19998ca74",
   "metadata": {},
   "outputs": [],
   "source": [
    "import Graphics.Rendering.Chart \n",
    "import Data.Default.Class\n",
    "import Control.Lens\n"
   ]
  },
  {
   "cell_type": "code",
   "execution_count": null,
   "id": "2964b920-cab6-4e71-b245-bd0a05c880b3",
   "metadata": {},
   "outputs": [],
   "source": [
    "let values = [\n",
    "     (\"Mexico City\"  , 19.2, 0),\n",
    "     (\"Mumbai\"       , 12.9, 10), \n",
    "     (\"Sydney\"       , 4.3,  0),\n",
    "     (\"London\"       , 8.3,  0), \n",
    "     (\"New York\"     , 8.2,  25)]\n",
    "     \n",
    "pitem (s, v, o) = pitem_value .~ v\n",
    "                $ pitem_label .~ s\n",
    "                $ pitem_offset .~ o\n",
    "                $ def  \n"
   ]
  },
  {
   "cell_type": "code",
   "execution_count": null,
   "id": "0235d0ce-852e-4cc9-969d-a4a8ee8cf3a0",
   "metadata": {},
   "outputs": [],
   "source": [
    "-- Convert to a renderable in order to display it.\n",
    "toRenderable \n",
    "  $ pie_title .~ \"Relative Population\"\n",
    "  $ pie_plot . pie_data .~ map pitem values\n",
    "  $ def"
   ]
  },
  {
   "cell_type": "code",
   "execution_count": null,
   "id": "334fd140-d1c1-45ef-9a52-7281c107af30",
   "metadata": {
    "editable": true,
    "slideshow": {
     "slide_type": ""
    },
    "tags": []
   },
   "outputs": [],
   "source": [
    "-- We can draw diagrams, right in the notebook.\n",
    ":extension NoMonomorphismRestriction FlexibleContexts TypeFamilies\n",
    "import Diagrams.Prelude\n",
    "\n",
    "-- By Brent Yorgey\n",
    "-- Draw a Sierpinski triangle!\n",
    "sierpinski 1 = eqTriangle 1\n",
    "sierpinski n =     s\n",
    "                  ===\n",
    "               (s ||| s) Diagrams.Prelude.# centerX\n",
    "  where s = sierpinski (n-1)\n",
    "\n",
    "-- The `diagram` function is used to display them in the notebook.\n",
    "diagram $ sierpinski 4\n",
    "            # centerXY\n",
    "            # fc black\n",
    "          `Diagrams.Prelude.atop` square 10\n",
    "                   Diagrams.Prelude.# fc white\n"
   ]
  },
  {
   "cell_type": "markdown",
   "id": "81265210-1eea-4412-823b-d29123cd8f36",
   "metadata": {},
   "source": [
    "See also https://github.com/timbod7/haskell-chart/wiki"
   ]
  },
  {
   "cell_type": "code",
   "execution_count": null,
   "id": "306df4af-381c-448f-b2e7-54718b942479",
   "metadata": {},
   "outputs": [],
   "source": []
  }
 ],
 "metadata": {
  "kernelspec": {
   "display_name": "Haskell",
   "language": "haskell",
   "name": "haskell"
  },
  "language_info": {
   "codemirror_mode": "ihaskell",
   "file_extension": ".hs",
   "mimetype": "text/x-haskell",
   "name": "haskell",
   "pygments_lexer": "Haskell",
   "version": "9.4.8"
  }
 },
 "nbformat": 4,
 "nbformat_minor": 5
}
