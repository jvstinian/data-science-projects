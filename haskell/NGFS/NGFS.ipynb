{
 "cells": [
  {
   "cell_type": "markdown",
   "id": "9854650c-5bfa-4477-b781-2e911af3ca08",
   "metadata": {},
   "source": [
    "References: \n",
    "* [Haskell Documentation For Network.HTTP.Client](https://hackage.haskell.org/package/http-client-0.7.13.1/docs/Network-HTTP-Client.html)\n",
    "* [NGFS API Documentation](https://documenter.getpostman.com/view/1057691/SWE6Zcmd#7d7da29b-a02a-4648-adc3-57f2492015c2)\n",
    "* [stackoverflow comment explaining how to add environment variables to a custom jupyter kernel](https://stackoverflow.com/a/53595397)"
   ]
  },
  {
   "cell_type": "code",
   "execution_count": null,
   "id": "311f71a0-7927-483d-8757-dbc9136f5889",
   "metadata": {},
   "outputs": [],
   "source": [
    ":extension OverloadedStrings DeriveGeneric"
   ]
  },
  {
   "cell_type": "code",
   "execution_count": null,
   "id": "eede6a16-e3a1-4fe5-9b3c-a6adfc4695d8",
   "metadata": {},
   "outputs": [],
   "source": [
    "import Network.HTTP.Client\n",
    "import Network.HTTP.Types.Status (statusCode)\n",
    "import Data.Aeson (object, (.=), encode)\n",
    "import Data.Text (Text)"
   ]
  },
  {
   "cell_type": "code",
   "execution_count": null,
   "id": "95065cfa-b111-47f9-a459-fed8950fa1bb",
   "metadata": {},
   "outputs": [],
   "source": [
    "import Network.HTTP.Client.TLS (tlsManagerSettings)"
   ]
  },
  {
   "cell_type": "code",
   "execution_count": null,
   "id": "2bd06662-ca7b-4096-97ad-e538a0a062da",
   "metadata": {},
   "outputs": [],
   "source": [
    "import qualified Data.ByteString.Lazy as LBS (ByteString, filter, toStrict)"
   ]
  },
  {
   "cell_type": "code",
   "execution_count": null,
   "id": "51fd954b-bf59-472b-a7f6-2ba9ca486445",
   "metadata": {},
   "outputs": [],
   "source": [
    "import qualified Data.ByteString as BS (ByteString, filter)"
   ]
  },
  {
   "cell_type": "code",
   "execution_count": null,
   "id": "50f330c2-1d59-43c8-a0d8-d91083599192",
   "metadata": {},
   "outputs": [],
   "source": [
    "import Data.Word8 (_quotedbl)"
   ]
  },
  {
   "cell_type": "code",
   "execution_count": null,
   "id": "c4ac09ec-52f0-4bb5-9d29-72279b494033",
   "metadata": {},
   "outputs": [],
   "source": [
    "import System.Environment (getEnv)"
   ]
  },
  {
   "cell_type": "code",
   "execution_count": null,
   "id": "61c061eb-2d1c-4ee3-96a6-6bf20bd041d1",
   "metadata": {},
   "outputs": [],
   "source": [
    "username <- getEnv \"IIASA_USERNAME\"\n",
    "password <- getEnv \"IIASA_PASSWORD\"\n",
    "application <- getEnv \"IIASA_APPLICATION\""
   ]
  },
  {
   "cell_type": "code",
   "execution_count": null,
   "id": "6e5e1f15-a184-481a-98c0-e6b3e9a0dbf3",
   "metadata": {},
   "outputs": [],
   "source": [
    "manager <- newManager tlsManagerSettings\n",
    "\n",
    "-- Create the request\n",
    "let requestObject = object [ \"username\" .= username\n",
    "                           , \"password\" .= password\n",
    "                           , \"application\" .= application ]\n",
    "\n",
    "initialRequest <- parseRequest \"https://db1.ene.iiasa.ac.at/EneAuth/config/v1/login\"\n",
    "let loginReqHeaders = [(\"Content-Type\", \"application/json\")] -- Accept not needed\n",
    "    request = initialRequest { method = \"POST\"\n",
    "                             , requestBody = RequestBodyLBS $ encode requestObject\n",
    "                             , requestHeaders = loginReqHeaders } \n",
    "\n",
    "response <- httpLbs request manager\n",
    "putStrLn $ \"The status code was: \" ++ (show $ statusCode $ responseStatus response)\n",
    "let token = LBS.toStrict $ LBS.filter (/=_quotedbl) (responseBody response) --  :: LBS.ByteString"
   ]
  },
  {
   "cell_type": "code",
   "execution_count": null,
   "id": "8f57a455-cfa5-4a21-9875-5e76257a84ea",
   "metadata": {},
   "outputs": [],
   "source": [
    "-- TODO: Remove this so as not to show the token\n",
    "token "
   ]
  },
  {
   "cell_type": "code",
   "execution_count": null,
   "id": "e0849ae4-df6a-474e-9032-d3318bbb00c4",
   "metadata": {},
   "outputs": [],
   "source": [
    "let phase4baseurl = \"https://db1.ene.iiasa.ac.at/ngfs-api/rest/v2.1/\""
   ]
  },
  {
   "cell_type": "code",
   "execution_count": null,
   "id": "c686e019-7c43-4a6a-be3f-4b9813194516",
   "metadata": {},
   "outputs": [],
   "source": [
    "import GHC.Generics\n",
    "import Data.Aeson"
   ]
  },
  {
   "cell_type": "markdown",
   "id": "dc999689-2515-4a32-9155-948f653e32e9",
   "metadata": {},
   "source": [
    "## Models Endpoint"
   ]
  },
  {
   "cell_type": "code",
   "execution_count": null,
   "id": "546b3a79-f07b-4cf4-81de-181ca3b8a49c",
   "metadata": {},
   "outputs": [],
   "source": [
    "data NgfsModel = NgfsModel { ngfsModel_id :: Int\n",
    "                           , ngfsModel_name :: Text }\n",
    "  deriving (Eq, Show, Generic)\n",
    "\n",
    "instance FromJSON NgfsModel where \n",
    "  parseJSON = genericParseJSON (defaultOptions { fieldLabelModifier = Prelude.drop (Prelude.length \"ngfsModel_\") })\n"
   ]
  },
  {
   "cell_type": "code",
   "execution_count": null,
   "id": "157f52ee-005d-4b67-a5d8-405df1602322",
   "metadata": {},
   "outputs": [],
   "source": [
    "initialRequest <- parseRequest (phase4baseurl ++ \"models\")\n",
    "let request = applyBearerAuth token initialRequest\n",
    "modelsResponse <- httpLbs request manager\n",
    "putStrLn $ \"The status code was: \" ++ (show $ statusCode $ responseStatus response)"
   ]
  },
  {
   "cell_type": "code",
   "execution_count": null,
   "id": "6d27db01-d718-44eb-9720-655817daf8a4",
   "metadata": {},
   "outputs": [],
   "source": [
    "print $ responseBody modelsResponse"
   ]
  },
  {
   "cell_type": "code",
   "execution_count": null,
   "id": "5ab9a0b9-143e-4cec-b58d-bcdd3e196500",
   "metadata": {},
   "outputs": [],
   "source": [
    "let ngfsModelsE = eitherDecode (responseBody modelsResponse) :: Either String [NgfsModel]"
   ]
  },
  {
   "cell_type": "code",
   "execution_count": null,
   "id": "32769fcb-cbbe-4050-89a0-c694a4f15fe6",
   "metadata": {},
   "outputs": [],
   "source": [
    "ngfsModelsE"
   ]
  },
  {
   "cell_type": "code",
   "execution_count": null,
   "id": "c0108e0a-a37e-4cc8-9f97-12eaded9e4ed",
   "metadata": {},
   "outputs": [],
   "source": [
    "ngfsModelsE >>= return . map ngfsModel_id"
   ]
  },
  {
   "cell_type": "code",
   "execution_count": null,
   "id": "a9bdc04c-2e7b-4278-b20e-47c8d2b0aa6d",
   "metadata": {},
   "outputs": [],
   "source": [
    "either (const []) id ngfsModelsE"
   ]
  },
  {
   "cell_type": "markdown",
   "id": "dbbf6093-270b-4abc-9136-408d6150730a",
   "metadata": {},
   "source": [
    "## Scenarios Endpoint"
   ]
  },
  {
   "cell_type": "code",
   "execution_count": null,
   "id": "f5d1d1d4-2ffd-46c9-b6e4-35fde899bab6",
   "metadata": {},
   "outputs": [],
   "source": [
    "scenariosRequest <- applyBearerAuth token <$> parseRequest (phase4baseurl ++ \"scenarios\")\n",
    "scenariosResponse <- httpLbs scenariosRequest manager\n",
    "putStrLn $ \"The status code was: \" ++ (show $ statusCode $ responseStatus scenariosResponse)"
   ]
  },
  {
   "cell_type": "code",
   "execution_count": null,
   "id": "4b4113e2-d261-479f-a064-6f6b9a50fc4a",
   "metadata": {},
   "outputs": [],
   "source": [
    "print $ responseBody scenariosResponse"
   ]
  },
  {
   "cell_type": "code",
   "execution_count": null,
   "id": "159030a5-4d5c-492f-81f2-3d1638fc0b5e",
   "metadata": {},
   "outputs": [],
   "source": [
    "data NgfsScenarios = NgfsScenarios { ngfsScenarios_id :: Int\n",
    "                                   , ngfsScenarios_name :: Text }\n",
    "  deriving (Eq, Show, Generic)\n",
    "\n",
    "instance FromJSON NgfsScenarios where \n",
    "  parseJSON = genericParseJSON (defaultOptions { fieldLabelModifier = Prelude.drop (Prelude.length \"ngfsScenarios_\") })\n"
   ]
  },
  {
   "cell_type": "code",
   "execution_count": null,
   "id": "0541a925-6675-40d4-aafd-96aa234df431",
   "metadata": {},
   "outputs": [],
   "source": [
    "let ngfsScenariosE = eitherDecode (responseBody scenariosResponse) :: Either String [NgfsScenarios]\n",
    "ngfsScenariosE"
   ]
  },
  {
   "cell_type": "code",
   "execution_count": null,
   "id": "9194c197-2c88-4695-9238-c803c28fb8b2",
   "metadata": {},
   "outputs": [],
   "source": []
  },
  {
   "cell_type": "markdown",
   "id": "a006dfda-56e1-4b8b-ad4b-d36a61bdeea3",
   "metadata": {},
   "source": [
    "## Docs Endpoint"
   ]
  },
  {
   "cell_type": "code",
   "execution_count": null,
   "id": "c7e358db-4f3a-48f1-af82-0b91cd941391",
   "metadata": {},
   "outputs": [],
   "source": [
    "-- Create the request\n",
    "let docsRequestObject = object [ \"keys\" .= [ \"/metadata/category\"\n",
    "                                           , \"/metadata/project\"\n",
    "                                           , \"/scenarios/61\" ] ]\n",
    "\n",
    "docsRequestInit <-  parseRequest (phase4baseurl ++ \"docs\")\n",
    "\n",
    "\n",
    "let docsReqHeaders = [ (\"Accept\", \"application/json\"), (\"Content-Type\", \"application/json\")]\n",
    "    docsRequest = applyBearerAuth token docsRequestInit { method = \"POST\"\n",
    "                                                        , requestBody = RequestBodyLBS $ encode docsRequestObject\n",
    "                                                        , requestHeaders = docsReqHeaders } \n",
    "\n",
    "docsResponse <- httpLbs docsRequest manager\n",
    "putStrLn $ \"The status code was: \" ++ (show $ statusCode $ responseStatus docsResponse)\n",
    "print $ responseBody docsResponse"
   ]
  },
  {
   "cell_type": "code",
   "execution_count": null,
   "id": "5cdad763-de5a-4914-a712-754f0f4c4ac7",
   "metadata": {},
   "outputs": [],
   "source": [
    "data NgfsDocs = NgfsDocs { ngfsDocs_key :: Text\n",
    "                         , ngfsDocs_description :: Text }\n",
    "  deriving (Eq, Show, Generic)\n",
    "\n",
    "instance FromJSON NgfsDocs where \n",
    "  parseJSON = genericParseJSON (defaultOptions { fieldLabelModifier = Prelude.drop (Prelude.length \"NgfsDocs_\") })\n"
   ]
  },
  {
   "cell_type": "code",
   "execution_count": null,
   "id": "c55159c7-e71d-4397-a9cd-0189fe46b43c",
   "metadata": {},
   "outputs": [],
   "source": [
    "let ngfsDocsE = eitherDecode (responseBody docsResponse) :: Either String [NgfsDocs]\n",
    "ngfsDocsE"
   ]
  },
  {
   "cell_type": "code",
   "execution_count": null,
   "id": "126e445a-c7fb-4e6c-86ea-80df132ef121",
   "metadata": {},
   "outputs": [],
   "source": []
  },
  {
   "cell_type": "markdown",
   "id": "2856bc40-a01a-4ad9-a560-880b362f3031",
   "metadata": {},
   "source": [
    "## TS Endpoint"
   ]
  },
  {
   "cell_type": "code",
   "execution_count": null,
   "id": "2411c47a-ac61-4bfc-990c-97090de014e1",
   "metadata": {},
   "outputs": [],
   "source": [
    "tsRequest <- applyBearerAuth token <$> parseRequest (phase4baseurl ++ \"ts\")\n",
    "tsResponse <- httpLbs tsRequest manager\n",
    "putStrLn $ \"The status code was: \" ++ (show $ statusCode $ responseStatus tsResponse)"
   ]
  },
  {
   "cell_type": "code",
   "execution_count": null,
   "id": "c1f107ce-fcdf-420a-b714-38616af9250c",
   "metadata": {
    "scrolled": true
   },
   "outputs": [],
   "source": [
    "-- printing here consumes too many resources\n",
    "-- print $ responseBody tsResponse"
   ]
  },
  {
   "cell_type": "code",
   "execution_count": null,
   "id": "17a1e1ad-cd5a-4b24-a24b-44da8bd08163",
   "metadata": {},
   "outputs": [],
   "source": [
    "data NgfsTs = NgfsTs { ngfsTs_id :: Int\n",
    "                     , ngfsTs_variable :: Text\n",
    "                     , ngfsTs_unitid :: Int\n",
    "                     , ngfsTs_unit :: Text\n",
    "                     , ngfsTs_runIds :: [Int]\n",
    "                     , ngfsTs_regions :: [Int] }\n",
    "  deriving (Eq, Show, Generic)\n",
    "\n",
    "instance FromJSON NgfsTs where \n",
    "  parseJSON = genericParseJSON (defaultOptions { fieldLabelModifier = Prelude.drop (Prelude.length \"ngfsTs_\") })\n"
   ]
  },
  {
   "cell_type": "code",
   "execution_count": null,
   "id": "978a9e53-11fa-44ef-9f9a-af48dc59d266",
   "metadata": {},
   "outputs": [],
   "source": [
    "let ngfsTsE = eitherDecode (responseBody tsResponse) :: Either String [NgfsTs]"
   ]
  },
  {
   "cell_type": "code",
   "execution_count": null,
   "id": "765271cd-7795-4431-9f9e-82978a61919a",
   "metadata": {},
   "outputs": [],
   "source": [
    "fmap (map ngfsTs_id) ngfsTsE"
   ]
  },
  {
   "cell_type": "code",
   "execution_count": null,
   "id": "40c65035-504a-418d-90ed-c7860c0f9f7e",
   "metadata": {},
   "outputs": [],
   "source": []
  }
 ],
 "metadata": {
  "kernelspec": {
   "display_name": "Haskell (NGFS)",
   "language": "haskell",
   "name": "ngfs-haskell"
  },
  "language_info": {
   "codemirror_mode": "ihaskell",
   "file_extension": ".hs",
   "mimetype": "text/x-haskell",
   "name": "haskell",
   "pygments_lexer": "Haskell",
   "version": "9.4.8"
  }
 },
 "nbformat": 4,
 "nbformat_minor": 5
}
