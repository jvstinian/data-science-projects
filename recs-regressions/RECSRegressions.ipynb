{
 "cells": [
  {
   "cell_type": "markdown",
   "id": "ab57a689-9061-41ef-b9ba-a7195dd7e20a",
   "metadata": {},
   "source": [
    "# Introduction\n",
    "This purpose of this notebook is to reproduce the regressions described in *The carbon footprint of household energy use in the United States* by Goldstein, Gounaridis, and Newell [PNAS](https://www.pnas.org/doi/abs/10.1073/pnas.1922205117).  The regressions used in that paper are described in more detail in separately-provided [Appendix](https://www.pnas.org/doi/suppl/10.1073/pnas.1922205117/suppl_file/pnas.1922205117.sapp.pdf).\n"
   ]
  },
  {
   "cell_type": "markdown",
   "id": "d138187f-afee-4323-815d-4f514db8661c",
   "metadata": {},
   "source": [
    "## Table of Contents:\n",
    "* [Data](#data)\n",
    "* [Configuration](#config)\n",
    "* [Checks](#checks)\n",
    "* [Filter To Fields For Regressions](#preprocessing)\n",
    "* [Profiling/Inspection](#profiling)\n",
    "* [Miscellaneous Electricity](#elmisc)\n",
    "* [Electricity For Space Heating](#elsph)\n",
    "* [Electricity For Space Cooling](#elcol)\n",
    "* [Electricity For Water Heating](#elwth)\n",
    "* [Natural Gas Space Heating](#ngsph)\n",
    "* [Natural Gas Water Heating](#ngwth)\n",
    "* [Fuel Oil Space Heating](#fosph)\n",
    "* [Fuel Oil Water Heating](#fowth)\n",
    "* [Propane Space Heating](#lpsph)\n",
    "* [Propane Water Heating](#lpwth)"
   ]
  },
  {
   "cell_type": "markdown",
   "id": "f1e890ee-22a4-40fb-91d8-1d50de46d685",
   "metadata": {},
   "source": [
    "# Data <a class=\"anchor\" id=\"data\"></a>\n",
    "The regression are performed using the EIA's Residential Energy Consumption Survey (RECS) data.  For the 2015 survey, we use the [microdata data set](https://www.eia.gov/consumption/residential/data/2015/csv/recs2015_public_v4.csv).  To set up the regressions below, the [data dictionary](https://www.eia.gov/consumption/residential/data/2015/xls/codebook_publicv4.xlsx) proved very useful. \n",
    "\n",
    "While the logic below does support use of the 2020 survey results, the focus is on the 2015 data as that is what is used in the referenced paper."
   ]
  },
  {
   "cell_type": "markdown",
   "id": "793b5901-6d2c-46be-8818-975d3e87efc7",
   "metadata": {},
   "source": [
    "# Imports"
   ]
  },
  {
   "cell_type": "code",
   "execution_count": null,
   "id": "5d2081d6-68e2-4e42-ad24-390fee1412fc",
   "metadata": {},
   "outputs": [],
   "source": [
    "import pandas as pd \n",
    "import numpy as np\n",
    "import statsmodels.api as sm"
   ]
  },
  {
   "cell_type": "code",
   "execution_count": null,
   "id": "df9f4f2c-2d22-4328-a356-437759c753af",
   "metadata": {},
   "outputs": [],
   "source": [
    "import matplotlib.pyplot as plt\n",
    "import seaborn as sns"
   ]
  },
  {
   "cell_type": "markdown",
   "id": "e9756835-60ff-47b3-97e6-327fc4ffca66",
   "metadata": {},
   "source": [
    "# Configuration <a class=\"anchor\" id=\"config\"></a>"
   ]
  },
  {
   "cell_type": "code",
   "execution_count": null,
   "id": "19240a9d-af8a-4a84-97c1-86cecbceb0a8",
   "metadata": {},
   "outputs": [],
   "source": [
    "vintage = 2015"
   ]
  },
  {
   "cell_type": "code",
   "execution_count": null,
   "id": "f5aa93a7-ceec-4f45-9063-b3deb745b34d",
   "metadata": {},
   "outputs": [],
   "source": [
    "water_heating_uses_fuelheat = True # True allows us to reproduce the water heating equations"
   ]
  },
  {
   "cell_type": "code",
   "execution_count": null,
   "id": "a387f67c-b36d-49e5-a020-9227bce8b46e",
   "metadata": {},
   "outputs": [],
   "source": [
    "semiattached_codes = [3]\n",
    "apartment_codes = [4, 5]"
   ]
  },
  {
   "cell_type": "code",
   "execution_count": null,
   "id": "b5215fe4-629b-4f00-875c-b1992891bc02",
   "metadata": {},
   "outputs": [],
   "source": [
    "write_energy_consumption_md = False"
   ]
  },
  {
   "cell_type": "code",
   "execution_count": null,
   "id": "45eded5f-1434-49c8-b06d-a38981ed8ab7",
   "metadata": {},
   "outputs": [],
   "source": [
    "df = pd.read_csv(\"./recs2015_public_v4.csv\") if vintage == 2015 else pd.read_csv(\"./recs2020_public_v7.csv\")"
   ]
  },
  {
   "cell_type": "code",
   "execution_count": null,
   "id": "1696b9fb-d19d-48cc-a04a-02d051e59d07",
   "metadata": {},
   "outputs": [],
   "source": [
    "elmisc_fields = [\n",
    "    \"KWHRFG\",\n",
    "    # Electricity usage for all refrigerators, in kilowatthours, 2015\n",
    "    # KWHRFG1 Electricity usage for first refrigerators, in kilowatthours, 2015\n",
    "    # KWHRFG2 Electricity usage for second refrigerators, in kilowatthours, 2015\n",
    "    \"KWHFRZ\", # Electricity usage for freezers, in kilowatthours, 2015\n",
    "    \"KWHCOK\", # Electricity usage for cooking (stoves, cooktops, and ovens), in kilowatthours, 2015\n",
    "    \"KWHMICRO\", # Electricity usage for microwaves, in kilowatthours, 2015\n",
    "    \"KWHCW\", # Electricity usage for clothes washers, in kilowatthours, 2015\n",
    "    \"KWHCDR\", # Electricity usage for clothes dryers, in kilowatthours, 2015\n",
    "    \"KWHDWH\", # Electricity usage for dishwashers, in kilowatthours, 2015\n",
    "    \"KWHLGT\", # Electricity usage for indoor and outdoor lighting, in kilowatthours, 2015\n",
    "    \"KWHTVREL\",\n",
    "    # Electricity usage for all televisions and related peripherals, in kilowatthours, 2015\n",
    "    # \"KWHTV1\",  usage for first televisions, in kilowatthours, 2015\n",
    "    # \"KWHTV2\", Electricity usage for second televisions, in kilowatthours, 2015\n",
    "    \"KWHAHUHEAT\", # Electricity usage for air handlers and boiler pumps used for heating, in kilowatthours, 2015\n",
    "    \"KWHAHUCOL\", # Electricity usage for air handlers used for cooling, in kilowatthours, 2015\n",
    "    \"KWHEVAPCOL\", # Electricity usage for evaporative coolers, in kilowatthours, 2015\n",
    "    \"KWHCFAN\", # Electricity usage for ceiling fans, in kilowatthours, 2015\n",
    "    \"KWHDHUM\", # Electricity usage for dehumidifiers, in kilowatthours, 2015\n",
    "    \"KWHHUM\", # Electricity usage for humidifiers, in kilowatthours, 2015\n",
    "    \"KWHPLPMP\", # Electricity usage for swimming pool pumps, in kilowatthours, 2015\n",
    "    \"KWHHTBPMP\", # Electricity usage for hot tub pumps, in kilowatthours, 2015\n",
    "    \"KWHHTBHEAT\", # Electricity usage for hot tub heaters, in kilowatthours, 2015\n",
    "    \"KWHNEC\", # Electricity usage for other devices and purposes not elsewhere classified, in kilowatthours, 2015\n",
    "] if vintage == 2015 else [\n",
    "    \"KWHRFG\",\n",
    "    \"KWHFRZ\",\n",
    "    \"KWHCOK\",\n",
    "    \"KWHMICRO\",\n",
    "    \"KWHCW\",\n",
    "    \"KWHCDR\",\n",
    "    \"KWHDWH\",\n",
    "    \"KWHLGT\",\n",
    "    \"KWHTVREL\",\n",
    "    \"KWHAHUHEAT\",\n",
    "    \"KWHAHUCOL\",\n",
    "    \"KWHCFAN\", #missing KWHEVAPCOL\n",
    "    \"KWHDHUM\",\n",
    "    \"KWHHUM\",\n",
    "    \"KWHPLPMP\",\n",
    "    \"KWHHTBPMP\",\n",
    "    \"KWHHTBHEAT\",\n",
    "    \"KWHEVCHRG\", #new for 2020\n",
    "    \"KWHNEC\",\n",
    "] \n",
    "\n",
    "df[\"KWHMISC\"] = df[elmisc_fields].apply(np.sum, axis=1)\n",
    "\n",
    "# if vintage == 2015:\n",
    "#     df[\"KWHOTH\"] = df.KWH - df.KWHSPH - df.KWHCOL - df.KWHWTH - df.KWHRFG"
   ]
  },
  {
   "cell_type": "code",
   "execution_count": null,
   "id": "81fe2a40-e7e3-4a6a-a2f1-2c7e6b515a83",
   "metadata": {},
   "outputs": [],
   "source": [
    "pricespecs = [\n",
    "    (\"PRCEL\", \"DOLLAREL\", \"KWH\"),\n",
    "    (\"PRCNG\", \"DOLLARNG\", \"CUFEETNG\"),\n",
    "    (\"PRCLP\", \"DOLLARLP\", \"GALLONLP\"),\n",
    "    (\"PRCFO\", \"DOLLARFO\", \"GALLONFO\"),\n",
    "] + [\n",
    "    (f\"PRCEL{heatingtype}\", f\"DOLEL{heatingtype}\", f\"KWH{heatingtype}\") for heatingtype in [\"SPH\", \"COL\", \"WTH\"]\n",
    "] + [\n",
    "    (f\"PRCNG{heatingtype}\", f\"DOLNG{heatingtype}\", f\"CUFEETNG{heatingtype}\") for heatingtype in [\"SPH\", \"WTH\"]\n",
    "] + [\n",
    "    (f\"PRCLP{heatingtype}\", f\"DOLLP{heatingtype}\", f\"GALLONLP{heatingtype}\") for heatingtype in [\"SPH\", \"WTH\"]\n",
    "] + [\n",
    "    (f\"PRCFO{heatingtype}\", f\"DOLFO{heatingtype}\", f\"GALLONFO{heatingtype}\") for heatingtype in [\"SPH\", \"WTH\"]\n",
    "]\n",
    "\n",
    "def lambda_builder(dol, con): return lambda df0: np.where(df0[con] > 0.0, df0[dol] / df0[con], 0.0)\n",
    "\n",
    "df = df.assign(\n",
    "    **{ prc: lambda_builder(dol, con) for prc, dol, con in pricespecs }\n",
    ")"
   ]
  },
  {
   "cell_type": "markdown",
   "id": "0d8c3240-c0f9-4328-9a8f-fb14e7101749",
   "metadata": {},
   "source": [
    "# Checks <a class=\"anchor\" id=\"checks\"></a>"
   ]
  },
  {
   "cell_type": "code",
   "execution_count": null,
   "id": "b8669e53-291e-4257-bc96-bff9430f00e1",
   "metadata": {},
   "outputs": [],
   "source": [
    "# A check\n",
    "df[\"KWHDIFF\"] = (df.KWH - df.KWHSPH - df.KWHCOL - df.KWHWTH - df.KWHMISC).abs()\n",
    "df.sort_values([\"KWHDIFF\"], ascending=False) [[\"KWH\", \"KWHSPH\", \"KWHCOL\", \"KWHWTH\", \"KWHMISC\", \"KWHDIFF\"] + elmisc_fields].head(5).style"
   ]
  },
  {
   "cell_type": "code",
   "execution_count": null,
   "id": "b080103b-0922-472f-a4b5-ab23bac2e4d5",
   "metadata": {},
   "outputs": [],
   "source": [
    "(df.KWH - df.KWHSPH - df.KWHCOL - df.KWHWTH - df.KWHMISC).abs().max()"
   ]
  },
  {
   "cell_type": "code",
   "execution_count": null,
   "id": "9a979312-45ef-42f6-9359-62de3df8e34d",
   "metadata": {},
   "outputs": [],
   "source": [
    "# Check KWHOTH in 2020 data\n",
    "if vintage == 2020:\n",
    "    (df.KWH - df.KWHSPH -df.KWHCOL- df.KWHWTH - df.KWHRFG - df.KWHOTH).abs().max()\n"
   ]
  },
  {
   "cell_type": "markdown",
   "id": "ff68240c-b0c5-4814-ab20-9444ab9b4da6",
   "metadata": {},
   "source": [
    "# Filter To Fields For Regressions <a class=\"anchor\" id=\"preprocessing\"></a>\n",
    "We include some fields beyond those specified in the paper for experimentation."
   ]
  },
  {
   "cell_type": "code",
   "execution_count": null,
   "id": "00d397cf-8bea-4811-ba60-cdcda916cd27",
   "metadata": {},
   "outputs": [],
   "source": [
    "extra_weather_fields = [\"HDD30YR\", \"CDD30YR\"] if vintage == 2015 else [\"HDD30YR_PUB\", \"CDDJOYR_PUB\"]\n",
    "extra_ac_fields = [\"COOLTYPE\", \"CENACHP\"] if vintage == 2015 else [\"ACEQUIPM_PUB\"]\n",
    "extra_geo_fields = [\"CLIMATE_REGION_PUB\", \"IECC_CLIMATE_PUB\"] if vintage == 2015 else [\"BA_climate\", \"IECC_climate_code\"]\n",
    "\n",
    "fields = [\n",
    "    \"REGIONC\", \"DIVISION\",\n",
    "    \"HDD65\",\n",
    "    \"CDD65\"\n",
    "] + extra_weather_fields + [\n",
    "    \"UATYP10\",\n",
    "    \"TOTCSQFT\", \"TOTHSQFT\", \"TOTSQFT_EN\",\n",
    "    \"YEARMADERANGE\",\n",
    "    \"TYPEHUQ\",\n",
    "    \"NHSLDMEM\",\n",
    "    \"HEATHOME\", \"EQUIPM\", \"FUELHEAT\", # space heating\n",
    "    \"AIRCOND\"\n",
    "] + extra_ac_fields + [\n",
    "    \"FUELH2O\", # water heating fuel \n",
    "    \"USEEL\", \"ELWARM\", \"ELCOOL\", \"ELWATER\", \n",
    "    \"USENG\", \"UGWARM\", \"UGWATER\", \n",
    "    \"USELP\", \"LPWARM\", \"LPWATER\", \n",
    "    \"USEFO\", \"FOWARM\", \"FOWATER\", \n",
    "    \"USEWOOD\", \"USESOLAR\", \"SOLWATER\",\n",
    "] + extra_geo_fields + [\n",
    "    \"KWH\", \"KWHSPH\", \"KWHCOL\", \"KWHWTH\",\n",
    "    \"KWHMISC\",\n",
    "    \"DOLLAREL\", \"DOLELSPH\", \"DOLELCOL\", \"DOLELWTH\",\n",
    "    \"CUFEETNG\", \"CUFEETNGSPH\", \"CUFEETNGWTH\", \"BTUNG\", \"BTUNGSPH\", \"BTUNGWTH\", # Check which BTU fields we want\n",
    "    \"DOLLARNG\", \"DOLNGSPH\", \"DOLNGWTH\",\n",
    "    \"GALLONLP\", \"GALLONLPSPH\", \"GALLONLPWTH\", \"BTULP\", \"BTULPSPH\", \"BTULPWTH\", #Check which BTU fields we want\n",
    "    \"DOLLARLP\", \"DOLLPSPH\", \"DOLLPWTH\",\n",
    "    \"GALLONFO\", \"GALLONFOSPH\", \"GALLONFOWTH\", \"BTUFO\", \"BTUFOSPH\", \"BTUFOWTH\", # Check which BTU fields we want \n",
    "    \"DOLLARFO\", \"DOLFOSPH\", \"DOLFOWTH\",\n",
    "    \"ATHOME\", \"EMPLOYHH\", \"NWEIGHT\" # Adding for diagnostic purposes \n",
    "] + [fld for fld, _, _ in pricespecs]\n",
    "\n",
    "df = df[fields]\n",
    "\n",
    "if vintage == 2020:\n",
    "    # the REGIONC field in 2020 data is a string label rather than a numeric code in the 2015 data, \n",
    "    # so we adjust here to avoid changing indicator variable definitions below.\n",
    "    regionmap = {\n",
    "        \"NORTHEAST\": 1,\n",
    "        \"MIDWEST\": 2,\n",
    "        \"SOUTH\": 3,\n",
    "        \"WEST\": 4\n",
    "    }\n",
    "    df = df.assign(\n",
    "        REGIONC2020 = lambda df0: df0.REGIONC,\n",
    "        REGIONC = lambda df0: df0.REGIONC2020.map(regionmap)\n",
    "    )\n"
   ]
  },
  {
   "cell_type": "markdown",
   "id": "c46bc293-2795-42f3-8d27-20fe0b272a3c",
   "metadata": {},
   "source": [
    "# Profiling/Inspection <a class=\"anchor\" id=\"profiling\"></a>"
   ]
  },
  {
   "cell_type": "code",
   "execution_count": null,
   "id": "ca6f2477-848a-4dc3-af6b-0b6e606c6440",
   "metadata": {},
   "outputs": [],
   "source": [
    "# This can be compared against the histogram provided in the supplemental materials\n",
    "# This is the floor area in m^2 for SF detached houses.\n",
    "plt.hist(df.TOTSQFT_EN[df.TYPEHUQ== 2] / 10.7639, bins=15, weights=df.NWEIGHT[df.TYPEHUQ == 2], density=True)\n",
    "plt.title(\"Single-Family Detached Household Size\")\n",
    "plt.xlabel(\"Household Size (square meters)\")\n",
    "plt.ylabel(\"Density\")\n",
    "# plt.savefig(\"sf_detached_household_size.png\")\n",
    "plt.show()"
   ]
  },
  {
   "cell_type": "code",
   "execution_count": null,
   "id": "67d01b71-e201-4ea8-8361-38f648a225d5",
   "metadata": {},
   "outputs": [],
   "source": [
    "# This can be compared against the histogram provided in the supplemental materials\n",
    "# This is the floor area in m^2 for SF detached houses.\n",
    "plt.hist(df.TOTSQFT_EN[df.TYPEHUQ.isin([4, 5])] / 10.7639, bins=13, weights=df.NWEIGHT[df.TYPEHUQ.isin([4, 5])], density=True)\n",
    "plt.title(\"Apartment Size\")\n",
    "plt.xlabel(\"Household Size (square meters)\")\n",
    "# plt.savefig(\"apartment_household_size.png\")\n",
    "plt.ylabel(\"Density\")\n",
    "plt.show()"
   ]
  },
  {
   "cell_type": "code",
   "execution_count": null,
   "id": "fe7ca6ae-b6ac-41cf-89a8-b04377a143e5",
   "metadata": {},
   "outputs": [],
   "source": [
    "#This is the floor area in m^2 for all properties.\n",
    "plt.hist(df.TOTSQFT_EN / 10.7639, bins=15, weights=df.NWEIGHT)\n",
    "plt.show()"
   ]
  },
  {
   "cell_type": "code",
   "execution_count": null,
   "id": "dc0b6639-2e0a-4afe-8b6b-098a9d268db1",
   "metadata": {},
   "outputs": [],
   "source": [
    "area_mean = (df.NWEIGHT[df.TYPEHUQ == 2] * (df.TOTSQFT_EN[df.TYPEHUQ == 2] / 10.7639)).sum()/df.NWEIGHT[df.TYPEHUQ == 2].sum()\n",
    "print(f\"Mean area (m^2) for single-family detached house: {area_mean}\") \n",
    "print(f\"Count for single-family detached house: {(df.TOTSQFT_EN[df.TYPEHUQ == 2] / 10.7639).count()}\")"
   ]
  },
  {
   "cell_type": "code",
   "execution_count": null,
   "id": "a1a5c2ef-2170-412c-bf82-0702d6717992",
   "metadata": {},
   "outputs": [],
   "source": [
    "area_mean = (df.NWEIGHT[df.TYPEHUQ.isin([4, 5])] * (df.TOTSQFT_EN[df.TYPEHUQ.isin([4, 5])] / 10.7639)).sum() / df.NWEIGHT[df.TYPEHUQ.isin([4, 5])].sum()\n",
    "print(f\"Mean area (m^2) for apartment: {area_mean}\")"
   ]
  },
  {
   "cell_type": "code",
   "execution_count": null,
   "id": "a9b9f2c7-c4c9-4604-bd28-6d4eb095d746",
   "metadata": {},
   "outputs": [],
   "source": [
    "area_mean = (df.NWEIGHT[df.TYPEHUQ.isin([5])] * (df.TOTSQFT_EN[df.TYPEHUQ.isin([5])] / 10.7639)).sum()/df.NWEIGHT[df.TYPEHUQ.isin([5])].sum()\n",
    "print(f\"Mean area (m^2) for apartment (buildings with 5 or more units): {area_mean}\")"
   ]
  },
  {
   "cell_type": "code",
   "execution_count": null,
   "id": "575fe96e-c188-4649-b0ae-a099637d8434",
   "metadata": {},
   "outputs": [],
   "source": [
    "area_mean = (df.NWEIGHT[df.TYPEHUQ.isin([3])] * (df.TOTSQFT_EN[df.TYPEHUQ.isin([3])] / 10.7639)).sum() / df.NWEIGHT[df.TYPEHUQ.isin([3])].sum()\n",
    "print(f\"Mean area (m^2) for SF attached house: {area_mean}\")"
   ]
  },
  {
   "cell_type": "code",
   "execution_count": null,
   "id": "cd1b2c8a-dad3-4b0d-9780-b02e2d88d9b8",
   "metadata": {},
   "outputs": [],
   "source": [
    "area_mean = (df.NWEIGHT[df.TYPEHUQ.isin([1])] * (df.TOTSQFT_EN[df.TYPEHUQ.isin([1])] / 10.7639)).sum() / df.NWEIGHT[df.TYPEHUQ.isin([1])].sum()\n",
    "print(f\"Mean area (m^2) for mobile home: {area_mean}\") "
   ]
  },
  {
   "cell_type": "code",
   "execution_count": null,
   "id": "24cbced6-0284-4855-ae71-02603daba7d3",
   "metadata": {},
   "outputs": [],
   "source": [
    "# The binning isn't great here, but should be sufficient for basic profiling \n",
    "plt.hist(df.ATHOME, bins=6, density=True, weights=df.NWEIGHT)\n",
    "plt.show()"
   ]
  },
  {
   "cell_type": "markdown",
   "id": "376931f8-b21f-4ecc-8af0-e967491c64fb",
   "metadata": {},
   "source": [
    "# Miscellaneous Electricity <a class=\"anchor\" id=\"elmisc\"></a>\n",
    "(1) QEL,misc = exp(β0 + β1ln(A) + β2Type + ẞ3Prel,i + ẞ4Statusj + B5YrRange + ẞ6log(n) + ẞ7NE)\n"
   ]
  },
  {
   "cell_type": "code",
   "execution_count": null,
   "id": "be38b3c1-ec2c-4f2d-871e-70ce45c4ef3a",
   "metadata": {},
   "outputs": [],
   "source": [
    "elmsc = df[(df.USEEL != 0)].assign(\n",
    "    lnqelmisc = lambda df0: np.log(df0.KWHMISC),\n",
    "    nweight = lambda df0: df0.NWEIGHT,\n",
    "    lna = lambda df0: np.log(df0.TOTSQFT_EN),\n",
    "    mobileind = lambda df0: (df0.TYPEHUQ == 1).astype(float),\n",
    "    semiind = lambda df0: df0.TYPEHUQ.isin(semiattached_codes).astype(float),\n",
    "    singleind = lambda df0: (df0.TYPEHUQ == 2).astype(float),\n",
    "    prcelmsc = lambda df0: df0.PRCEL * 100.0, # cents per kWh\n",
    "    yr = lambda df0: df0.YEARMADERANGE,\n",
    "    lnn = lambda df0: np.log(df0.NHSLDMEM),\n",
    "    isurban = lambda df0: df0.UATYP10.isin([\"U\", \"C\"]).astype(float),\n",
    "    isnortheast = lambda df0: (df0.REGIONC == 1).astype(float),\n",
    ")[[\n",
    "    \"lnqelmisc\", \"nweight\",\n",
    "    \"lna\",\n",
    "    \"mobileind\", \"semiind\", \"singleind\",\n",
    "    \"prcelmsc\",\n",
    "    \"yr\",\n",
    "    \"lnn\",\n",
    "    \"isurban\",\n",
    "    \"isnortheast\",\n",
    "]]    \n",
    "elmsc.describe()"
   ]
  },
  {
   "cell_type": "code",
   "execution_count": null,
   "id": "6f4cc0c9-1f78-4dbc-b2f6-13316cc74ccc",
   "metadata": {},
   "outputs": [],
   "source": [
    "ytrain_elmsc = elmsc.lnqelmisc\n",
    "weights = elmsc.nweight\n",
    "xtrain_elmsc = sm.add_constant(elmsc.drop(columns=[\"lnqelmisc\", \"nweight\"]))\n",
    "model_estimator = sm.WLS(ytrain_elmsc, xtrain_elmsc, weights)"
   ]
  },
  {
   "cell_type": "code",
   "execution_count": null,
   "id": "87a49e45-e43f-46d3-aa32-cded62a0fd8b",
   "metadata": {},
   "outputs": [],
   "source": [
    "model = model_estimator.fit()"
   ]
  },
  {
   "cell_type": "code",
   "execution_count": null,
   "id": "29134d3c-dc83-4391-8c53-6af3f9fceff5",
   "metadata": {},
   "outputs": [],
   "source": [
    "print(model.summary())"
   ]
  },
  {
   "cell_type": "code",
   "execution_count": null,
   "id": "862d54e8-603e-4dce-8e9b-e00d77031d5b",
   "metadata": {},
   "outputs": [],
   "source": [
    "# This for ease of copying to a spreadsheet\n",
    "pd.DataFrame({\n",
    "    \"Estimate\": model.params,\n",
    "    \"Std. Error\": model.bse,\n",
    "    \"t value\": model.tvalues,\n",
    "    \"P(>|t|)\": model.pvalues\n",
    "}).style"
   ]
  },
  {
   "cell_type": "code",
   "execution_count": null,
   "id": "e5d9271d-a6d4-4f15-b45b-b5f596feda3c",
   "metadata": {},
   "outputs": [],
   "source": [
    "if write_energy_consumption_md:\n",
    "    pd.DataFrame({\n",
    "        \"Estimate\": model.params,\n",
    "        \"Std. Error\": model.bse,\n",
    "        \"t value\": model.tvalues,\n",
    "        \"P(>|t|)\": model.pvalues\n",
    "    }).rename_axis([\"Coefficients\"], axis=\"index\").to_markdown(\n",
    "        \"./EnergyConsumptionRegressions-elmisc.md\",\n",
    "        \"a\",\n",
    "        index=True\n",
    "    )"
   ]
  },
  {
   "cell_type": "markdown",
   "id": "a604da64-496c-4e32-9d97-31b7d9c4413a",
   "metadata": {},
   "source": [
    "# Electricity For Space Heating <a class=\"anchor\" id=\"elsph\"></a>\n",
    "(2) QEL,heat = exp(ẞ0 + β1ln(A) + B2Type + B3Prel,i + B4Yr + ẞ5In(HDD65,k) + ẞ6ln(CDD65,k) + B7S + ẞ8Statusj)"
   ]
  },
  {
   "cell_type": "code",
   "execution_count": null,
   "id": "b9aecc3f-6bce-4aad-ad94-30d754803594",
   "metadata": {},
   "outputs": [],
   "source": [
    "# Note: For 2020 we must require KWHSPH > 0 as there appear to be some Os mixed in\n",
    "# Note: For 2020 tried to add the following conditions to improve fits, to no avail: (df.KWHSPH > 200.0) & (df. TOTHSQFT > 400)\n",
    "fuelcond = (df.HDD65 > 0) & (df.CDD65 > 0) & (df.FUELHEAT == 5)\n",
    "if vintage == 2020:\n",
    "    fuelcond &= (df.KWHSPH > 0)\n",
    "\n",
    "elsph = df[fuelcond].assign(\n",
    "    lnqelheat = lambda df0: np.log(df0.KWHSPH),\n",
    "    nweight = lambda df0: df0.NWEIGHT,\n",
    "    lna = lambda df0: np.log(df0.TOTSQFT_EN),\n",
    "    mobileind = lambda df0: (df0.TYPEHUQ == 1).astype(float),\n",
    "    semiind = lambda df0: df0.TYPEHUQ.isin(semiattached_codes).astype(float),\n",
    "    singleind = lambda df0: (df0.TYPEHUQ == 2).astype(float),\n",
    "    prcelsph = lambda df0: df0.PRCELSPH * 100.0, # cents per kWh\n",
    "    yr = lambda df0: df0.YEARMADERANGE,\n",
    "    lnhdd = lambda df0: np.log(df0.HDD65),\n",
    "    lncdd = lambda df0: np.log(df0.CDD65),\n",
    "    issouth = lambda df0: (df0.REGIONC == 3).astype (float),\n",
    "    isnortheast = lambda df0: (df0.REGIONC == 1).astype(float),\n",
    "    ismidwest = lambda df0: (df0.REGIONC == 2).astype(float),\n",
    "    isurban = lambda df0: df0.UATYP10.isin([\"U\", \"C\"]).astype (float),\n",
    ")[[\n",
    "    \"lnqelheat\", \"nweight\",\n",
    "    \"lna\", \"mobileind\", \"semiind\", \"singleind\", \n",
    "    \"prcelsph\", \"yr\", \n",
    "    \"lnhdd\", \"lncdd\",\n",
    "    \"issouth\",\n",
    "    \"isurban\"\n",
    "]] \n",
    "elsph.describe()"
   ]
  },
  {
   "cell_type": "code",
   "execution_count": null,
   "id": "fe949cbd-1db7-43e8-a3d1-732a374adec7",
   "metadata": {},
   "outputs": [],
   "source": [
    "ytrain_elsph = elsph.lnqelheat\n",
    "weights = elsph.nweight\n",
    "xtrain_elsph = sm.add_constant(elsph.drop(columns=[\"lnqelheat\", \"nweight\"]))\n",
    "model_estimator = sm.WLS(ytrain_elsph, xtrain_elsph, weights)"
   ]
  },
  {
   "cell_type": "code",
   "execution_count": null,
   "id": "445745c0-d189-4f74-9726-b5b53de119ba",
   "metadata": {},
   "outputs": [],
   "source": [
    "model = model_estimator.fit()"
   ]
  },
  {
   "cell_type": "code",
   "execution_count": null,
   "id": "a859b3d4-477b-482d-a827-8e7eba0132a2",
   "metadata": {},
   "outputs": [],
   "source": [
    "print(model.summary())"
   ]
  },
  {
   "cell_type": "code",
   "execution_count": null,
   "id": "7b52ba34-620d-466f-89e2-668af98fcfc3",
   "metadata": {},
   "outputs": [],
   "source": [
    "pd.DataFrame({\n",
    "    \"Estimate\": model.params,\n",
    "    \"Std. Error\": model.bse,\n",
    "    \"t value\": model.tvalues,\n",
    "    \"P(>|t|)\": model.pvalues\n",
    "}).style"
   ]
  },
  {
   "cell_type": "code",
   "execution_count": null,
   "id": "43cd783c-8e88-4594-9440-4aef4292d68c",
   "metadata": {},
   "outputs": [],
   "source": [
    "if write_energy_consumption_md:\n",
    "    pd.DataFrame({\n",
    "        \"Estimate\": model.params,\n",
    "        \"Std. Error\": model.bse,\n",
    "        \"t value\": model.tvalues,\n",
    "        \"P(>|t|)\": model.pvalues\n",
    "    }).rename_axis([\"Coefficients\"], axis=\"index\").to_markdown(\n",
    "        \"./EnergyConsumptionRegressions-elsph.md\",\n",
    "        \"a\",\n",
    "        index=True\n",
    "    )"
   ]
  },
  {
   "cell_type": "markdown",
   "id": "e28131be-e239-46df-9a36-76805fa71eea",
   "metadata": {},
   "source": [
    "# Electricity For Space Cooling <a class=\"anchor\" id=\"elcol\"></a>\n",
    "(3) QEL,cool = exp(ẞ0 + β1ln(A) + β2Type + ẞ3Prel,i + ẞ4Yr + ẞ5In(CDD65,k) + β6S)"
   ]
  },
  {
   "cell_type": "code",
   "execution_count": null,
   "id": "62616b09-9ec6-49dd-869e-d70423dd10fb",
   "metadata": {},
   "outputs": [],
   "source": [
    "elcol = df[(df.ELCOOL != 0) & (df.KWHCOL > 0) & (df.CDD65 > 0)].assign(\n",
    "    lnqelcol = lambda df0: np.log(df0.KWHCOL),\n",
    "    nweight = lambda df0: df0.NWEIGHT,\n",
    "    lna = lambda df0: np.log(df0.TOTSQFT_EN),\n",
    "    mobileind = lambda df0: (df0.TYPEHUQ == 1).astype(float),\n",
    "    semiind = lambda df0: df0.TYPEHUQ.isin(semiattached_codes).astype(float),\n",
    "    singleind = lambda df0: (df0.TYPEHUQ == 2).astype(float),\n",
    "    prcelcol = lambda df0: df0.PRCELCOL * 100.10, # cents per kWh\n",
    "    yr = lambda df0: df0.YEARMADERANGE,\n",
    "    lncdd = lambda df0: np.log(df0.CDD65),\n",
    "    issouth = lambda df0: (df0.REGIONC == 3).astype(float),\n",
    "    isnortheast = lambda df0: (df0.REGIONC == 1).astype(float),\n",
    "    ismidwest = lambda df0: (df0.REGIONC == 2).astype(float),\n",
    ")[[\n",
    "    \"lnqelcol\", \"nweight\",\n",
    "    \"lna\", \n",
    "    \"mobileind\", \"semiind\", \"singleind\", \n",
    "    \"prcelcol\", \"yr\",\n",
    "    \"lncdd\",\n",
    "    \"issouth\",\n",
    "]]\n",
    "elcol.describe()"
   ]
  },
  {
   "cell_type": "code",
   "execution_count": null,
   "id": "d5cf3347-63c6-40ce-becb-7061c4bb02cc",
   "metadata": {},
   "outputs": [],
   "source": [
    "ytrain_elcol = elcol.lnqelcol\n",
    "weights = elcol.nweight\n",
    "xtrain_elcol = sm.add_constant(elcol.drop(columns=[\"lnqelcol\", \"nweight\"]))\n",
    "model_estimator = sm.WLS(ytrain_elcol, xtrain_elcol, weights)"
   ]
  },
  {
   "cell_type": "code",
   "execution_count": null,
   "id": "49c99352-c34e-46e0-9c2c-3905372e3fdf",
   "metadata": {},
   "outputs": [],
   "source": [
    "model = model_estimator.fit()"
   ]
  },
  {
   "cell_type": "code",
   "execution_count": null,
   "id": "88d66642-19e2-43b1-977e-df13679ef2ef",
   "metadata": {},
   "outputs": [],
   "source": [
    "print(model.summary())"
   ]
  },
  {
   "cell_type": "code",
   "execution_count": null,
   "id": "699dfe63-f963-41d2-af87-032c0fe5ec84",
   "metadata": {
    "scrolled": true
   },
   "outputs": [],
   "source": [
    "pd.DataFrame({\n",
    "    \"Estimate\": model.params,\n",
    "    \"Std. Error\": model.bse,\n",
    "    \"t value\": model.tvalues,\n",
    "    \"P(>|t|)\": model.pvalues\n",
    "}).style"
   ]
  },
  {
   "cell_type": "code",
   "execution_count": null,
   "id": "b2404f20-f480-4ad1-ad9e-1bb43fc1270f",
   "metadata": {},
   "outputs": [],
   "source": [
    "if write_energy_consumption_md:\n",
    "    pd.DataFrame({\n",
    "        \"Estimate\": model.params,\n",
    "        \"Std. Error\": model.bse,\n",
    "        \"t value\": model.tvalues,\n",
    "        \"P(>|t|)\": model.pvalues\n",
    "    }).rename_axis([\"Coefficients\"], axis=\"index\").to_markdown(\n",
    "        \"./EnergyConsumptionRegressions-elcol.md\",\n",
    "        \"a\",\n",
    "        index=True\n",
    "    )"
   ]
  },
  {
   "cell_type": "markdown",
   "id": "715e9160-bc43-49ed-853c-f0ed5e034230",
   "metadata": {},
   "source": [
    "# Electricity For Water Heating <a class=\"anchor\" id=\"elwth\"></a>\n",
    "(4) QEL,water = exp(ẞ0 + B1Prel,i + B2Yr + B3HDD65,k + ẞ4ln(n) + ẞ5Region + ẞ6Statusj)"
   ]
  },
  {
   "cell_type": "code",
   "execution_count": null,
   "id": "76a9924c-ec7c-4e41-8105-40130ba0d2a5",
   "metadata": {},
   "outputs": [],
   "source": [
    "fuelcond = (df.FUELH2O == 5) & (df.KWHWTH > 0)\n",
    "if water_heating_uses_fuelheat:\n",
    "    fuelcond = (df.FUELHEAT == 5) & (df.KWHWTH > 0)"
   ]
  },
  {
   "cell_type": "code",
   "execution_count": null,
   "id": "b117884c-15d0-40a7-a6a7-f0cf7c3b367d",
   "metadata": {},
   "outputs": [],
   "source": [
    "elwth = df[fuelcond].assign(\n",
    "    lnqelwth = lambda df0: np.log(df0.KWHWTH),\n",
    "    nweight = lambda df0: df0.NWEIGHT,\n",
    "    lnn = lambda df0: np.log(df0.NHSLDMEM),\n",
    "    prcelwth = lambda df0: df0.PRCELWTH * 100.0, # cents per kWh\n",
    "    yr = lambda df0: df0.YEARMADERANGE,\n",
    "    hdd = lambda df0: df0.HDD65,\n",
    "    issouth = lambda df0: (df0.REGIONC == 3).astype(float),\n",
    "    isnortheast = lambda df0: (df0.REGIONC == 1).astype(float),\n",
    "    iswest = lambda df0: (df0.REGIONC == 4).astype (float),\n",
    "    isurban = lambda df0: df0.UATYP10.isin([\"U\", \"C\"]).astype(float),\n",
    ")[[\n",
    "    \"lnqelwth\", \"nweight\",\n",
    "    \"prcelwth\",\n",
    "    \"yr\",\n",
    "    \"hdd\",\n",
    "    \"lnn\",\n",
    "    \"isnortheast\", \"issouth\", \"iswest\",\n",
    "    \"isurban\"\n",
    "]]\n",
    "elwth.describe()"
   ]
  },
  {
   "cell_type": "code",
   "execution_count": null,
   "id": "18006fef-3983-496b-8270-7b5b204cc929",
   "metadata": {},
   "outputs": [],
   "source": [
    "ytrain_elwth = elwth.lnqelwth\n",
    "weights = elwth.nweight\n",
    "xtrain_elwth = sm.add_constant(elwth.drop(columns=[\"lnqelwth\", \"nweight\"]))\n",
    "model_estimator = sm.WLS(ytrain_elwth, xtrain_elwth, weights)"
   ]
  },
  {
   "cell_type": "code",
   "execution_count": null,
   "id": "e19a86c4-7c61-4316-8559-fbdfda96db46",
   "metadata": {},
   "outputs": [],
   "source": [
    "model = model_estimator.fit()"
   ]
  },
  {
   "cell_type": "code",
   "execution_count": null,
   "id": "98f6281d-fe15-4916-a676-7d7eafc024e0",
   "metadata": {},
   "outputs": [],
   "source": [
    "print(model.summary())"
   ]
  },
  {
   "cell_type": "code",
   "execution_count": null,
   "id": "a8ea49db-5589-40ee-b662-187e16e4eb30",
   "metadata": {},
   "outputs": [],
   "source": [
    "pd.DataFrame({\n",
    "    \"Estimate\": model.params,\n",
    "    \"Std. Error\": model.bse,\n",
    "    \"t value\": model.tvalues,\n",
    "    \"P(>|t|)\": model.pvalues\n",
    "}).style"
   ]
  },
  {
   "cell_type": "code",
   "execution_count": null,
   "id": "cc347edf-461c-4517-b6a7-bda04cf3deb8",
   "metadata": {},
   "outputs": [],
   "source": [
    "if write_energy_consumption_md:\n",
    "    pd.DataFrame({\n",
    "        \"Estimate\": model.params,\n",
    "        \"Std. Error\": model.bse,\n",
    "        \"t value\": model.tvalues,\n",
    "        \"P(>|t|)\": model.pvalues\n",
    "    }).rename_axis([\"Coefficients\"], axis=\"index\").to_markdown(\n",
    "        \"./EnergyConsumptionRegressions-elwth.md\",\n",
    "        \"a\",\n",
    "        index=True\n",
    "    )"
   ]
  },
  {
   "cell_type": "markdown",
   "id": "7c1973b3-3003-4b5d-b709-fcb739f2829b",
   "metadata": {},
   "source": [
    "# Natural Gas Space Heating <a class=\"anchor\" id=\"ngsph\"></a>\n",
    "(5) QNG,heat = exp(ẞ0 + β1ln(A) + β2Prng,i + ẞ3Yr + ẞ4ln(HDD65,k) + ẞ5Region + ẞ6Type)"
   ]
  },
  {
   "cell_type": "code",
   "execution_count": null,
   "id": "6ccd8468-e014-45f4-8640-ca032e0bc0ac",
   "metadata": {},
   "outputs": [],
   "source": [
    "# Note: For 2020, adding (df.PRCNGSPH < 2) to filter only leads to small improvement"
   ]
  },
  {
   "cell_type": "code",
   "execution_count": null,
   "id": "409f8125-fcc0-4434-ba81-2622a89dd907",
   "metadata": {},
   "outputs": [],
   "source": [
    "ngsph = df[(df.HDD65 > 0) & (df.FUELHEAT == 1)].assign(\n",
    "    lnqngheat = lambda df0: np.log(df0.BTUNGSPH),\n",
    "    nweight = lambda df0: df0.NWEIGHT,\n",
    "    lna = lambda df0: np.log(df0.TOTSQFT_EN),\n",
    "    mobileind = lambda df0: (df0.TYPEHUQ == 1).astype (float),\n",
    "    semiind = lambda df0: df0.TYPEHUQ.isin(semiattached_codes).astype(float),\n",
    "    singleind = lambda df0: (df0.TYPEHUQ == 2).astype(float),\n",
    "    prcngsph = lambda df0: 10.0* df0.PRCNGSPH, # dollars per 100 cuft converted to dollars per 1000 cuft\n",
    "    yr = lambda df0: df0.YEARMADERANGE,\n",
    "    lnhdd = lambda df0: np.log(df0.HDD65),\n",
    "    issouth = lambda df0: (df0.REGIONC == 3).astype(float),\n",
    "    isnortheast = lambda df0: (df0.REGIONC == 1).astype(float),\n",
    "    iswest = lambda df0: (df0.REGIONC == 4).astype(float),\n",
    ")[[\n",
    "    \"lnqngheat\", \"nweight\",\n",
    "    \"lna\",\n",
    "    \"prcngsph\",\n",
    "    \"yr\",\n",
    "    \"lnhdd\",\n",
    "    \"isnortheast\", \"issouth\", \"iswest\",\n",
    "    \"mobileind\", \"semiind\", \"singleind\",\n",
    "]]\n",
    "ngsph.describe()"
   ]
  },
  {
   "cell_type": "code",
   "execution_count": null,
   "id": "26d7e894-b323-4ec7-9674-a161084bb02c",
   "metadata": {},
   "outputs": [],
   "source": [
    "ytrain_ngsph = ngsph.lnqngheat\n",
    "weights = ngsph.nweight\n",
    "xtrain_ngsph = sm.add_constant(ngsph.drop(columns=[\"lnqngheat\", \"nweight\"]))\n",
    "model_estimator = sm.WLS(ytrain_ngsph, xtrain_ngsph, weights)"
   ]
  },
  {
   "cell_type": "code",
   "execution_count": null,
   "id": "f8ef8aa6-3844-4f38-a3c1-a40327e93de0",
   "metadata": {},
   "outputs": [],
   "source": [
    "model = model_estimator.fit()"
   ]
  },
  {
   "cell_type": "code",
   "execution_count": null,
   "id": "1f93fd69-8dc9-48dd-8c1e-d69b5d36a85a",
   "metadata": {},
   "outputs": [],
   "source": [
    "print(model.summary())"
   ]
  },
  {
   "cell_type": "code",
   "execution_count": null,
   "id": "bc3eaa00-e4ca-424e-ae22-ec2251a2d626",
   "metadata": {},
   "outputs": [],
   "source": [
    "pd.DataFrame({\n",
    "    \"Estimate\": model.params,\n",
    "    \"Std. Error\": model.bse,\n",
    "    \"t value\": model.tvalues,\n",
    "    \"P(>|t|)\": model.pvalues\n",
    "}).style\n"
   ]
  },
  {
   "cell_type": "code",
   "execution_count": null,
   "id": "85bbb8e7-4e22-4f09-8e77-bbe85ceca61e",
   "metadata": {},
   "outputs": [],
   "source": [
    "if write_energy_consumption_md:\n",
    "    pd.DataFrame({\n",
    "        \"Estimate\": model.params,\n",
    "        \"Std. Error\": model.bse,\n",
    "        \"t value\": model.tvalues,\n",
    "        \"P(>|t|)\": model.pvalues\n",
    "    }).rename_axis([\"Coefficients\"], axis=\"index\").to_markdown(\n",
    "        \"./EnergyConsumptionRegressions-ngsph.md\",\n",
    "        \"a\",\n",
    "        index=True\n",
    "    )"
   ]
  },
  {
   "cell_type": "markdown",
   "id": "eff63921-2eea-48b2-b7a0-b4566d250b4e",
   "metadata": {},
   "source": [
    "# Natural Gas Water Heating <a class=\"anchor\" id=\"ngwth\"></a>\n",
    "(6) QNG,heat = exp(ẞ0 + ẞ1ln(n) + ẞ2Prng,i + B3Yr + ẞ4In(HDD65,k) + B5Region)\n"
   ]
  },
  {
   "cell_type": "code",
   "execution_count": null,
   "id": "236f57be-a6cd-426e-8e54-ab16d0135b9d",
   "metadata": {},
   "outputs": [],
   "source": [
    "df[[\"UGWATER\", \"FUELH2O\"]].drop_duplicates().sort_values([\"UGWATER\"])"
   ]
  },
  {
   "cell_type": "code",
   "execution_count": null,
   "id": "cb2c415c-433d-4df3-987a-3242650f8985",
   "metadata": {},
   "outputs": [],
   "source": [
    "fuelcond = (df.FUELH2O == 1) & (df.BTUNGWTH > 0)\n",
    "if water_heating_uses_fuelheat:\n",
    "    fuelcond = (df.FUELHEAT == 1) & (df.BTUNGWTH > 0)"
   ]
  },
  {
   "cell_type": "code",
   "execution_count": null,
   "id": "bfc74a94-0b1c-4e00-8004-422c63b66f24",
   "metadata": {},
   "outputs": [],
   "source": [
    "ngwth = df[fuelcond].assign(\n",
    "    lnqngwth = lambda df0: np.log(df0.BTUNGWTH),\n",
    "    nweight = lambda df0: df0.NWEIGHT,\n",
    "    lnn = lambda df0: np.log(df0.NHSLDMEM),\n",
    "    prcngwth = lambda df0: 10.0 * df0.PRCNGWTH, # dollars per 100 cuft converted to dollars per 1000 cuft \n",
    "    yr = lambda df0: df0.YEARMADERANGE,\n",
    "    hdd = lambda df0: df0.HDD65,\n",
    "    isnortheast = lambda df0: (df0.REGIONC == 1).astype(float), \n",
    "    issouth = lambda df0: (df0.REGIONC == 3).astype(float),\n",
    "    iswest = lambda df0: (df0.REGIONC == 4).astype(float),\n",
    ")[[\n",
    "    \"lnqngwth\", \"nweight\",\n",
    "    \"lnn\",\n",
    "    \"prcngwth\",\n",
    "    \"yr\",\n",
    "    \"hdd\",\n",
    "    \"isnortheast\", \"issouth\", \"iswest\",\n",
    "]]\n",
    "ngwth.describe()"
   ]
  },
  {
   "cell_type": "code",
   "execution_count": null,
   "id": "b249436e-879c-4d8f-9b35-3783ee488ec1",
   "metadata": {},
   "outputs": [],
   "source": [
    "ytrain_ngwth = ngwth.lnqngwth\n",
    "weights = ngwth.nweight\n",
    "xtrain_ngwth = sm.add_constant(ngwth.drop(columns=[\"lnqngwth\", \"nweight\"]))\n",
    "model_estimator = sm.WLS(ytrain_ngwth, xtrain_ngwth, weights)"
   ]
  },
  {
   "cell_type": "code",
   "execution_count": null,
   "id": "a7215956-33ee-4722-b5f2-13ad2b10bdbf",
   "metadata": {},
   "outputs": [],
   "source": [
    "model = model_estimator.fit()"
   ]
  },
  {
   "cell_type": "code",
   "execution_count": null,
   "id": "2bebd29e-480a-4f5c-b9be-4aa11990cc04",
   "metadata": {},
   "outputs": [],
   "source": [
    "print(model.summary())"
   ]
  },
  {
   "cell_type": "code",
   "execution_count": null,
   "id": "890319cf-37d0-4afa-9d5f-6fa63ce394c4",
   "metadata": {},
   "outputs": [],
   "source": [
    "pd.DataFrame({\n",
    "    \"Estimate\": model.params,\n",
    "    \"Std. Error\": model.bse,\n",
    "    \"t value\": model.tvalues,\n",
    "    \"P(>|t|)\": model.pvalues\n",
    "}).style"
   ]
  },
  {
   "cell_type": "code",
   "execution_count": null,
   "id": "3978cea2-d0b2-44e7-a93f-40cd0e59db95",
   "metadata": {},
   "outputs": [],
   "source": [
    "if write_energy_consumption_md:\n",
    "    pd.DataFrame({\n",
    "        \"Estimate\": model.params,\n",
    "        \"Std. Error\": model.bse,\n",
    "        \"t value\": model.tvalues,\n",
    "        \"P(>|t|)\": model.pvalues\n",
    "    }).rename_axis([\"Coefficients\"], axis=\"index\").to_markdown(\n",
    "        \"./EnergyConsumptionRegressions-ngwth.md\",\n",
    "        \"a\",\n",
    "        index=True\n",
    "    )"
   ]
  },
  {
   "cell_type": "markdown",
   "id": "c4a8895f-2624-49dd-9af0-00fa72f56d81",
   "metadata": {},
   "source": [
    "# Fuel Oil Space Heating <a class=\"anchor\" id=\"fosph\"></a>\n",
    "(9) QFO,heat = exp(β0 + β1ln(A) + B2Yr + B3Prfo,i + B4HDD65,k + ẞ5Apt)"
   ]
  },
  {
   "cell_type": "code",
   "execution_count": null,
   "id": "4b638828-4c61-41b5-b13d-8ff71a15ed69",
   "metadata": {},
   "outputs": [],
   "source": [
    "fosph = df[(df.FUELHEAT == 3)].assign(\n",
    "    lnqfoheat = lambda df0: np.log(df0.BTUFOSPH),\n",
    "    nweight = lambda df0: df0.NWEIGHT,\n",
    "    lna = lambda df0: np.log(df0.TOTSQFT_EN),\n",
    "    yr = lambda df0: df0.YEARMADERANGE,\n",
    "    prcfosph = lambda df0: df0.PRCFOSPH,\n",
    "    hdd = lambda df0: df0.HDD65,\n",
    "    aptind = lambda df0: (df0.TYPEHUQ.isin(apartment_codes)).astype(float),\n",
    ")[[\n",
    "    \"lnqfoheat\", \"nweight\",\n",
    "    \"lna\",\n",
    "    \"yr\",\n",
    "    \"prcfosph\",\n",
    "    \"hdd\",\n",
    "    \"aptind\",\n",
    "]]\n",
    "fosph.describe()"
   ]
  },
  {
   "cell_type": "code",
   "execution_count": null,
   "id": "6e7578a1-ad96-4bf9-9ee0-d56670bc7e30",
   "metadata": {},
   "outputs": [],
   "source": [
    "ytrain_fosph = fosph.lnqfoheat\n",
    "weights = fosph.nweight\n",
    "xtrain_fosph = sm.add_constant(fosph.drop(columns=[\"lnqfoheat\", \"nweight\"]))\n",
    "model_estimator = sm.WLS(ytrain_fosph, xtrain_fosph, weights)\n",
    "model = model_estimator.fit()"
   ]
  },
  {
   "cell_type": "code",
   "execution_count": null,
   "id": "58b2ff75-9a85-4b07-9c96-47e6329e553a",
   "metadata": {},
   "outputs": [],
   "source": [
    "print(model.summary())"
   ]
  },
  {
   "cell_type": "code",
   "execution_count": null,
   "id": "ae41d425-b6b6-47ff-b9e4-ffa751a25188",
   "metadata": {},
   "outputs": [],
   "source": [
    "pd.DataFrame({\n",
    "    \"Estimate\": model.params,\n",
    "    \"Std. Error\": model.bse,\n",
    "    \"t value\": model.tvalues,\n",
    "    \"P(>|t|)\": model.pvalues\n",
    "}).style"
   ]
  },
  {
   "cell_type": "code",
   "execution_count": null,
   "id": "8c1b2012-d3de-4eb5-bc7e-0b2ebfe004de",
   "metadata": {},
   "outputs": [],
   "source": [
    "if write_energy_consumption_md:\n",
    "    pd.DataFrame({\n",
    "        \"Estimate\": model.params,\n",
    "        \"Std. Error\": model.bse,\n",
    "        \"t value\": model.tvalues,\n",
    "        \"P(>|t|)\": model.pvalues\n",
    "    }).rename_axis([\"Coefficients\"], axis=\"index\").to_markdown(\n",
    "        \"./EnergyConsumptionRegressions-fosph.md\",\n",
    "        \"a\",\n",
    "        index=True\n",
    "    )"
   ]
  },
  {
   "cell_type": "code",
   "execution_count": null,
   "id": "8eb4627b-4e8c-4291-862b-ebd63aa1ad20",
   "metadata": {},
   "outputs": [],
   "source": [
    "plt.scatter(np.log(fosph.hdd), fosph.lnqfoheat, alpha=0.5)\n",
    "plt.show()"
   ]
  },
  {
   "cell_type": "markdown",
   "id": "98f606ad-1a84-49fc-be6b-5c7f58a27ecd",
   "metadata": {},
   "source": [
    "# Fuel Oil Water Heating <a class=\"anchor\" id=\"fowth\"></a>\n",
    "(10) QNG,heat = exp(30 + ẞ1ln(n) + ẞ2Prfo,i + B3W)"
   ]
  },
  {
   "cell_type": "code",
   "execution_count": null,
   "id": "07133e95-a70d-4419-ad05-b21e0521d732",
   "metadata": {},
   "outputs": [],
   "source": [
    "df.groupby([\"FOWATER\", \"FUELHEAT\", \"FUELH2O\"]).agg(ct=(\"FOWATER\", \"count\")).loc[1].reset_index()"
   ]
  },
  {
   "cell_type": "code",
   "execution_count": null,
   "id": "654831f8-a822-4d18-aaae-a3fe56fe4120",
   "metadata": {},
   "outputs": [],
   "source": [
    "fuelcond = (df.FUELH2O == 3) \n",
    "if water_heating_uses_fuelheat: \n",
    "    fuelcond = (df.FUELHEAT == 3) & (df.BTUFOWTH > 0)"
   ]
  },
  {
   "cell_type": "code",
   "execution_count": null,
   "id": "9b6ff8b8-6b12-427d-ad19-620e62c1923c",
   "metadata": {},
   "outputs": [],
   "source": [
    "fowth = df[fuelcond].assign(\n",
    "    lnqfowth = lambda df0: np.log(df0.BTUFOWTH),\n",
    "    nweight = lambda df0: df0.NWEIGHT,\n",
    "    lnn = lambda df0: np.log(df0.NHSLDMEM),\n",
    "    prcfowth = lambda df0: df0.PRCFOWTH, # dollars per gallon\n",
    "    iswest = lambda df0: (df0.REGIONC == 4).astype (float),\n",
    ")[[\n",
    "    \"lnqfowth\", \"nweight\",\n",
    "    \"lnn\",\n",
    "    \"prcfowth\",\n",
    "    \"iswest\",\n",
    "]]\n",
    "fowth.describe()"
   ]
  },
  {
   "cell_type": "code",
   "execution_count": null,
   "id": "6426e35e-d5e4-4c54-98b9-b1b63c8957e6",
   "metadata": {},
   "outputs": [],
   "source": [
    "ytrain_fowth = fowth.lnqfowth\n",
    "weights = fowth.nweight\n",
    "xtrain_fowth = sm.add_constant(fowth.drop(columns=[\"lnqfowth\", \"nweight\"]))\n",
    "model_estimator = sm.WLS(ytrain_fowth, xtrain_fowth, weights)\n",
    "model = model_estimator.fit()"
   ]
  },
  {
   "cell_type": "code",
   "execution_count": null,
   "id": "7412d2b9-dd24-4528-b003-669bd8196beb",
   "metadata": {},
   "outputs": [],
   "source": [
    "print(model.summary())"
   ]
  },
  {
   "cell_type": "code",
   "execution_count": null,
   "id": "054c66dd-0fa9-4820-9b67-818b17c62e44",
   "metadata": {
    "scrolled": true
   },
   "outputs": [],
   "source": [
    "pd.DataFrame({\n",
    "    \"Estimate\": model.params,\n",
    "    \"Std. Error\": model.bse,\n",
    "    \"t value\": model.tvalues,\n",
    "    \"P(>|t|)\": model.pvalues\n",
    "}).style\n"
   ]
  },
  {
   "cell_type": "code",
   "execution_count": null,
   "id": "3a90cd80-c916-4250-86d0-b49ce127f19d",
   "metadata": {},
   "outputs": [],
   "source": [
    "if write_energy_consumption_md:\n",
    "    pd.DataFrame({\n",
    "        \"Estimate\": model.params,\n",
    "        \"Std. Error\": model.bse,\n",
    "        \"t value\": model.tvalues,\n",
    "        \"P(>|t|)\": model.pvalues\n",
    "    }).rename_axis([\"Coefficients\"], axis=\"index\").to_markdown(\n",
    "        \"./EnergyConsumptionRegressions-ngwth.md\",\n",
    "        \"a\",\n",
    "        index=True\n",
    "    )"
   ]
  },
  {
   "cell_type": "code",
   "execution_count": null,
   "id": "d5975613-a068-49f7-b20e-36179f3be049",
   "metadata": {},
   "outputs": [],
   "source": [
    "plt.scatter(np.log(fowth.prcfowth), fowth.lnqfowth, alpha=0.5)\n",
    "plt.show()\n"
   ]
  },
  {
   "cell_type": "code",
   "execution_count": null,
   "id": "c86a8424-249a-4f52-9bbe-e1d5f52e933d",
   "metadata": {},
   "outputs": [],
   "source": [
    "sns.boxplot(x='iswest', y='lnqfowth', data=fowth)"
   ]
  },
  {
   "cell_type": "markdown",
   "id": "765a6b45-3d3d-4e3e-802d-eba2d7e84f41",
   "metadata": {},
   "source": [
    "# Propane Space Heating <a class=\"anchor\" id=\"lpsph\"></a>\n",
    "(7) QLP,heat = exp(ẞ0 + β1ln(A) + β2HDD65,k + B3Yr + B6Type + B4W)"
   ]
  },
  {
   "cell_type": "code",
   "execution_count": null,
   "id": "67f5e7cc-e6b2-4302-af99-b3c65cdc2d6a",
   "metadata": {},
   "outputs": [],
   "source": [
    "df[[\"LPWARM\", \"FUELHEAT\"]].drop_duplicates().sort_values ([\"LPWARM\"])"
   ]
  },
  {
   "cell_type": "code",
   "execution_count": null,
   "id": "f5c807ea-081d-45b5-8569-6b0691fac94a",
   "metadata": {},
   "outputs": [],
   "source": [
    "lpsph = df[(df.FUELHEAT == 2)].assign(\n",
    "    lnqlpheat = lambda df0: np.log(df0.BTULPSPH),\n",
    "    nweight = lambda df0: df0.NWEIGHT,\n",
    "    lna = lambda df0: np.log(df0.TOTSQFT_EN),\n",
    "    hdd = lambda df0: df0.HDD65,\n",
    "    yr = lambda df0: df0.YEARMADERANGE,\n",
    "    mobileind = lambda df0: (df0.TYPEHUQ == 1).astype(float),\n",
    "    semiind = lambda df0: df0.TYPEHUQ.isin(semiattached_codes).astype(float),\n",
    "    singleind = lambda df0: (df0. TYPEHUQ == 2).astype (float),\n",
    "    iswest = (df.REGIONC == 4).astype(float),\n",
    ")[[\n",
    "    \"lnqlpheat\", \"nweight\",\n",
    "    \"lna\",\n",
    "    \"hdd\",\n",
    "    \"yr\",\n",
    "    \"mobileind\", \"semiind\", \"singleind\",\n",
    "    \"iswest\"\n",
    "]]\n",
    "lpsph.describe()"
   ]
  },
  {
   "cell_type": "code",
   "execution_count": null,
   "id": "479a822b-2941-48d4-ae80-3a497a90f0d6",
   "metadata": {},
   "outputs": [],
   "source": [
    "ytrain_lpsph = lpsph.lnqlpheat\n",
    "weights = lpsph.nweight\n",
    "xtrain_lpsph = sm.add_constant(lpsph.drop(columns=[\"lnqlpheat\", \"nweight\"]))\n",
    "model_estimator = sm.WLS(ytrain_lpsph, xtrain_lpsph, weights)"
   ]
  },
  {
   "cell_type": "code",
   "execution_count": null,
   "id": "119da4e6-a642-462c-8488-d9df9c885a8d",
   "metadata": {},
   "outputs": [],
   "source": [
    "model = model_estimator.fit()\n",
    "print(model.summary())"
   ]
  },
  {
   "cell_type": "code",
   "execution_count": null,
   "id": "128709ca-7ac9-4b9e-9baa-82da11587b6b",
   "metadata": {},
   "outputs": [],
   "source": [
    "pd.DataFrame({\n",
    "    \"Estimate\": model.params, \n",
    "    \"Std. Error\": model.bse,\n",
    "    \"t value\": model.tvalues,\n",
    "    \"P(>|t|)\": model.pvalues,\n",
    "}).style"
   ]
  },
  {
   "cell_type": "code",
   "execution_count": null,
   "id": "67a38647-3257-4227-9844-a0a19e8f55db",
   "metadata": {},
   "outputs": [],
   "source": [
    "if write_energy_consumption_md:\n",
    "    pd.DataFrame({\n",
    "        \"Estimate\": model.params,\n",
    "        \"Std. Error\": model.bse,\n",
    "        \"t value\": model.tvalues,\n",
    "        \"P(>|t|)\": model.pvalues\n",
    "    }).rename_axis([\"Coefficients\"], axis=\"index\").to_markdown(\n",
    "        \"./EnergyConsumptionRegressions-lpsph.md\",\n",
    "        \"a\",\n",
    "        index=True\n",
    "    )"
   ]
  },
  {
   "cell_type": "markdown",
   "id": "80539192-1c1d-435b-b0cb-2826016ec39c",
   "metadata": {},
   "source": [
    "# Propane Water Heating <a class=\"anchor\" id=\"lpwth\"></a>\n",
    "(8) QLP,heat = exp(ẞ0 + ẞ1ln(n) + β2ln(HDD65,k) + ẞ3Status)\n"
   ]
  },
  {
   "cell_type": "code",
   "execution_count": null,
   "id": "5e4db08c-8035-4338-9bac-806d4fc5a3c0",
   "metadata": {},
   "outputs": [],
   "source": [
    "df[[\"LPWATER\", \"FUELH2O\"]].drop_duplicates().sort_values([\"LPWATER\"])"
   ]
  },
  {
   "cell_type": "code",
   "execution_count": null,
   "id": "a32f629a-b3bc-40f2-999b-2574b3f5350a",
   "metadata": {},
   "outputs": [],
   "source": [
    "df.groupby([\"LPWATER\", \"FUELHEAT\", \"FUELH2O\"]).agg(ct=(\"LPWATER\", \"count\")).loc[1].reset_index() # Just Look at LPWATER == 1"
   ]
  },
  {
   "cell_type": "code",
   "execution_count": null,
   "id": "e8635080-eb1d-488b-b1e8-6daaad7606ce",
   "metadata": {},
   "outputs": [],
   "source": [
    "fuelcond = (df.FUELH2O == 2)\n",
    "if water_heating_uses_fuelheat: \n",
    "    fuelcond = (df.FUELHEAT == 2) & (df.BTULPWTH > 0)"
   ]
  },
  {
   "cell_type": "code",
   "execution_count": null,
   "id": "616e40e4-0fd1-415b-8304-3dee19ddbd55",
   "metadata": {},
   "outputs": [],
   "source": [
    "lpwth = df[fuelcond].assign(\n",
    "    lnqlpwth = lambda df0: np.log(df0.BTULPWTH),\n",
    "    nweight = lambda df0: df0.NWEIGHT,\n",
    "    lnn = lambda df0: np.log(df0.NHSLDMEM),\n",
    "    hdd = lambda df0: df0.HDD65,\n",
    "    isurban = lambda df0: df.UATYP10.isin([\"U\", \"C\"]).astype(float),\n",
    ")[[\n",
    "    \"lnqlpwth\", \"nweight\",\n",
    "    \"lnn\",\n",
    "    \"hdd\",\n",
    "    \"isurban\",\n",
    "]]\n",
    "lpwth.describe()"
   ]
  },
  {
   "cell_type": "code",
   "execution_count": null,
   "id": "07ed4523-38e3-4bdc-9833-5198ec281357",
   "metadata": {},
   "outputs": [],
   "source": [
    "ytrain_lpwth = lpwth.lnqlpwth\n",
    "weights = lpwth.nweight\n",
    "xtrain_lpwth = sm.add_constant(lpwth.drop(columns=[\"lnqlpwth\", \"nweight\"]))\n",
    "model_estimator = sm.WLS(ytrain_lpwth, xtrain_lpwth, weights)\n",
    "model = model_estimator.fit()"
   ]
  },
  {
   "cell_type": "code",
   "execution_count": null,
   "id": "6997ea0b-7aaa-4d24-b73c-cc423749f430",
   "metadata": {},
   "outputs": [],
   "source": [
    "print(model.summary())"
   ]
  },
  {
   "cell_type": "code",
   "execution_count": null,
   "id": "5e342e4b-6c3d-46bd-a0ea-322ae0f50f7d",
   "metadata": {},
   "outputs": [],
   "source": [
    "pd.DataFrame({\n",
    "    \"Estimate\": model.params,\n",
    "    \"Std. Error\": model.bse,\n",
    "    \"t value\": model.tvalues,\n",
    "    \"P(>|t|)\": model.pvalues\n",
    "}).style"
   ]
  },
  {
   "cell_type": "code",
   "execution_count": null,
   "id": "ee934bea-1707-4cdb-a0aa-6eb3fcd39dac",
   "metadata": {},
   "outputs": [],
   "source": [
    "if write_energy_consumption_md:\n",
    "    pd.DataFrame({\n",
    "        \"Estimate\": model.params,\n",
    "        \"Std. Error\": model.bse,\n",
    "        \"t value\": model.tvalues,\n",
    "        \"P(>|t|)\": model.pvalues\n",
    "    }).rename_axis([\"Coefficients\"], axis=\"index\").to_markdown(\n",
    "        \"./EnergyConsumptionRegressions-lpwth.md\",\n",
    "        \"a\",\n",
    "        index=True\n",
    "    )"
   ]
  },
  {
   "cell_type": "code",
   "execution_count": null,
   "id": "ae5f457a-1aeb-47f5-a038-271010e96cb3",
   "metadata": {},
   "outputs": [],
   "source": [
    "plt.scatter(np.log(lpwth.lnn), lpwth.lnqlpwth, alpha=0.5)\n",
    "plt.show()\n"
   ]
  },
  {
   "cell_type": "code",
   "execution_count": null,
   "id": "29c1979d-9e44-4b36-ab6d-f4475f129680",
   "metadata": {},
   "outputs": [],
   "source": [
    "plt.scatter(lpwth.hdd, lpwth.lnqlpwth, alpha=0.5)\n",
    "plt.show()"
   ]
  },
  {
   "cell_type": "code",
   "execution_count": null,
   "id": "f4543af9-2975-4942-b1aa-db7e262258df",
   "metadata": {},
   "outputs": [],
   "source": [
    "import seaborn as sns\n",
    "sns.boxplot(x='isurban', y='lnqlpwth', data=lpwth)"
   ]
  },
  {
   "cell_type": "code",
   "execution_count": null,
   "id": "2d751ec7-7259-467f-afb0-de6859518ab9",
   "metadata": {},
   "outputs": [],
   "source": []
  }
 ],
 "metadata": {
  "kernelspec": {
   "display_name": "Python 3",
   "language": "python",
   "name": "python3"
  },
  "language_info": {
   "codemirror_mode": {
    "name": "ipython",
    "version": 3
   },
   "file_extension": ".py",
   "mimetype": "text/x-python",
   "name": "python",
   "nbconvert_exporter": "python",
   "pygments_lexer": "ipython3",
   "version": "3.11.8"
  }
 },
 "nbformat": 4,
 "nbformat_minor": 5
}
