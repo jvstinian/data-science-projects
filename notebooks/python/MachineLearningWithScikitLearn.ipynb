{
 "cells": [
  {
   "cell_type": "markdown",
   "id": "c6127da0-b3c0-4bfc-b248-3e036ee6371f",
   "metadata": {},
   "source": [
    "# Chapter 1"
   ]
  },
  {
   "cell_type": "code",
   "execution_count": null,
   "id": "6665c535-97cb-4426-b184-d2c475c42eaf",
   "metadata": {},
   "outputs": [],
   "source": [
    "from sklearn.neighbors import KNeighborsClassifier\n",
    "from sklearn.model_selection import train_test_split\n",
    "import numpy as np"
   ]
  },
  {
   "cell_type": "code",
   "execution_count": null,
   "id": "8ffa2f80-40d8-45b2-aa8b-ae61fdc23343",
   "metadata": {},
   "outputs": [],
   "source": [
    "knn = KNeighborsClassifier(n_neighbors=15)"
   ]
  },
  {
   "cell_type": "code",
   "execution_count": null,
   "id": "89964bda-10c4-4825-9413-5330f75a5c5b",
   "metadata": {},
   "outputs": [],
   "source": [
    "knn.fit(X, y)\n",
    "knn.predict(X_new)"
   ]
  },
  {
   "cell_type": "code",
   "execution_count": null,
   "id": "8ea78490-34ac-461f-b229-fe1c6bf946bd",
   "metadata": {},
   "outputs": [],
   "source": [
    "# Measuring model performance\n",
    "# Using Iris dataset rather than what's used in the videos\n",
    "from sklearn.datasets import load_iris\n",
    "iris = load_iris(as_frame=True)\n",
    "X = iris.data[[\"sepal length (cm)\", \"sepal width (cm)\"]]\n",
    "y = iris.target"
   ]
  },
  {
   "cell_type": "code",
   "execution_count": null,
   "id": "86407da9-b013-40c0-94ef-bc1ce079ae34",
   "metadata": {},
   "outputs": [],
   "source": [
    "X_train, X_test, y_train, y_test = train_test_split(X, y, test_size=0.3, random_state=21, stratify=y)"
   ]
  },
  {
   "cell_type": "code",
   "execution_count": null,
   "id": "1e086771-edfe-431d-b6db-e4b131823c07",
   "metadata": {},
   "outputs": [],
   "source": [
    "knn = KNeighborsClassifier(n_neighbors=6)\n",
    "knn.fit(X_train, y_train)\n",
    "print(knn.score(X_test, y_test))"
   ]
  },
  {
   "cell_type": "code",
   "execution_count": null,
   "id": "2632c0e0-a052-4a1d-8bdb-5ae5c48e0eda",
   "metadata": {},
   "outputs": [],
   "source": [
    "train_accuracies = {}\n",
    "test_accuracies = {}\n",
    "neighbors = np.arange(1, 26)"
   ]
  },
  {
   "cell_type": "code",
   "execution_count": null,
   "id": "576b361e-56b2-4aba-910e-53d9bbf89a4d",
   "metadata": {},
   "outputs": [],
   "source": [
    "for neighbor in neighbors:\n",
    "    knn = KNeighborsClassifier(n_neighbors=neighbor)\n",
    "    knn.fit(X_train, y_train)\n",
    "    train_accuracies[neighbor] = knn.score(X_train, y_train)\n",
    "    test_accuracies[neighbor] = knn.score(X_test, y_test)\n"
   ]
  },
  {
   "cell_type": "code",
   "execution_count": null,
   "id": "e20f2e0d-887c-478b-a12d-bf43868285a8",
   "metadata": {},
   "outputs": [],
   "source": [
    "train_accuracies"
   ]
  },
  {
   "cell_type": "code",
   "execution_count": null,
   "id": "ab48ec7f-924c-4e4f-a508-b7778e078b46",
   "metadata": {},
   "outputs": [],
   "source": [
    "import matplotlib.pyplot as plt"
   ]
  },
  {
   "cell_type": "code",
   "execution_count": null,
   "id": "28af5cf3-307a-411f-bd66-77940826345a",
   "metadata": {},
   "outputs": [],
   "source": [
    "plt.figure(figsize=(8, 6))\n",
    "plt.title(\"KNN: Varying number of neighbors\")\n",
    "plt.plot(neighbors, train_accuracies.values(), label=\"Training accuracy\")\n",
    "plt.plot(neighbors, test_accuracies.values(), label=\"Testing accuracy\")\n",
    "plt.legend()\n",
    "plt.xlabel(\"Number of neighbors\")\n",
    "plt.ylabel(\"Accuracy\")\n",
    "plt.show()"
   ]
  },
  {
   "cell_type": "markdown",
   "id": "7ead9027-8b30-4849-9974-a6dc3cf16612",
   "metadata": {},
   "source": [
    "# Chapter 2\n",
    "We pull the diabetes data from Kaggle"
   ]
  },
  {
   "cell_type": "markdown",
   "id": "e7e59dc8-ff20-454b-84fc-ca07cdf9a63d",
   "metadata": {},
   "source": [
    "## Introduction to Regression"
   ]
  },
  {
   "cell_type": "code",
   "execution_count": null,
   "id": "2b6a54e1-c11d-4be7-9c7d-3a4a291537ef",
   "metadata": {},
   "outputs": [],
   "source": [
    "\n",
    "import pandas as pd\n",
    "diabetes_df = pd.read_csv(\n",
    "    \"https://www.kaggle.com/api/v1/datasets/download/saurabh00007/diabetescsv\", compression=\"zip\"\n",
    ").rename(\n",
    "    columns = lambda col: col.lower()\n",
    ")\n",
    "# Filter out small values of bmi\n",
    "diabetes_df= diabetes_df[\n",
    "    (diabetes_df.bmi > 1e-6) & (diabetes_df.glucose > 1e-6) # To better replicate the DataCamp data set\n",
    "]\n",
    "# diabetes_df = pd.read_csv(\"https://hbiostat.org/data/repo/diabetes.csv\")\n",
    "print(diabetes_df.head())"
   ]
  },
  {
   "cell_type": "code",
   "execution_count": null,
   "id": "3d7b7547-f5c3-41f4-aa79-ec9a763a4e9b",
   "metadata": {},
   "outputs": [],
   "source": [
    "X = diabetes_df.drop(\"glucose\", axis=1).values\n",
    "y = diabetes_df.glucose.values\n",
    "print(type(X), type(y))"
   ]
  },
  {
   "cell_type": "code",
   "execution_count": null,
   "id": "fb2a9baa-fd11-47d0-baa1-4209088b6154",
   "metadata": {},
   "outputs": [],
   "source": [
    "# The shapes are different than in the tutorial\n",
    "X_bmi = X[:, 4] # Terrible way to do this by the way\n",
    "print(y.shape, X_bmi.shape)"
   ]
  },
  {
   "cell_type": "code",
   "execution_count": null,
   "id": "0da8e506-01be-4d33-8b05-c966c03ff222",
   "metadata": {},
   "outputs": [],
   "source": [
    "X_bmi = X_bmi.reshape(-1, 1)\n",
    "print(X_bmi.shape)"
   ]
  },
  {
   "cell_type": "code",
   "execution_count": null,
   "id": "cb1a1955-31a7-4fb0-b88e-50fd154844b0",
   "metadata": {},
   "outputs": [],
   "source": [
    "import matplotlib.pyplot as plt\n",
    "plt.scatter(X_bmi, y)\n",
    "plt.ylabel(\"Blood Glucose (mg/dl)\")\n",
    "plt.xlabel(\"Body Mass Index\")\n",
    "plt.show()"
   ]
  },
  {
   "cell_type": "code",
   "execution_count": null,
   "id": "a76f85c7-1e89-4e7e-819e-5bf95a6229a2",
   "metadata": {},
   "outputs": [],
   "source": [
    "from sklearn.linear_model import LinearRegression\n",
    "reg = LinearRegression()\n",
    "reg.fit(X_bmi, y)\n",
    "predictions = reg.predict(X_bmi)\n",
    "\n",
    "plt.scatter(X_bmi, y)\n",
    "plt.plot(X_bmi, predictions, color=\"red\")\n",
    "plt.ylabel(\"Blood Glucose (mg/dl)\")\n",
    "plt.xlabel(\"Body Mass Index\")\n",
    "plt.show()"
   ]
  },
  {
   "cell_type": "markdown",
   "id": "f6441844-ca4d-4299-83a1-7cff7286810d",
   "metadata": {},
   "source": [
    "## The Basics of Linear Regression"
   ]
  },
  {
   "cell_type": "code",
   "execution_count": null,
   "id": "7a04c8bd-ea3c-4945-a676-0485509bbb8d",
   "metadata": {},
   "outputs": [],
   "source": [
    "from sklearn.model_selection import train_test_split\n",
    "from sklearn.linear_model import LinearRegression"
   ]
  },
  {
   "cell_type": "code",
   "execution_count": null,
   "id": "d991b3f0-2929-431e-a45f-1e0fba5872ca",
   "metadata": {},
   "outputs": [],
   "source": [
    "X_train, X_test, y_train, y_test = train_test_split(X, y, test_size=0.3, random_state=42)\n",
    "\n",
    "reg_all = LinearRegression()\n",
    "reg_all.fit(X_train, y_train)\n",
    "y_pred = reg_all.predict(X_test)"
   ]
  },
  {
   "cell_type": "code",
   "execution_count": null,
   "id": "234ed7ba-dbfa-49b3-ba62-74e951575043",
   "metadata": {},
   "outputs": [],
   "source": [
    "reg_all.score(X_test, y_test)"
   ]
  },
  {
   "cell_type": "code",
   "execution_count": null,
   "id": "cf4eaf98-ea88-47dc-a4f0-e7eedfa45b13",
   "metadata": {},
   "outputs": [],
   "source": [
    "from sklearn.metrics import mean_squared_error, root_mean_squared_error\n",
    "print(mean_squared_error(y_test, y_pred)) # looks like squared=False is no longer supported\n",
    "print(root_mean_squared_error(y_test, y_pred)) # looks like squared=False is no longer supported"
   ]
  },
  {
   "cell_type": "markdown",
   "id": "4d76d355-77d7-4fb3-b6a3-d4b332bede13",
   "metadata": {},
   "source": [
    "## Cross-validation"
   ]
  },
  {
   "cell_type": "code",
   "execution_count": null,
   "id": "1b468d3a-c460-48ff-9e78-af446e0d65cd",
   "metadata": {},
   "outputs": [],
   "source": [
    "from sklearn.model_selection import cross_val_score, KFold\n",
    "kf = KFold(n_splits=6, shuffle=True, random_state=42)\n",
    "reg = LinearRegression()\n",
    "cv_results = cross_val_score(reg, X, y, cv=kf)"
   ]
  },
  {
   "cell_type": "code",
   "execution_count": null,
   "id": "39184d04-1c75-4df2-9c87-2951a506ac8c",
   "metadata": {},
   "outputs": [],
   "source": [
    "print(cv_results)"
   ]
  },
  {
   "cell_type": "code",
   "execution_count": null,
   "id": "9f496677-60f7-4d3b-bebd-f87acce900ec",
   "metadata": {},
   "outputs": [],
   "source": [
    "print(np.mean(cv_results), np.std(cv_results))"
   ]
  },
  {
   "cell_type": "code",
   "execution_count": null,
   "id": "4a1e97fa-bdae-4c3f-946b-22e28a4a6a50",
   "metadata": {},
   "outputs": [],
   "source": [
    "print(np.quantile(cv_results, [0.025, 0.975]))"
   ]
  },
  {
   "cell_type": "markdown",
   "id": "2566d37f-8600-4044-b911-4e210ac6843b",
   "metadata": {},
   "source": [
    "## Regularized Regression\n",
    "Lasso can select important features of a dataset"
   ]
  },
  {
   "cell_type": "code",
   "execution_count": null,
   "id": "bc1c1099-ec98-489f-ba2c-068ac92dafbd",
   "metadata": {},
   "outputs": [],
   "source": [
    "from sklearn.linear_model import Ridge\n",
    "scores = []\n",
    "for alpha in [0.1, 1.0, 10.0, 100.0, 1000.0]:\n",
    "    ridge = Ridge(alpha=alpha)\n",
    "    ridge.fit(X_train, y_train)\n",
    "    y_pred = ridge.predict(X_test) # NOTE: Not used\n",
    "    score = ridge.score(X_test, y_test)\n",
    "    scores.append(score)\n",
    "print(scores)"
   ]
  },
  {
   "cell_type": "code",
   "execution_count": null,
   "id": "31df4061-9714-4aa2-b20b-d6a031547e44",
   "metadata": {},
   "outputs": [],
   "source": [
    "from sklearn.linear_model import Lasso\n",
    "scores = []\n",
    "for alpha in [0.01, 1.0, 10.0, 20.0, 50.0]:\n",
    "    lasso = Ridge(alpha=alpha)\n",
    "    lasso.fit(X_train, y_train)\n",
    "    y_pred = ridge.predict(X_test)\n",
    "    score = lasso.score(X_test, y_test)\n",
    "    scores.append(score)\n",
    "    \n",
    "print(scores)"
   ]
  },
  {
   "cell_type": "code",
   "execution_count": null,
   "id": "3ce941df-f542-47b4-b33d-7cac45e09394",
   "metadata": {},
   "outputs": [],
   "source": [
    "from sklearn.linear_model import Lasso\n",
    "# NOTE: Note the column name change here, mainly to make bar chart rendering a bit better\n",
    "X = diabetes_df.rename(columns={\"diabetespedigreefunction\": \"dpf\"}).drop(\"glucose\", axis=1).values\n",
    "y = diabetes_df.glucose.values\n",
    "names = diabetes_df.rename(columns={\"diabetespedigreefunction\": \"dpf\"}).drop(\"glucose\", axis=1).columns\n",
    "\n",
    "lasso = Lasso(alpha=0.1)\n",
    "lasso_coef = lasso.fit(X,y).coef_\n",
    "\n",
    "plt.bar(names, lasso_coef)\n",
    "plt.xticks(rotation=45)\n",
    "plt.show()\n"
   ]
  },
  {
   "cell_type": "markdown",
   "id": "a4085307-caed-4237-8b26-7a80687873f8",
   "metadata": {},
   "source": [
    "# Chapter 3: Fine-Tuning Your Model"
   ]
  },
  {
   "cell_type": "markdown",
   "id": "d97f35dd-0f09-4170-bf61-3d652d647c2b",
   "metadata": {},
   "source": [
    "## How good is your model?"
   ]
  },
  {
   "cell_type": "code",
   "execution_count": null,
   "id": "28bf098f-e6d3-4996-abee-29985776d11e",
   "metadata": {},
   "outputs": [],
   "source": [
    "from sklearn.neighbors import KNeighborsClassifier\n",
    "from sklearn.metrics import classification_report, confusion_matrix\n",
    "from sklearn.model_selection import train_test_split\n",
    "import numpy as np"
   ]
  },
  {
   "cell_type": "code",
   "execution_count": null,
   "id": "8fc4d60b-0fc1-46d7-8b17-063a9ed83bb6",
   "metadata": {},
   "outputs": [],
   "source": [
    "# Measuring model performance\n",
    "# Using Iris dataset rather than what's used in the videos\n",
    "from sklearn.datasets import load_iris\n",
    "iris = load_iris(as_frame=True)\n",
    "X = iris.data[[\"sepal length (cm)\", \"sepal width (cm)\"]]\n",
    "y = iris.target"
   ]
  },
  {
   "cell_type": "code",
   "execution_count": null,
   "id": "e9e5f9c0-7a23-476f-b980-e0b6ba2b3065",
   "metadata": {},
   "outputs": [],
   "source": [
    "knn = KNeighborsClassifier(n_neighbors=7)\n",
    "X_train, X_test, y_train, y_test = train_test_split(X, y, test_size=0.4, random_state=42)\n",
    "knn.fit(X_train, y_train)\n",
    "y_pred = knn.predict(X_test)"
   ]
  },
  {
   "cell_type": "code",
   "execution_count": null,
   "id": "94cdc398-04fa-4125-99d3-0b2a3881393b",
   "metadata": {},
   "outputs": [],
   "source": [
    "print(confusion_matrix(y_test, y_pred))"
   ]
  },
  {
   "cell_type": "code",
   "execution_count": null,
   "id": "d722fb65-1cbe-41fe-a97e-c8ad7a167e3c",
   "metadata": {},
   "outputs": [],
   "source": [
    "print(classification_report(y_test, y_pred))"
   ]
  },
  {
   "cell_type": "code",
   "execution_count": null,
   "id": "7da4b419-d8f6-4c85-9231-41f407114d20",
   "metadata": {},
   "outputs": [],
   "source": [
    "iris.target.value_counts()"
   ]
  },
  {
   "cell_type": "markdown",
   "id": "31b57b02-91a6-4e27-9339-d0430f4470a3",
   "metadata": {},
   "source": [
    "## Logistic Regression and the ROC Curve"
   ]
  },
  {
   "cell_type": "code",
   "execution_count": null,
   "id": "bed3d1a9-6231-4ec0-8ccb-031ef282afed",
   "metadata": {},
   "outputs": [],
   "source": [
    "# Measuring model performance\n",
    "# Using breast cancer dataset for binary classification\n",
    "from sklearn.datasets import load_breast_cancer\n",
    "dataset = load_breast_cancer(as_frame=True)\n",
    "X = dataset.data\n",
    "y = dataset.target"
   ]
  },
  {
   "cell_type": "code",
   "execution_count": null,
   "id": "bbd1184a-e8e2-477d-816f-45e086c47039",
   "metadata": {},
   "outputs": [],
   "source": [
    "# from sklearn.model_selection import train_test_split\n",
    "from sklearn.linear_model import LogisticRegression"
   ]
  },
  {
   "cell_type": "code",
   "execution_count": null,
   "id": "ecf5b21b-fa10-477c-b0b6-a1c52fb78b63",
   "metadata": {},
   "outputs": [],
   "source": [
    "X_train, X_test, y_train, y_test = train_test_split(X, y, test_size=0.3, random_state=42)\n",
    "\n",
    "reg = LogisticRegression(max_iter=3000)\n",
    "reg.fit(X_train, y_train)\n",
    "y_pred = reg.predict(X_test)"
   ]
  },
  {
   "cell_type": "code",
   "execution_count": null,
   "id": "fd939a9d-eb2b-4967-9188-4e42080110c6",
   "metadata": {},
   "outputs": [],
   "source": [
    "reg.score(X_test, y_test)"
   ]
  },
  {
   "cell_type": "code",
   "execution_count": null,
   "id": "733c9976-3f99-4fd5-8d36-336e1c8d139d",
   "metadata": {},
   "outputs": [],
   "source": [
    "y_pred_probs = reg.predict_proba(X_test)[:, 1]\n",
    "print(y_pred_probs[0:5])"
   ]
  },
  {
   "cell_type": "code",
   "execution_count": null,
   "id": "8f39b5ca-3de4-446d-93fe-0265e3efe063",
   "metadata": {},
   "outputs": [],
   "source": [
    "from sklearn.metrics import roc_curve\n",
    "fpr, tpr, thresholds = roc_curve(y_test, y_pred_probs)\n",
    "plt.plot([0, 1], [0, 1], 'k--')\n",
    "plt.plot(fpr, tpr)\n",
    "plt.xlabel('False Positive Rate')\n",
    "plt.ylabel('True Positive Rate')\n",
    "plt.title('Logistic Regression ROC Curve')\n",
    "plt.show()"
   ]
  },
  {
   "cell_type": "code",
   "execution_count": null,
   "id": "aefd04da-9984-419a-ad9b-f3bd11661ab5",
   "metadata": {},
   "outputs": [],
   "source": [
    "from sklearn.metrics import roc_auc_score\n",
    "print(roc_auc_score(y_test, y_pred_probs))"
   ]
  },
  {
   "cell_type": "code",
   "execution_count": null,
   "id": "69e163d3-2d30-45a1-be5b-1e703182616f",
   "metadata": {},
   "outputs": [],
   "source": [
    "# Manually checking fpr and tpr\n",
    "threshold = thresholds[5]\n",
    "print(fpr[5], tpr[5])\n",
    "# vals, cts = np.unique(y_test[y_pred_probs >= threshold], return_counts=True) # WRONG\n",
    "vals, cts = np.unique((y_pred_probs >= threshold).astype(int)[y_test == 1], return_counts=True)\n",
    "print(\"Estimate of TPR: \", cts[1]/(cts[1] + cts[0])) \n",
    "vals, cts = np.unique((y_pred_probs >= threshold).astype(int)[y_test == 0], return_counts=True) # WRONG\n",
    "print(\"Estimate of FPR: \", cts[1]/(cts[1] + cts[0])) "
   ]
  },
  {
   "cell_type": "code",
   "execution_count": null,
   "id": "3d6a80ae-e6d1-4661-bfac-ed7dd91f8171",
   "metadata": {},
   "outputs": [],
   "source": [
    "print(confusion_matrix(y_test, (y_pred_probs >= thresholds[5]).astype(int)))"
   ]
  },
  {
   "cell_type": "markdown",
   "id": "30a7a6d9-e6ae-4324-bdb4-38802a1e7ad1",
   "metadata": {},
   "source": [
    "## Hyperparameter Tuning"
   ]
  },
  {
   "cell_type": "code",
   "execution_count": null,
   "id": "277983e5-2d04-468d-88f1-aeab82bd6205",
   "metadata": {},
   "outputs": [],
   "source": [
    "# Reading the diabetes dataset back in\n",
    "import pandas as pd\n",
    "diabetes_df = pd.read_csv(\n",
    "    \"https://www.kaggle.com/api/v1/datasets/download/saurabh00007/diabetescsv\", compression=\"zip\"\n",
    ").rename(\n",
    "    columns = lambda col: col.lower()\n",
    ")\n",
    "# Filter out small values of bmi\n",
    "diabetes_df= diabetes_df[\n",
    "    (diabetes_df.bmi > 1e-6) & (diabetes_df.glucose > 1e-6) # To better replicate the DataCamp data set\n",
    "]\n",
    "print(diabetes_df.head())\n",
    "\n",
    "X = diabetes_df.drop(\"glucose\", axis=1).values\n",
    "y = diabetes_df.glucose.values\n",
    "print(type(X), type(y))"
   ]
  },
  {
   "cell_type": "code",
   "execution_count": null,
   "id": "52fe9658-8c83-4b2b-987b-c6d9cd7025ff",
   "metadata": {},
   "outputs": [],
   "source": [
    "from sklearn.model_selection import train_test_split\n",
    "X_train, X_test, y_train, y_test = train_test_split(X, y, test_size=0.3, random_state=42)"
   ]
  },
  {
   "cell_type": "code",
   "execution_count": null,
   "id": "14745894-7b21-4794-89c0-7303ef7692a7",
   "metadata": {},
   "outputs": [],
   "source": [
    "from sklearn.model_selection import GridSearchCV, KFold # , cross_val_score\n",
    "from sklearn.linear_model import Ridge\n",
    "kf = KFold(n_splits=5, shuffle=True, random_state=42)\n",
    "param_grid = {\"alpha\": np.arange(0.0001, 1, 10), \"solver\": [\"sag\", \"lsqr\"]}\n",
    "reg = Ridge()\n",
    "ridge_cv = GridSearchCV(ridge, param_grid, cv=kf)\n",
    "ridge_cv.fit(X_train, y_train)\n",
    "print(ridge_cv.best_params_, ridge_cv.best_score_)"
   ]
  },
  {
   "cell_type": "code",
   "execution_count": null,
   "id": "ebadfb60-e674-4472-8560-a33ff553ae77",
   "metadata": {},
   "outputs": [],
   "source": [
    "from sklearn.model_selection import RandomizedSearchCV, KFold\n",
    "from sklearn.linear_model import Ridge\n",
    "kf = KFold(n_splits=5, shuffle=True, random_state=42)\n",
    "param_grid = {\"alpha\": np.arange(0.0001, 1, 10), \"solver\": [\"sag\", \"lsqr\"]}\n",
    "reg = Ridge()\n",
    "ridge_cv = RandomizedSearchCV(ridge, param_grid, cv=kf, n_iter=2)\n",
    "ridge_cv.fit(X_train, y_train)\n",
    "print(ridge_cv.best_params_, ridge_cv.best_score_)"
   ]
  },
  {
   "cell_type": "code",
   "execution_count": null,
   "id": "659eedda-8fbb-456a-abac-394b6c9c480f",
   "metadata": {},
   "outputs": [],
   "source": [
    "test_score = ridge_cv.score(X_test, y_test)\n",
    "print(test_score)"
   ]
  },
  {
   "cell_type": "markdown",
   "id": "68967d0f-1eb4-40bf-a3fd-a281eaa44d03",
   "metadata": {},
   "source": [
    "# Chapter 4: Preprocessing and Pipelines"
   ]
  },
  {
   "cell_type": "markdown",
   "id": "8ef02bc4-c254-41c6-b3f1-da112908810a",
   "metadata": {},
   "source": [
    "## Preprocessing data"
   ]
  },
  {
   "cell_type": "code",
   "execution_count": null,
   "id": "3c736fc8-df43-456b-9894-8307678f9c47",
   "metadata": {},
   "outputs": [],
   "source": [
    "import pandas as pd\n",
    "music_df = pd.read_csv(\n",
    "    # 'https://www.kaggle.com/api/v1/datasets/download/shantanuchaubey/musiccsv',\n",
    "    'https://www.kaggle.com/api/v1/datasets/download/saurabhshahane/music-dataset-1950-to-2019', \n",
    "    # 'https://www.kaggle.com/api/v1/datasets/download/akiboy96/spotify-hit-predictor-merged-with-genre',\n",
    "    compression='zip'\n",
    ")\n",
    "music_dummies = pd.get_dummies(music_df[\"genre\"], drop_first=True)\n",
    "print(music_dummies.head())"
   ]
  },
  {
   "cell_type": "code",
   "execution_count": null,
   "id": "5cb4b711-9efc-4d9a-890f-4bee2385b170",
   "metadata": {},
   "outputs": [],
   "source": [
    "music_df.head()"
   ]
  },
  {
   "cell_type": "code",
   "execution_count": null,
   "id": "37c67f75-5238-4b04-a6d3-d99e0e825251",
   "metadata": {},
   "outputs": [],
   "source": [
    "music_dummies2 = pd.concat([music_df, music_dummies], axis=1)\n",
    "music_dummies2 = music_dummies2.drop(\"genre\", axis=1)"
   ]
  },
  {
   "cell_type": "code",
   "execution_count": null,
   "id": "6182c5bd-0197-4233-a6a3-9da4cf106ec8",
   "metadata": {},
   "outputs": [],
   "source": [
    "# # Encoding dummy variables\n",
    "# music_dummies = pd.get_dummies(music_df, drop_first=True)\n",
    "# print(music_dummies.columns)"
   ]
  },
  {
   "cell_type": "code",
   "execution_count": null,
   "id": "5bc32700-2ace-4ca2-958c-eaf328fd358d",
   "metadata": {},
   "outputs": [],
   "source": [
    "# Linear regression with dummy variables\n",
    "from sklearn.model_selection import cross_val_score, KFold, train_test_split\n",
    "from sklearn.linear_model import LinearRegression\n",
    "import numpy as np\n",
    "\n",
    "# I couldn't find the data set online, so making some adjustments\n",
    "data = pd.concat([music_df[[\"release_date\", \"loudness\"]], music_dummies], axis=1)\n",
    "# music_dummies = music_dummies.drop(\"genre\", axis=1)\n",
    "response_variable = \"loudness\" # \"popularity\" "
   ]
  },
  {
   "cell_type": "code",
   "execution_count": null,
   "id": "1bcf1ff3-61fb-4a75-914a-07573ed46a74",
   "metadata": {},
   "outputs": [],
   "source": [
    "data"
   ]
  },
  {
   "cell_type": "code",
   "execution_count": null,
   "id": "df607c9e-17e1-44c6-8a43-f7f8c8281cfb",
   "metadata": {},
   "outputs": [],
   "source": [
    "X = data.drop(response_variable, axis=1).values\n",
    "y = data[response_variable].values\n",
    "\n",
    "X_train, X_test, y_train, y_test = train_test_split(X, y, test_size=0.2, random_state=42)\n",
    "kf = KFold(n_splits=5, shuffle=True, random_state=42)"
   ]
  },
  {
   "cell_type": "code",
   "execution_count": null,
   "id": "241320e3-d518-4a36-8053-5afe1eaf398a",
   "metadata": {},
   "outputs": [],
   "source": [
    "linreg= LinearRegression()\n",
    "linreg_cv = cross_val_score(linreg, X_train, y_train, cv=kf, scoring=\"neg_mean_squared_error\")"
   ]
  },
  {
   "cell_type": "code",
   "execution_count": null,
   "id": "0c3d95aa-98f4-4e35-bb10-4b2b2690ebd9",
   "metadata": {},
   "outputs": [],
   "source": [
    "print(np.sqrt(-linreg_cv))"
   ]
  },
  {
   "cell_type": "markdown",
   "id": "8bfb256e-e992-42c2-b0a1-2092fd4dfa2c",
   "metadata": {},
   "source": [
    "## Handling missing data\n",
    "This section is not run as we don't have the actual data set."
   ]
  },
  {
   "cell_type": "code",
   "execution_count": null,
   "id": "c3b82834-ef2a-41d6-9f11-328feb2fc938",
   "metadata": {},
   "outputs": [],
   "source": [
    "# Dropping missing data\n",
    "music_df = music_df.dropna(subset=[\"genre\", \"popularity\", \"Loudness\", \"Liveness\", \"tempo\"])\n",
    "print(music_df.isna().sum().sort_values())"
   ]
  },
  {
   "cell_type": "code",
   "execution_count": null,
   "id": "507a3475-6ca5-4a80-adc1-d19735d32eef",
   "metadata": {},
   "outputs": [],
   "source": [
    "# Imputation with scikit-learn\n",
    "from sklearn.impute import SimpleImputer\n",
    "X_cat = music_df[\"genre\"].values.reshape(-1, 1)\n",
    "X_num = music_df.drop([\"genre\", \"popularity\"], axis=1).values\n",
    "y=music_df[\"popularity\"].values\n",
    "\n",
    "X_train_cat, X_test_cat, y_train, y_test = train_test_split(\n",
    "    X_cat, y, test_size=0.2, random_state=12\n",
    ")\n",
    "X_train_num, X_test_num, y_train, y_test train_test_split(\n",
    "    X_num, y, test_size=0.2, random_state=12\n",
    ")\n",
    "\n",
    "imp_cat = SimpleImputer(strategy=\"most_frequent\")\n",
    "X_train_cat = imp_cat.fit_transform(X_train_cat)\n",
    "X_test_cat = imp_cat.transform(X_test_cat)\n",
    "\n",
    "imp_num = SimpleImputer()\n",
    "X_train_num = imp_num.fit_transform(X_train_num)\n",
    "X_test_num = imp_num.fit_transform(X_test_num)\n",
    "X_train = np.append(X_train_num, X_train_cat, axis=1)\n",
    "X_test = np.append(X_test_num, X_test_cat, axis=1)\n"
   ]
  },
  {
   "cell_type": "code",
   "execution_count": null,
   "id": "c97cd4fa-9289-4abc-bedd-1f03455eb017",
   "metadata": {},
   "outputs": [],
   "source": [
    "from sklearn.pipeline import Pipeline\n",
    "music_df = music_df.dropna(subset=[\"genre\", \"popularity\", \"Loudness\", \"Liveness\", \"tempo\"])\n",
    "music_df[\"genre\"] = np.where(music_df[\"genre\"] == \"Rock\", 1, 0)\n",
    "X = music_df.drop(\"genre\", axis=1).values\n",
    "y = music_df[\"genre\"].values"
   ]
  },
  {
   "cell_type": "code",
   "execution_count": null,
   "id": "1a1b8836-c5a1-4708-886c-e34a2b44a438",
   "metadata": {},
   "outputs": [],
   "source": [
    "steps = [(\"imputation\", SimpleImputer()), (\"logistic_regresion\", LogisticRegression())]\n",
    "pipeline = Pipeline(steps)\n",
    "X_train, X_test, y_train, y_test = train_test_split(X, y, test_size=0.3, random_state=42)\n",
    "pipeline.fit(X_train, y_train)\n",
    "pipeline.score(X_test, y_test)"
   ]
  },
  {
   "cell_type": "markdown",
   "id": "8b1d4352-ec7d-4df8-b7de-fe60bd41665c",
   "metadata": {},
   "source": [
    "## Centering and scaling"
   ]
  },
  {
   "cell_type": "code",
   "execution_count": null,
   "id": "118211b7-50f4-47ab-9cc7-8a0811011fc1",
   "metadata": {},
   "outputs": [],
   "source": [
    "# Scaling in scikit-learn\n",
    "from sklearn.preprocessing import StandardScaler\n",
    "\n",
    "X = music_df.drop(\"genre\", axis=1).values\n",
    "y = music_df[\"genre\"].values\n",
    "\n",
    "X_train, X_test, y_train, y_test = train_test_split(\n",
    "    X, y, test_size=0.2, random_state=42\n",
    ")\n",
    "\n",
    "scaler = StandardScaler()\n",
    "\n",
    "X_train_scaled = scaler.fit_transform(X_train)\n",
    "X_test_scaled = scaler.transform(X_test)\n",
    "\n",
    "print(np.mean(X), np.std(X))\n",
    "print(np.mean(X_train_scaled), np.std(X_train_scaled))"
   ]
  },
  {
   "cell_type": "code",
   "execution_count": null,
   "id": "43da7448-8efe-4eb9-99b4-8c39e5d4fe74",
   "metadata": {},
   "outputs": [],
   "source": [
    "# Scaling in a pipeline\n",
    "steps = [\n",
    "    ('scaler', StandardScaler()),\n",
    "    ('knn', KNeighborsClassifier(n_neighbors=6))\n",
    "]\n",
    "pipeline = Pipeline(steps)\n",
    "\n",
    "X_train, X_test, y_train, y_test = train_test_split(\n",
    "    X, y, test_size=0.2, random_state=21\n",
    ")\n",
    "\n",
    "knn_scaled = pipeline.fit(X_train, y_train)\n",
    "y_pred = knn_scaled.predict(X_test)\n",
    "print(knn_scaled.score(X_test, y_test))"
   ]
  },
  {
   "cell_type": "code",
   "execution_count": null,
   "id": "0a6e9e4b-8342-4e49-9776-10d426001b71",
   "metadata": {},
   "outputs": [],
   "source": [
    "# Comparing performance using unscaled data\n",
    "X_train, X_test, y_train, y_test = train_test_split(\n",
    "    X, y, test_size=0.2, random_state=21\n",
    ")\n",
    "\n",
    "knn_unscaled = KNeighborsClassifier(n_neighbors=6).fit(X_train, y_train)\n",
    "print(knn_unscaled.score(X_test, y_test))"
   ]
  },
  {
   "cell_type": "code",
   "execution_count": null,
   "id": "d1f09729-6616-4a94-b10b-b2edabc65519",
   "metadata": {},
   "outputs": [],
   "source": [
    "# CV and scaling in a pipeline\n",
    "from sklearn.model_selection import GridSearchCV\n",
    "steps = [\n",
    "    ('scaler', StandardScaler()),\n",
    "    ('knn', KNeighborsClassifier())\n",
    "]\n",
    "pipeline = Pipeline (steps)\n",
    "parameters = {\"knn__n_neighbors\": np.arange(1, 50)}\n",
    "\n",
    "X_train, X_test, y_train, y_test = train_test_split(\n",
    "    X, y, test_size=0.2, random_state=21\n",
    ")\n",
    "cv = GridSearchCV(pipeline, param_grid=parameters)\n",
    "cv.fit(X_train, y_train)\n",
    "\n",
    "y_pred = cv.predict(X_test)\n",
    "print(cv.best_score_)\n",
    "print(cv.best_params_)"
   ]
  },
  {
   "cell_type": "markdown",
   "id": "3417c717-4ce1-42ff-8b20-97006860ae1d",
   "metadata": {},
   "source": [
    "## Evaluating multiple models"
   ]
  },
  {
   "cell_type": "code",
   "execution_count": null,
   "id": "072ace91-e349-485e-8e3a-53ed62572632",
   "metadata": {},
   "outputs": [],
   "source": [
    "music_df"
   ]
  },
  {
   "cell_type": "code",
   "execution_count": null,
   "id": "03841b4a-8a0a-41f3-ae5d-fc9fe88568f1",
   "metadata": {},
   "outputs": [],
   "source": [
    "# Evaluating classification models\n",
    "import matplotlib.pyplot as plt\n",
    "from sklearn.preprocessing import StandardScaler\n",
    "from sklearn.model_selection import cross_val_score, KFold, train_test_split\n",
    "from sklearn.neighbors import KNeighborsClassifier\n",
    "from sklearn.linear_model import LogisticRegression\n",
    "from sklearn.tree import DecisionTreeClassifier\n",
    "\n",
    "# This time we'll use the actual DataCamp music data set\n",
    "import pandas as pd\n",
    "music_df = pd.read_csv(\n",
    "    \"/home/justinian/Code/datascience-miscellaneous/notebooks/python/music_clean.csv\"\n",
    ").drop(\n",
    "    columns=[\"Unnamed: 0\"]\n",
    ")\n",
    "# music_dummies = pd.get_dummies(music_df[\"genre\"], drop_first=True)\n",
    "# music = pd.concat([music_df, music_dummies], axis=1)\n",
    "# This cleaned data set seems to have a simple form of the genre column, no need to create dummies\n",
    "music = music_df\n",
    "\n",
    "X = music.drop(\"genre\", axis=1).values\n",
    "y = music[\"genre\"].values\n",
    "X_train, X_test, y_train, y_test = train_test_split(X, y, random_state=42)\n",
    "scaler = StandardScaler()\n",
    "X_train_scaled = scaler.fit_transform(X_train)\n",
    "X_test_scaled = scaler.transform(X_test)"
   ]
  },
  {
   "cell_type": "code",
   "execution_count": null,
   "id": "bf714f0f-3659-4c85-b48e-7e9be918e4b5",
   "metadata": {},
   "outputs": [],
   "source": [
    "# Evaluating classification models\n",
    "models = {\n",
    "    \"Logistic Regression\": LogisticRegression(), \n",
    "    \"KNN\": KNeighborsClassifier(),\n",
    "    \"Decision Tree\": DecisionTreeClassifier()\n",
    "}\n",
    "\n",
    "results = []\n",
    "for model in models.values():\n",
    "    kf = KFold(n_splits=6, random_state=42, shuffle=True)\n",
    "    cv_results = cross_val_score(model, X_train_scaled, y_train, cv=kf)\n",
    "    results.append(cv_results)\n",
    "\n",
    "plt.boxplot(results, labels=models.keys())\n",
    "plt.show()"
   ]
  },
  {
   "cell_type": "code",
   "execution_count": null,
   "id": "54423028-2446-4b26-b579-5c241e1bcab0",
   "metadata": {},
   "outputs": [],
   "source": [
    "# Test set performance\n",
    "for name, model in models.items():\n",
    "    model.fit(X_train_scaled, y_train)\n",
    "    test_score = model.score(X_test_scaled, y_test)\n",
    "    print(\"{} Test Set Accuracy: {}\".format(name, test_score))"
   ]
  },
  {
   "cell_type": "markdown",
   "id": "d6312734-9f24-432a-b7bb-aa3632e0bd69",
   "metadata": {},
   "source": [
    "# Experiments"
   ]
  },
  {
   "cell_type": "code",
   "execution_count": null,
   "id": "5621e51c-5d22-47a3-a40f-1aa88e1c7a65",
   "metadata": {},
   "outputs": [],
   "source": [
    "from sklearn.neighbors import KDTree\n",
    "import numpy as np\n",
    "X = np.array([[-1, -1], [-2, -1], [-3, -2], [1, 1], [2, 1], [3, 2]])\n",
    "kdt = KDTree(X, leaf_size=30, metric='euclidean')\n",
    "kdt.query(X, k=2, return_distance=False)"
   ]
  },
  {
   "cell_type": "code",
   "execution_count": null,
   "id": "c9d25ef0-4a5e-4210-aaaf-a626767c1296",
   "metadata": {},
   "outputs": [],
   "source": [
    "kdt.get_arrays()"
   ]
  },
  {
   "cell_type": "code",
   "execution_count": null,
   "id": "1771dcae-e962-4791-a68b-49bfde31a37e",
   "metadata": {},
   "outputs": [],
   "source": []
  }
 ],
 "metadata": {
  "kernelspec": {
   "display_name": "Python 3",
   "language": "python",
   "name": "python3"
  },
  "language_info": {
   "codemirror_mode": {
    "name": "ipython",
    "version": 3
   },
   "file_extension": ".py",
   "mimetype": "text/x-python",
   "name": "python",
   "nbconvert_exporter": "python",
   "pygments_lexer": "ipython3",
   "version": "3.12.10"
  }
 },
 "nbformat": 4,
 "nbformat_minor": 5
}
